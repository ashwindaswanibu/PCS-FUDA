{
 "cells": [
  {
   "cell_type": "code",
   "execution_count": 28,
   "metadata": {},
   "outputs": [
    {
     "ename": "RuntimeError",
     "evalue": "The size of tensor a (30) must match the size of tensor b (512) at non-singleton dimension 2",
     "output_type": "error",
     "traceback": [
      "\u001b[0;31m---------------------------------------------------------------------------\u001b[0m",
      "\u001b[0;31mRuntimeError\u001b[0m                              Traceback (most recent call last)",
      "Cell \u001b[0;32mIn [28], line 45\u001b[0m\n\u001b[1;32m     17\u001b[0m     \u001b[39mprint\u001b[39m(torch\u001b[39m.\u001b[39mmasked_select(embedding, masks, out\u001b[39m=\u001b[39m\u001b[39mNone\u001b[39;00m)\u001b[39m.\u001b[39mshape)\n\u001b[1;32m     18\u001b[0m     \u001b[39m# # get all indices of masks which have the same value\u001b[39;00m\n\u001b[1;32m     19\u001b[0m    \n\u001b[1;32m     20\u001b[0m     \n\u001b[0;32m   (...)\u001b[0m\n\u001b[1;32m     37\u001b[0m     \u001b[39m# # #print(mean_values[0].shape)\u001b[39;00m\n\u001b[1;32m     38\u001b[0m     \u001b[39m# return dictionary\u001b[39;00m\n\u001b[0;32m---> 45\u001b[0m masked_select(embedding, masks, \u001b[39mNone\u001b[39;49;00m)\n\u001b[1;32m     46\u001b[0m \u001b[39m# print(dictio)\u001b[39;00m\n\u001b[1;32m     48\u001b[0m \u001b[39mprint\u001b[39m(\u001b[39m\"\u001b[39m\u001b[39m====================================\u001b[39m\u001b[39m\"\u001b[39m)\n",
      "Cell \u001b[0;32mIn [28], line 17\u001b[0m, in \u001b[0;36mmasked_select\u001b[0;34m(embedding, masks, model)\u001b[0m\n\u001b[1;32m     10\u001b[0m \u001b[39mdef\u001b[39;00m \u001b[39mmasked_select\u001b[39m(embedding, masks, model):\n\u001b[1;32m     11\u001b[0m     \u001b[39m# embedding size: (batch_size, 8, 8, 512)\u001b[39;00m\n\u001b[1;32m     12\u001b[0m     \u001b[39m# masks size: (batch_size, 8, 8, 1)\u001b[39;00m\n\u001b[1;32m     13\u001b[0m     \u001b[39m# unique_masks = torch.unique(masks)\u001b[39;00m\n\u001b[0;32m---> 17\u001b[0m     \u001b[39mprint\u001b[39m(torch\u001b[39m.\u001b[39;49mmasked_select(embedding, masks, out\u001b[39m=\u001b[39;49m\u001b[39mNone\u001b[39;49;00m)\u001b[39m.\u001b[39mshape)\n",
      "\u001b[0;31mRuntimeError\u001b[0m: The size of tensor a (30) must match the size of tensor b (512) at non-singleton dimension 2"
     ]
    }
   ],
   "source": [
    "import torch\n",
    "import numpy as np\n",
    "\n",
    "# create a boolean tensor of shape (8, 8, 30)\n",
    "masks = torch.randint(0, 2, size=(8, 8, 30), dtype=torch.bool)\n",
    "embedding = np.random.randint(0, 200, size=(8, 8, 512))\n",
    "embedding = torch.from_numpy(embedding)\n",
    "\n",
    "\n",
    "def masked_select(embedding, masks, model):\n",
    "    # embedding size: (batch_size, 8, 8, 512)\n",
    "    # masks size: (batch_size, 8, 8, 1)\n",
    "    # unique_masks = torch.unique(masks)\n",
    "    for c in range(masks.shape[-1]):\n",
    "        print(masks[:, :, c].shape)\n",
    "        print(embedding[:, :, c].shape)\n",
    "        print(torch.masked_select(embedding[:, :, c], masks[:, :, c], out=None).shape)\n",
    "        print(\"====================================\")\n",
    "        \n",
    "\n",
    "    \n",
    "    # print(torch.masked_select(embedding, masks, out=None).shape)\n",
    "    # # get all indices of masks which have the same value\n",
    "    \n",
    "    \n",
    "    # indices = [torch.nonzero(masks == unique_masks[i], as_tuple=False) for i in range(len(unique_masks))]\n",
    "    \n",
    "    \n",
    "    # keys = unique_masks.tolist()\n",
    "    # embeddings = [embedding[indices[i]] for i in range(len(indices))]\n",
    "    # values = embeddings\n",
    "    # dictionary = dict(zip(keys, values))\n",
    "    # print(dictionary[0].shape)\n",
    "    # mean_values = []\n",
    "    # for key in dictionary.keys():\n",
    "    #     # calculate mean of embeddings with the same mask value\n",
    "    #     #print(embedding[indices[key]].shape)\n",
    "    #     mean_embedding = np.mean(embedding[indices[key]], axis=1)\n",
    "    #     mean_values.append(mean_embedding)\n",
    "        \n",
    "    # mean_dictionary = dict(zip(keys, mean_values))\n",
    "    # #print(mean_values[0].shape)\n",
    "    # return dictionary\n",
    "    \n",
    "    \n",
    "    \n",
    "    \n",
    "    \n",
    "    \n",
    "\n",
    "# print(dictio)\n",
    "\n",
    "print(\"====================================\")\n",
    "\n"
   ]
  },
  {
   "cell_type": "code",
   "execution_count": null,
   "metadata": {},
   "outputs": [],
   "source": [
    "print"
   ]
  }
 ],
 "metadata": {
  "kernelspec": {
   "display_name": "Python 3.8.9 64-bit",
   "language": "python",
   "name": "python3"
  },
  "language_info": {
   "codemirror_mode": {
    "name": "ipython",
    "version": 3
   },
   "file_extension": ".py",
   "mimetype": "text/x-python",
   "name": "python",
   "nbconvert_exporter": "python",
   "pygments_lexer": "ipython3",
   "version": "3.8.9"
  },
  "orig_nbformat": 4,
  "vscode": {
   "interpreter": {
    "hash": "31f2aee4e71d21fbe5cf8b01ff0e069b9275f58929596ceb00d14d90e3e16cd6"
   }
  }
 },
 "nbformat": 4,
 "nbformat_minor": 2
}

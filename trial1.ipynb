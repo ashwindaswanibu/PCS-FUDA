{
 "cells": [
  {
   "cell_type": "markdown",
   "metadata": {},
   "source": [
    "import \n",
    "train_dataset = Cityscapes(root=\"./data\", split=\"train\", mode=\"fine\", transform=transforms.ToTensor(), target_type=\"color\")"
   ]
  },
  {
   "cell_type": "code",
   "execution_count": 1,
   "metadata": {},
   "outputs": [],
   "source": [
    "from torchvision.datasets import Cityscapes\n",
    "from torchvision import transforms\n",
    "train_dataset = Cityscapes(root=\"./data\", split=\"train\", mode=\"fine\", transform=transforms.ToTensor(), target_type=\"color\")"
   ]
  },
  {
   "cell_type": "code",
   "execution_count": 12,
   "metadata": {},
   "outputs": [
    {
     "data": {
      "text/plain": [
       "['./data/gtFine/train/zurich/zurich_000069_000019_gtFine_color.png']"
      ]
     },
     "execution_count": 12,
     "metadata": {},
     "output_type": "execute_result"
    }
   ],
   "source": []
  },
  {
   "cell_type": "code",
   "execution_count": 4,
   "metadata": {},
   "outputs": [
    {
     "data": {
      "text/plain": [
       "'./data/gtFine/train/zurich/zurich_000069_000019_gtFine_color.png'"
      ]
     },
     "execution_count": 4,
     "metadata": {},
     "output_type": "execute_result"
    }
   ],
   "source": [
    "import numpy as np\n",
    "def one_hot_masks(train_dataset):\n",
    "    list_sparse_mat=[]\n",
    "    dick = np.load('labels.npy',allow_pickle='TRUE').item()\n",
    "    for img in train_dataset.targets:\n",
    "        x =cv2.read(img[0])\n",
    "        x = np.array(x)\n",
    "\n",
    "        sparse_mat = sparse_make(img, dick)\n",
    "        list_sparse_mat.append(sparse_mat)\n",
    "    return np.array(list_sparse_mat)\n",
    "    \n",
    "    \n",
    "    "
   ]
  },
  {
   "cell_type": "code",
   "execution_count": 2,
   "metadata": {},
   "outputs": [
    {
     "ename": "RuntimeError",
     "evalue": "Given input size: (256x30x256). Calculated output size: (256x0x8). Output size is too small",
     "output_type": "error",
     "traceback": [
      "\u001b[0;31m---------------------------------------------------------------------------\u001b[0m",
      "\u001b[0;31mRuntimeError\u001b[0m                              Traceback (most recent call last)",
      "\u001b[1;32m/Users/ashwindaswani/Desktop/pcs/PCS-FUDA/trial1.ipynb Cell 3\u001b[0m in \u001b[0;36m<cell line: 18>\u001b[0;34m()\u001b[0m\n\u001b[1;32m     <a href='vscode-notebook-cell:/Users/ashwindaswani/Desktop/pcs/PCS-FUDA/trial1.ipynb#W2sZmlsZQ%3D%3D?line=14'>15</a>\u001b[0m     \u001b[39mreturn\u001b[39;00m down\n\u001b[1;32m     <a href='vscode-notebook-cell:/Users/ashwindaswani/Desktop/pcs/PCS-FUDA/trial1.ipynb#W2sZmlsZQ%3D%3D?line=15'>16</a>\u001b[0m     \u001b[39m#down(b, 8,8,30)\u001b[39;00m\n\u001b[0;32m---> <a href='vscode-notebook-cell:/Users/ashwindaswani/Desktop/pcs/PCS-FUDA/trial1.ipynb#W2sZmlsZQ%3D%3D?line=17'>18</a>\u001b[0m down_sample_masks(img)\n",
      "\u001b[1;32m/Users/ashwindaswani/Desktop/pcs/PCS-FUDA/trial1.ipynb Cell 3\u001b[0m in \u001b[0;36mdown_sample_masks\u001b[0;34m(img)\u001b[0m\n\u001b[1;32m     <a href='vscode-notebook-cell:/Users/ashwindaswani/Desktop/pcs/PCS-FUDA/trial1.ipynb#W2sZmlsZQ%3D%3D?line=9'>10</a>\u001b[0m \u001b[39m#img(30,256,256)\u001b[39;00m\n\u001b[1;32m     <a href='vscode-notebook-cell:/Users/ashwindaswani/Desktop/pcs/PCS-FUDA/trial1.ipynb#W2sZmlsZQ%3D%3D?line=10'>11</a>\u001b[0m max_pool \u001b[39m=\u001b[39m nn\u001b[39m.\u001b[39mMaxPool2d(\u001b[39m32\u001b[39m, stride\u001b[39m=\u001b[39m\u001b[39m32\u001b[39m)\n\u001b[0;32m---> <a href='vscode-notebook-cell:/Users/ashwindaswani/Desktop/pcs/PCS-FUDA/trial1.ipynb#W2sZmlsZQ%3D%3D?line=11'>12</a>\u001b[0m down \u001b[39m=\u001b[39m max_pool(img)\n\u001b[1;32m     <a href='vscode-notebook-cell:/Users/ashwindaswani/Desktop/pcs/PCS-FUDA/trial1.ipynb#W2sZmlsZQ%3D%3D?line=12'>13</a>\u001b[0m \u001b[39m#down(30,8,8)\u001b[39;00m\n\u001b[1;32m     <a href='vscode-notebook-cell:/Users/ashwindaswani/Desktop/pcs/PCS-FUDA/trial1.ipynb#W2sZmlsZQ%3D%3D?line=13'>14</a>\u001b[0m down \u001b[39m=\u001b[39m down\u001b[39m.\u001b[39mpermute(\u001b[39m0\u001b[39m, \u001b[39m2\u001b[39m,\u001b[39m3\u001b[39m,\u001b[39m1\u001b[39m)\n",
      "File \u001b[0;32m~/opt/anaconda3/lib/python3.9/site-packages/torch/nn/modules/module.py:1194\u001b[0m, in \u001b[0;36mModule._call_impl\u001b[0;34m(self, *input, **kwargs)\u001b[0m\n\u001b[1;32m   1190\u001b[0m \u001b[39m# If we don't have any hooks, we want to skip the rest of the logic in\u001b[39;00m\n\u001b[1;32m   1191\u001b[0m \u001b[39m# this function, and just call forward.\u001b[39;00m\n\u001b[1;32m   1192\u001b[0m \u001b[39mif\u001b[39;00m \u001b[39mnot\u001b[39;00m (\u001b[39mself\u001b[39m\u001b[39m.\u001b[39m_backward_hooks \u001b[39mor\u001b[39;00m \u001b[39mself\u001b[39m\u001b[39m.\u001b[39m_forward_hooks \u001b[39mor\u001b[39;00m \u001b[39mself\u001b[39m\u001b[39m.\u001b[39m_forward_pre_hooks \u001b[39mor\u001b[39;00m _global_backward_hooks\n\u001b[1;32m   1193\u001b[0m         \u001b[39mor\u001b[39;00m _global_forward_hooks \u001b[39mor\u001b[39;00m _global_forward_pre_hooks):\n\u001b[0;32m-> 1194\u001b[0m     \u001b[39mreturn\u001b[39;00m forward_call(\u001b[39m*\u001b[39;49m\u001b[39minput\u001b[39;49m, \u001b[39m*\u001b[39;49m\u001b[39m*\u001b[39;49mkwargs)\n\u001b[1;32m   1195\u001b[0m \u001b[39m# Do not call functions when jit is used\u001b[39;00m\n\u001b[1;32m   1196\u001b[0m full_backward_hooks, non_full_backward_hooks \u001b[39m=\u001b[39m [], []\n",
      "File \u001b[0;32m~/opt/anaconda3/lib/python3.9/site-packages/torch/nn/modules/pooling.py:166\u001b[0m, in \u001b[0;36mMaxPool2d.forward\u001b[0;34m(self, input)\u001b[0m\n\u001b[1;32m    165\u001b[0m \u001b[39mdef\u001b[39;00m \u001b[39mforward\u001b[39m(\u001b[39mself\u001b[39m, \u001b[39minput\u001b[39m: Tensor):\n\u001b[0;32m--> 166\u001b[0m     \u001b[39mreturn\u001b[39;00m F\u001b[39m.\u001b[39;49mmax_pool2d(\u001b[39minput\u001b[39;49m, \u001b[39mself\u001b[39;49m\u001b[39m.\u001b[39;49mkernel_size, \u001b[39mself\u001b[39;49m\u001b[39m.\u001b[39;49mstride,\n\u001b[1;32m    167\u001b[0m                         \u001b[39mself\u001b[39;49m\u001b[39m.\u001b[39;49mpadding, \u001b[39mself\u001b[39;49m\u001b[39m.\u001b[39;49mdilation, ceil_mode\u001b[39m=\u001b[39;49m\u001b[39mself\u001b[39;49m\u001b[39m.\u001b[39;49mceil_mode,\n\u001b[1;32m    168\u001b[0m                         return_indices\u001b[39m=\u001b[39;49m\u001b[39mself\u001b[39;49m\u001b[39m.\u001b[39;49mreturn_indices)\n",
      "File \u001b[0;32m~/opt/anaconda3/lib/python3.9/site-packages/torch/_jit_internal.py:485\u001b[0m, in \u001b[0;36mboolean_dispatch.<locals>.fn\u001b[0;34m(*args, **kwargs)\u001b[0m\n\u001b[1;32m    483\u001b[0m     \u001b[39mreturn\u001b[39;00m if_true(\u001b[39m*\u001b[39margs, \u001b[39m*\u001b[39m\u001b[39m*\u001b[39mkwargs)\n\u001b[1;32m    484\u001b[0m \u001b[39melse\u001b[39;00m:\n\u001b[0;32m--> 485\u001b[0m     \u001b[39mreturn\u001b[39;00m if_false(\u001b[39m*\u001b[39;49margs, \u001b[39m*\u001b[39;49m\u001b[39m*\u001b[39;49mkwargs)\n",
      "File \u001b[0;32m~/opt/anaconda3/lib/python3.9/site-packages/torch/nn/functional.py:782\u001b[0m, in \u001b[0;36m_max_pool2d\u001b[0;34m(input, kernel_size, stride, padding, dilation, ceil_mode, return_indices)\u001b[0m\n\u001b[1;32m    780\u001b[0m \u001b[39mif\u001b[39;00m stride \u001b[39mis\u001b[39;00m \u001b[39mNone\u001b[39;00m:\n\u001b[1;32m    781\u001b[0m     stride \u001b[39m=\u001b[39m torch\u001b[39m.\u001b[39mjit\u001b[39m.\u001b[39mannotate(List[\u001b[39mint\u001b[39m], [])\n\u001b[0;32m--> 782\u001b[0m \u001b[39mreturn\u001b[39;00m torch\u001b[39m.\u001b[39;49mmax_pool2d(\u001b[39minput\u001b[39;49m, kernel_size, stride, padding, dilation, ceil_mode)\n",
      "\u001b[0;31mRuntimeError\u001b[0m: Given input size: (256x30x256). Calculated output size: (256x0x8). Output size is too small"
     ]
    }
   ],
   "source": [
    "import torch\n",
    "import torch.nn as nn\n",
    "\n",
    "img =torch.zeros(8,30, 256,256)\n",
    "\n",
    "#function to to downscale a 256x26x3 image to 8x8x3 using max pooing layer\n",
    "def down_sample_masks(img):\n",
    "    #img(b,256,256,30)\n",
    "    img= img.permute(0,3, 1, 2)\n",
    "    #img(30,256,256)\n",
    "    max_pool = nn.MaxPool2d(32, stride=32)\n",
    "    down = max_pool(img)\n",
    "    #down(30,8,8)\n",
    "    down = down.permute(0, 2,3,1)\n",
    "    return down\n",
    "    #down(b, 8,8,30)\n",
    "    \n",
    "down_sample_masks(img)"
   ]
  },
  {
   "cell_type": "code",
   "execution_count": 13,
   "metadata": {},
   "outputs": [],
   "source": [
    "def sparse_make(img, dick):\n",
    "    #mask(b, 8,8,30)\n",
    "    new_mask=np.zeros((256, 256, 30))\n",
    "    for i in range(256):\n",
    "        for j in range(256):\n",
    "            channel=dick[img[i][j]]\n",
    "            new_mask[i][j][channel]= 1\n",
    "    return new_mask\n"
   ]
  },
  {
   "cell_type": "code",
   "execution_count": null,
   "metadata": {},
   "outputs": [],
   "source": []
  }
 ],
 "metadata": {
  "kernelspec": {
   "display_name": "Python 3.9.12 ('base')",
   "language": "python",
   "name": "python3"
  },
  "language_info": {
   "codemirror_mode": {
    "name": "ipython",
    "version": 3
   },
   "file_extension": ".py",
   "mimetype": "text/x-python",
   "name": "python",
   "nbconvert_exporter": "python",
   "pygments_lexer": "ipython3",
   "version": "3.9.12"
  },
  "orig_nbformat": 4,
  "vscode": {
   "interpreter": {
    "hash": "28264cdf5c735ba6e8f6c3a0665207cafefd0d52a0fc03af51169fe42f9ee080"
   }
  }
 },
 "nbformat": 4,
 "nbformat_minor": 2
}

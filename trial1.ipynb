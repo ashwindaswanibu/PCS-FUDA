{
 "cells": [
  {
   "cell_type": "markdown",
   "metadata": {},
   "source": [
    "import \n",
    "train_dataset = Cityscapes(root=\"./data\", split=\"train\", mode=\"fine\", transform=transforms.ToTensor(), target_type=\"color\")"
   ]
  },
  {
   "cell_type": "code",
   "execution_count": null,
   "metadata": {},
   "outputs": [],
   "source": [
    "from torchvision.datasets import Cityscapes\n",
    "from torchvision import transforms\n",
    "train_dataset = Cityscapes(root=\"./data\", split=\"train\", mode=\"fine\", transform=transforms.ToTensor(), target_type=\"color\")"
   ]
  },
  {
   "cell_type": "code",
   "execution_count": null,
   "metadata": {},
   "outputs": [],
   "source": [
    "import torch\n",
    "import torch.nn as nn\n",
    "\n",
    "img =torch.zeros(8,30, 256,256)\n",
    "\n",
    "#function to to downscale a 256x26x3 image to 8x8x3 using max pooing layer\n",
    "def down_sample_masks(img):\n",
    "    #img(b,256,256,30)\n",
    "    img= img.permute(0,3, 1, 2)\n",
    "    #img(30,256,256)\n",
    "    max_pool = nn.MaxPool2d(32, stride=32)\n",
    "    down = max_pool(img)\n",
    "    #down(30,8,8)\n",
    "    down = down.permute(0, 2,3,1)\n",
    "    return down\n",
    "    #down(b, 8,8,30)\n",
    "    \n",
    "down_sample_masks(img)"
   ]
  },
  {
   "cell_type": "code",
   "execution_count": 7,
   "metadata": {},
   "outputs": [],
   "source": [
    "def sparse_make(img, dick):\n",
    "    #mask(b, 8,8,30)\n",
    "    new_mask=np.zeros((256, 256, 30))\n",
    "    for i in range(256):\n",
    "        for j in range(256):\n",
    "            channel=dick[img[i][j]]\n",
    "            new_mask[i][j][channel]= 1\n",
    "    return new_mask\n"
   ]
  },
  {
   "cell_type": "code",
   "execution_count": null,
   "metadata": {},
   "outputs": [],
   "source": []
  }
 ],
 "metadata": {
  "kernelspec": {
   "display_name": "Python 3.8.9 64-bit",
   "language": "python",
   "name": "python3"
  },
  "language_info": {
   "codemirror_mode": {
    "name": "ipython",
    "version": 3
   },
   "file_extension": ".py",
   "mimetype": "text/x-python",
   "name": "python",
   "nbconvert_exporter": "python",
   "pygments_lexer": "ipython3",
   "version": "3.8.9"
  },
  "orig_nbformat": 4,
  "vscode": {
   "interpreter": {
    "hash": "31f2aee4e71d21fbe5cf8b01ff0e069b9275f58929596ceb00d14d90e3e16cd6"
   }
  }
 },
 "nbformat": 4,
 "nbformat_minor": 2
}

{
 "cells": [
  {
   "cell_type": "code",
   "execution_count": 2,
   "metadata": {},
   "outputs": [
    {
     "name": "stdout",
     "output_type": "stream",
     "text": [
      "Requirement already satisfied: segmentation_models_pytorch in /Users/ashwindaswani/opt/anaconda3/lib/python3.9/site-packages (0.3.2)\n",
      "Requirement already satisfied: tqdm in /Users/ashwindaswani/opt/anaconda3/lib/python3.9/site-packages (from segmentation_models_pytorch) (4.64.0)\n",
      "Requirement already satisfied: efficientnet-pytorch==0.7.1 in /Users/ashwindaswani/opt/anaconda3/lib/python3.9/site-packages (from segmentation_models_pytorch) (0.7.1)\n",
      "Requirement already satisfied: torchvision>=0.5.0 in /Users/ashwindaswani/opt/anaconda3/lib/python3.9/site-packages (from segmentation_models_pytorch) (0.14.1)\n",
      "Requirement already satisfied: timm==0.6.12 in /Users/ashwindaswani/opt/anaconda3/lib/python3.9/site-packages (from segmentation_models_pytorch) (0.6.12)\n",
      "Requirement already satisfied: pillow in /Users/ashwindaswani/opt/anaconda3/lib/python3.9/site-packages (from segmentation_models_pytorch) (9.0.1)\n",
      "Requirement already satisfied: pretrainedmodels==0.7.4 in /Users/ashwindaswani/opt/anaconda3/lib/python3.9/site-packages (from segmentation_models_pytorch) (0.7.4)\n",
      "Requirement already satisfied: torch in /Users/ashwindaswani/opt/anaconda3/lib/python3.9/site-packages (from efficientnet-pytorch==0.7.1->segmentation_models_pytorch) (1.13.1)\n",
      "Requirement already satisfied: munch in /Users/ashwindaswani/opt/anaconda3/lib/python3.9/site-packages (from pretrainedmodels==0.7.4->segmentation_models_pytorch) (2.5.0)\n",
      "Requirement already satisfied: huggingface-hub in /Users/ashwindaswani/opt/anaconda3/lib/python3.9/site-packages (from timm==0.6.12->segmentation_models_pytorch) (0.11.0)\n",
      "Requirement already satisfied: pyyaml in /Users/ashwindaswani/opt/anaconda3/lib/python3.9/site-packages (from timm==0.6.12->segmentation_models_pytorch) (6.0)\n",
      "Requirement already satisfied: typing-extensions in /Users/ashwindaswani/opt/anaconda3/lib/python3.9/site-packages (from torch->efficientnet-pytorch==0.7.1->segmentation_models_pytorch) (4.1.1)\n",
      "Requirement already satisfied: requests in /Users/ashwindaswani/opt/anaconda3/lib/python3.9/site-packages (from torchvision>=0.5.0->segmentation_models_pytorch) (2.27.1)\n",
      "Requirement already satisfied: numpy in /Users/ashwindaswani/opt/anaconda3/lib/python3.9/site-packages (from torchvision>=0.5.0->segmentation_models_pytorch) (1.23.5)\n",
      "Requirement already satisfied: packaging>=20.9 in /Users/ashwindaswani/opt/anaconda3/lib/python3.9/site-packages (from huggingface-hub->timm==0.6.12->segmentation_models_pytorch) (21.3)\n",
      "Requirement already satisfied: filelock in /Users/ashwindaswani/opt/anaconda3/lib/python3.9/site-packages (from huggingface-hub->timm==0.6.12->segmentation_models_pytorch) (3.6.0)\n",
      "Requirement already satisfied: pyparsing!=3.0.5,>=2.0.2 in /Users/ashwindaswani/opt/anaconda3/lib/python3.9/site-packages (from packaging>=20.9->huggingface-hub->timm==0.6.12->segmentation_models_pytorch) (3.0.4)\n",
      "Requirement already satisfied: six in /Users/ashwindaswani/opt/anaconda3/lib/python3.9/site-packages (from munch->pretrainedmodels==0.7.4->segmentation_models_pytorch) (1.16.0)\n",
      "Requirement already satisfied: certifi>=2017.4.17 in /Users/ashwindaswani/opt/anaconda3/lib/python3.9/site-packages (from requests->torchvision>=0.5.0->segmentation_models_pytorch) (2022.12.7)\n",
      "Requirement already satisfied: idna<4,>=2.5 in /Users/ashwindaswani/opt/anaconda3/lib/python3.9/site-packages (from requests->torchvision>=0.5.0->segmentation_models_pytorch) (3.3)\n",
      "Requirement already satisfied: charset-normalizer~=2.0.0 in /Users/ashwindaswani/opt/anaconda3/lib/python3.9/site-packages (from requests->torchvision>=0.5.0->segmentation_models_pytorch) (2.0.4)\n",
      "Requirement already satisfied: urllib3<1.27,>=1.21.1 in /Users/ashwindaswani/opt/anaconda3/lib/python3.9/site-packages (from requests->torchvision>=0.5.0->segmentation_models_pytorch) (1.26.15)\n"
     ]
    }
   ],
   "source": [
    "!pip install segmentation_models_pytorch"
   ]
  },
  {
   "cell_type": "code",
   "execution_count": 6,
   "metadata": {},
   "outputs": [
    {
     "name": "stdout",
     "output_type": "stream",
     "text": [
      "Collecting faiss-gpu\n",
      "  Using cached faiss-gpu-1.7.1.post2.tar.gz (40 kB)\n",
      "\u001b[33m  WARNING: Generating metadata for package faiss-gpu produced metadata for project name faiss-cpu. Fix your #egg=faiss-gpu fragments.\u001b[0m\n",
      "\u001b[33mWARNING: Discarding https://files.pythonhosted.org/packages/17/76/47d0cc8161f4bf988583a2839bb1e56baf09d6b80cfa472b9eba4d5f543b/faiss-gpu-1.7.1.post2.tar.gz#sha256=877478752c03678fd9b9553e4ffadca82cd337bba9bb6a939aa1c6ea561a7a58 (from https://pypi.org/simple/faiss-gpu/). Requested faiss-cpu from https://files.pythonhosted.org/packages/17/76/47d0cc8161f4bf988583a2839bb1e56baf09d6b80cfa472b9eba4d5f543b/faiss-gpu-1.7.1.post2.tar.gz#sha256=877478752c03678fd9b9553e4ffadca82cd337bba9bb6a939aa1c6ea561a7a58 has inconsistent name: filename has 'faiss-gpu', but metadata has 'faiss-cpu'\u001b[0m\n",
      "  Using cached faiss-gpu-1.7.1.post1.tar.gz (41 kB)\n",
      "\u001b[33m  WARNING: Generating metadata for package faiss-gpu produced metadata for project name faiss-cpu. Fix your #egg=faiss-gpu fragments.\u001b[0m\n",
      "\u001b[33mWARNING: Discarding https://files.pythonhosted.org/packages/39/8d/b62bc92c8dd4b2a99d4a06b8804280f6445748b6d698eabb037e111080c7/faiss-gpu-1.7.1.post1.tar.gz#sha256=4e71f6ed035df0fee0eb40a35ce819c3f295116df15f513f18f40be8ac99be1f (from https://pypi.org/simple/faiss-gpu/). Requested faiss-cpu from https://files.pythonhosted.org/packages/39/8d/b62bc92c8dd4b2a99d4a06b8804280f6445748b6d698eabb037e111080c7/faiss-gpu-1.7.1.post1.tar.gz#sha256=4e71f6ed035df0fee0eb40a35ce819c3f295116df15f513f18f40be8ac99be1f has inconsistent name: filename has 'faiss-gpu', but metadata has 'faiss-cpu'\u001b[0m\n",
      "  Using cached faiss-gpu-1.7.1.tar.gz (40 kB)\n",
      "\u001b[33m  WARNING: Generating metadata for package faiss-gpu produced metadata for project name faiss-cpu. Fix your #egg=faiss-gpu fragments.\u001b[0m\n",
      "\u001b[33mWARNING: Discarding https://files.pythonhosted.org/packages/51/85/7a7490dbecaea9272953b88e236a45fe8c47571a069bc28b352f0b224ea3/faiss-gpu-1.7.1.tar.gz#sha256=78b8495efd00e5e25fd0046a652f5b4587af0aebaf006fff73ac66e9610ba9fc (from https://pypi.org/simple/faiss-gpu/). Requested faiss-cpu from https://files.pythonhosted.org/packages/51/85/7a7490dbecaea9272953b88e236a45fe8c47571a069bc28b352f0b224ea3/faiss-gpu-1.7.1.tar.gz#sha256=78b8495efd00e5e25fd0046a652f5b4587af0aebaf006fff73ac66e9610ba9fc has inconsistent name: filename has 'faiss-gpu', but metadata has 'faiss-cpu'\u001b[0m\n",
      "  Using cached faiss-gpu-1.7.0.tar.gz (34 kB)\n",
      "\u001b[33m  WARNING: Generating metadata for package faiss-gpu produced metadata for project name faiss-cpu. Fix your #egg=faiss-gpu fragments.\u001b[0m\n",
      "\u001b[33mWARNING: Discarding https://files.pythonhosted.org/packages/63/15/289ecf5d23f209c4c6f2f5f4db1d2b4a2be22d1fc49619354363e9367c19/faiss-gpu-1.7.0.tar.gz#sha256=9dd7f92c10a04894e2b6065eb2274aa73705381327f34da5aae5da66523a2ca6 (from https://pypi.org/simple/faiss-gpu/). Requested faiss-cpu from https://files.pythonhosted.org/packages/63/15/289ecf5d23f209c4c6f2f5f4db1d2b4a2be22d1fc49619354363e9367c19/faiss-gpu-1.7.0.tar.gz#sha256=9dd7f92c10a04894e2b6065eb2274aa73705381327f34da5aae5da66523a2ca6 has inconsistent name: filename has 'faiss-gpu', but metadata has 'faiss-cpu'\u001b[0m\n",
      "  Using cached faiss-gpu-1.6.5.tar.gz (28 kB)\n",
      "\u001b[33m  WARNING: Generating metadata for package faiss-gpu produced metadata for project name faiss-cpu. Fix your #egg=faiss-gpu fragments.\u001b[0m\n",
      "\u001b[33mWARNING: Discarding https://files.pythonhosted.org/packages/9c/27/3477c856ea3d678619c33ae72f89ede4fbe08e9c5ba3b89a5feb3d9938b0/faiss-gpu-1.6.5.tar.gz#sha256=e08fadbfa53d1ebc6657d36ef100f12b10ffff9cdb5834fa480264daf5dfc6f9 (from https://pypi.org/simple/faiss-gpu/). Requested faiss-cpu from https://files.pythonhosted.org/packages/9c/27/3477c856ea3d678619c33ae72f89ede4fbe08e9c5ba3b89a5feb3d9938b0/faiss-gpu-1.6.5.tar.gz#sha256=e08fadbfa53d1ebc6657d36ef100f12b10ffff9cdb5834fa480264daf5dfc6f9 has inconsistent name: filename has 'faiss-gpu', but metadata has 'faiss-cpu'\u001b[0m\n",
      "  Using cached faiss-gpu-1.6.4.post2.tar.gz (25 kB)\n",
      "\u001b[33m  WARNING: Generating metadata for package faiss-gpu produced metadata for project name faiss-cpu. Fix your #egg=faiss-gpu fragments.\u001b[0m\n",
      "\u001b[33mWARNING: Discarding https://files.pythonhosted.org/packages/7d/00/b3aaad408a44e4f5d87ebfcd75d0b14eeaed9fe9bc7a9f5e185ff1d503d6/faiss-gpu-1.6.4.post2.tar.gz#sha256=5d2c428af67442d1cd0317f189f842a71326e7676134fc2ada40021f127a0fd4 (from https://pypi.org/simple/faiss-gpu/). Requested faiss-cpu from https://files.pythonhosted.org/packages/7d/00/b3aaad408a44e4f5d87ebfcd75d0b14eeaed9fe9bc7a9f5e185ff1d503d6/faiss-gpu-1.6.4.post2.tar.gz#sha256=5d2c428af67442d1cd0317f189f842a71326e7676134fc2ada40021f127a0fd4 has inconsistent name: filename has 'faiss-gpu', but metadata has 'faiss-cpu'\u001b[0m\n",
      "  Using cached faiss-gpu-1.6.4.tar.gz (3.4 kB)\n",
      "\u001b[31m    ERROR: Command errored out with exit status 1:\n",
      "     command: /Users/ashwindaswani/opt/anaconda3/bin/python -c 'import io, os, sys, setuptools, tokenize; sys.argv[0] = '\"'\"'/private/var/folders/9d/w50qsl190hs4k58psvc494_40000gn/T/pip-install-hzcs2p21/faiss-gpu_7b13595832c84cffa003076b21c5fb1d/setup.py'\"'\"'; __file__='\"'\"'/private/var/folders/9d/w50qsl190hs4k58psvc494_40000gn/T/pip-install-hzcs2p21/faiss-gpu_7b13595832c84cffa003076b21c5fb1d/setup.py'\"'\"';f = getattr(tokenize, '\"'\"'open'\"'\"', open)(__file__) if os.path.exists(__file__) else io.StringIO('\"'\"'from setuptools import setup; setup()'\"'\"');code = f.read().replace('\"'\"'\\r\\n'\"'\"', '\"'\"'\\n'\"'\"');f.close();exec(compile(code, __file__, '\"'\"'exec'\"'\"'))' egg_info --egg-base /private/var/folders/9d/w50qsl190hs4k58psvc494_40000gn/T/pip-pip-egg-info-jgerty_p\n",
      "         cwd: /private/var/folders/9d/w50qsl190hs4k58psvc494_40000gn/T/pip-install-hzcs2p21/faiss-gpu_7b13595832c84cffa003076b21c5fb1d/\n",
      "    Complete output (7 lines):\n",
      "    running egg_info\n",
      "    creating /private/var/folders/9d/w50qsl190hs4k58psvc494_40000gn/T/pip-pip-egg-info-jgerty_p/faiss_cpu.egg-info\n",
      "    writing /private/var/folders/9d/w50qsl190hs4k58psvc494_40000gn/T/pip-pip-egg-info-jgerty_p/faiss_cpu.egg-info/PKG-INFO\n",
      "    writing dependency_links to /private/var/folders/9d/w50qsl190hs4k58psvc494_40000gn/T/pip-pip-egg-info-jgerty_p/faiss_cpu.egg-info/dependency_links.txt\n",
      "    writing top-level names to /private/var/folders/9d/w50qsl190hs4k58psvc494_40000gn/T/pip-pip-egg-info-jgerty_p/faiss_cpu.egg-info/top_level.txt\n",
      "    writing manifest file '/private/var/folders/9d/w50qsl190hs4k58psvc494_40000gn/T/pip-pip-egg-info-jgerty_p/faiss_cpu.egg-info/SOURCES.txt'\n",
      "    error: package directory '/private/var/folders/9d/w50qsl190hs4k58psvc494_40000gn/T/pip-install-hzcs2p21/faiss-gpu_7b13595832c84cffa003076b21c5fb1d/faiss/faiss/python' does not exist\n",
      "    ----------------------------------------\u001b[0m\n",
      "\u001b[33mWARNING: Discarding https://files.pythonhosted.org/packages/56/f0/c1f2be147d97e873f74e9f5e4e31b227a52bc7d413bebfb319546440949b/faiss-gpu-1.6.4.tar.gz#sha256=576c0ade83ed0291fe5a0febc6e395c1607ebb133bb8625294a78f6a63088948 (from https://pypi.org/simple/faiss-gpu/). Command errored out with exit status 1: python setup.py egg_info Check the logs for full command output.\u001b[0m\n",
      "  Using cached faiss-gpu-1.6.3.tar.gz (17 kB)\n",
      "Requirement already satisfied: numpy in /Users/ashwindaswani/opt/anaconda3/lib/python3.9/site-packages (from faiss-gpu) (1.23.5)\n",
      "Building wheels for collected packages: faiss-gpu\n",
      "  Building wheel for faiss-gpu (setup.py) ... \u001b[?25lerror\n",
      "\u001b[31m  ERROR: Command errored out with exit status 1:\n",
      "   command: /Users/ashwindaswani/opt/anaconda3/bin/python -u -c 'import io, os, sys, setuptools, tokenize; sys.argv[0] = '\"'\"'/private/var/folders/9d/w50qsl190hs4k58psvc494_40000gn/T/pip-install-hzcs2p21/faiss-gpu_5b8d6543085d47c6a0d89b5dac213973/setup.py'\"'\"'; __file__='\"'\"'/private/var/folders/9d/w50qsl190hs4k58psvc494_40000gn/T/pip-install-hzcs2p21/faiss-gpu_5b8d6543085d47c6a0d89b5dac213973/setup.py'\"'\"';f = getattr(tokenize, '\"'\"'open'\"'\"', open)(__file__) if os.path.exists(__file__) else io.StringIO('\"'\"'from setuptools import setup; setup()'\"'\"');code = f.read().replace('\"'\"'\\r\\n'\"'\"', '\"'\"'\\n'\"'\"');f.close();exec(compile(code, __file__, '\"'\"'exec'\"'\"'))' bdist_wheel -d /private/var/folders/9d/w50qsl190hs4k58psvc494_40000gn/T/pip-wheel-k_0mqx49\n",
      "       cwd: /private/var/folders/9d/w50qsl190hs4k58psvc494_40000gn/T/pip-install-hzcs2p21/faiss-gpu_5b8d6543085d47c6a0d89b5dac213973/\n",
      "  Complete output (7 lines):\n",
      "  running bdist_wheel\n",
      "  running build\n",
      "  running build_ext\n",
      "  building 'faiss._swigfaiss' extension\n",
      "  swigging python/swigfaiss.i to python/swigfaiss_wrap.cpp\n",
      "  swig -python -c++ -Doverride= -I/usr/local/include/faiss -I/usr/local/cuda/include -DGPU_WRAPPER -o python/swigfaiss_wrap.cpp python/swigfaiss.i\n",
      "  error: command 'swig' failed: No such file or directory\n",
      "  ----------------------------------------\u001b[0m\n",
      "\u001b[31m  ERROR: Failed building wheel for faiss-gpu\u001b[0m\n",
      "\u001b[?25h  Running setup.py clean for faiss-gpu\n",
      "Failed to build faiss-gpu\n",
      "Installing collected packages: faiss-gpu\n",
      "    Running setup.py install for faiss-gpu ... \u001b[?25lerror\n",
      "\u001b[31m    ERROR: Command errored out with exit status 1:\n",
      "     command: /Users/ashwindaswani/opt/anaconda3/bin/python -u -c 'import io, os, sys, setuptools, tokenize; sys.argv[0] = '\"'\"'/private/var/folders/9d/w50qsl190hs4k58psvc494_40000gn/T/pip-install-hzcs2p21/faiss-gpu_5b8d6543085d47c6a0d89b5dac213973/setup.py'\"'\"'; __file__='\"'\"'/private/var/folders/9d/w50qsl190hs4k58psvc494_40000gn/T/pip-install-hzcs2p21/faiss-gpu_5b8d6543085d47c6a0d89b5dac213973/setup.py'\"'\"';f = getattr(tokenize, '\"'\"'open'\"'\"', open)(__file__) if os.path.exists(__file__) else io.StringIO('\"'\"'from setuptools import setup; setup()'\"'\"');code = f.read().replace('\"'\"'\\r\\n'\"'\"', '\"'\"'\\n'\"'\"');f.close();exec(compile(code, __file__, '\"'\"'exec'\"'\"'))' install --record /private/var/folders/9d/w50qsl190hs4k58psvc494_40000gn/T/pip-record-4t8bjta3/install-record.txt --single-version-externally-managed --compile --install-headers /Users/ashwindaswani/opt/anaconda3/include/python3.9/faiss-gpu\n",
      "         cwd: /private/var/folders/9d/w50qsl190hs4k58psvc494_40000gn/T/pip-install-hzcs2p21/faiss-gpu_5b8d6543085d47c6a0d89b5dac213973/\n",
      "    Complete output (9 lines):\n",
      "    running install\n",
      "    /Users/ashwindaswani/opt/anaconda3/lib/python3.9/site-packages/setuptools/command/install.py:34: SetuptoolsDeprecationWarning: setup.py install is deprecated. Use build and pip and other standards-based tools.\n",
      "      warnings.warn(\n",
      "    running build\n",
      "    running build_ext\n",
      "    building 'faiss._swigfaiss' extension\n",
      "    swigging python/swigfaiss.i to python/swigfaiss_wrap.cpp\n",
      "    swig -python -c++ -Doverride= -I/usr/local/include/faiss -I/usr/local/cuda/include -DGPU_WRAPPER -o python/swigfaiss_wrap.cpp python/swigfaiss.i\n",
      "    error: command 'swig' failed: No such file or directory\n",
      "    ----------------------------------------\u001b[0m\n",
      "\u001b[?25h\u001b[31mERROR: Command errored out with exit status 1: /Users/ashwindaswani/opt/anaconda3/bin/python -u -c 'import io, os, sys, setuptools, tokenize; sys.argv[0] = '\"'\"'/private/var/folders/9d/w50qsl190hs4k58psvc494_40000gn/T/pip-install-hzcs2p21/faiss-gpu_5b8d6543085d47c6a0d89b5dac213973/setup.py'\"'\"'; __file__='\"'\"'/private/var/folders/9d/w50qsl190hs4k58psvc494_40000gn/T/pip-install-hzcs2p21/faiss-gpu_5b8d6543085d47c6a0d89b5dac213973/setup.py'\"'\"';f = getattr(tokenize, '\"'\"'open'\"'\"', open)(__file__) if os.path.exists(__file__) else io.StringIO('\"'\"'from setuptools import setup; setup()'\"'\"');code = f.read().replace('\"'\"'\\r\\n'\"'\"', '\"'\"'\\n'\"'\"');f.close();exec(compile(code, __file__, '\"'\"'exec'\"'\"'))' install --record /private/var/folders/9d/w50qsl190hs4k58psvc494_40000gn/T/pip-record-4t8bjta3/install-record.txt --single-version-externally-managed --compile --install-headers /Users/ashwindaswani/opt/anaconda3/include/python3.9/faiss-gpu Check the logs for full command output.\u001b[0m\n"
     ]
    }
   ],
   "source": [
    "!pip install faiss-gpu"
   ]
  },
  {
   "cell_type": "code",
   "execution_count": 10,
   "metadata": {},
   "outputs": [
    {
     "name": "stdout",
     "output_type": "stream",
     "text": [
      "Collecting torchutils\n",
      "  Downloading torchutils-0.0.4-py3-none-any.whl (20 kB)\n",
      "Requirement already satisfied: torch>=1.0.0 in /Users/ashwindaswani/opt/anaconda3/lib/python3.9/site-packages (from torchutils) (1.13.1)\n",
      "Requirement already satisfied: matplotlib>=3.0.3 in /Users/ashwindaswani/opt/anaconda3/lib/python3.9/site-packages (from torchutils) (3.6.1)\n",
      "Requirement already satisfied: numpy>=1.16.2 in /Users/ashwindaswani/opt/anaconda3/lib/python3.9/site-packages (from torchutils) (1.23.5)\n",
      "Requirement already satisfied: pillow>=6.2.0 in /Users/ashwindaswani/opt/anaconda3/lib/python3.9/site-packages (from matplotlib>=3.0.3->torchutils) (9.0.1)\n",
      "Requirement already satisfied: python-dateutil>=2.7 in /Users/ashwindaswani/opt/anaconda3/lib/python3.9/site-packages (from matplotlib>=3.0.3->torchutils) (2.8.2)\n",
      "Requirement already satisfied: kiwisolver>=1.0.1 in /Users/ashwindaswani/opt/anaconda3/lib/python3.9/site-packages (from matplotlib>=3.0.3->torchutils) (1.3.2)\n",
      "Requirement already satisfied: cycler>=0.10 in /Users/ashwindaswani/opt/anaconda3/lib/python3.9/site-packages (from matplotlib>=3.0.3->torchutils) (0.11.0)\n",
      "Requirement already satisfied: pyparsing>=2.2.1 in /Users/ashwindaswani/opt/anaconda3/lib/python3.9/site-packages (from matplotlib>=3.0.3->torchutils) (3.0.4)\n",
      "Requirement already satisfied: fonttools>=4.22.0 in /Users/ashwindaswani/opt/anaconda3/lib/python3.9/site-packages (from matplotlib>=3.0.3->torchutils) (4.25.0)\n",
      "Requirement already satisfied: contourpy>=1.0.1 in /Users/ashwindaswani/opt/anaconda3/lib/python3.9/site-packages (from matplotlib>=3.0.3->torchutils) (1.0.5)\n",
      "Requirement already satisfied: packaging>=20.0 in /Users/ashwindaswani/opt/anaconda3/lib/python3.9/site-packages (from matplotlib>=3.0.3->torchutils) (21.3)\n",
      "Requirement already satisfied: six>=1.5 in /Users/ashwindaswani/opt/anaconda3/lib/python3.9/site-packages (from python-dateutil>=2.7->matplotlib>=3.0.3->torchutils) (1.16.0)\n",
      "Requirement already satisfied: typing-extensions in /Users/ashwindaswani/opt/anaconda3/lib/python3.9/site-packages (from torch>=1.0.0->torchutils) (4.1.1)\n",
      "Installing collected packages: torchutils\n",
      "Successfully installed torchutils-0.0.4\n"
     ]
    }
   ],
   "source": [
    "!pip install torchutils"
   ]
  },
  {
   "cell_type": "code",
   "execution_count": 1,
   "metadata": {},
   "outputs": [],
   "source": [
    "import segmentation_models_pytorch as smp\n",
    "import torch, torchvision\n",
    "from torchvision import transforms\n",
    "from torch.utils.data import DataLoader\n",
    "from torchvision.datasets import Cityscapes\n",
    "from torch.utils.data import Dataset\n",
    "from pcs.utils import torchutils\n",
    "\n",
    "from PIL import Image\n",
    "import numpy as np\n",
    "from torchvision import transforms\n",
    "from pcs.utils.segmentation_helper import one_hot_masks, one_hot_mask_data_loader\n",
    "# from pcs.models.head import CosineClassifier\n",
    "import torchutils \n",
    "\n",
    "\n",
    "model = smp.Unet(classes=1, in_channels=3, encoder_name=\"resnet34\", encoder_weights=\"imagenet\")\n",
    "\n",
    "dataset = Cityscapes(root = \"./data\", split='train', mode='fine', transform=transforms.ToTensor(), target_transform=transforms.ToTensor(), target_type=\"polygon\")\n",
    "\n",
    "\n",
    "\n",
    "\n"
   ]
  },
  {
   "cell_type": "code",
   "execution_count": 2,
   "metadata": {},
   "outputs": [
    {
     "data": {
      "text/plain": [
       "['./data/gtFine/train/zurich/zurich_000069_000019_gtFine_color.png']"
      ]
     },
     "execution_count": 2,
     "metadata": {},
     "output_type": "execute_result"
    }
   ],
   "source": [
    "dataset.targets[0]"
   ]
  },
  {
   "cell_type": "code",
   "execution_count": 2,
   "metadata": {},
   "outputs": [],
   "source": [
    "dataloader = DataLoader(dataset, batch_size=1, shuffle=True)"
   ]
  },
  {
   "cell_type": "code",
   "execution_count": 4,
   "metadata": {},
   "outputs": [
    {
     "ename": "KeyError",
     "evalue": "(tensor([0.0275, 0.0549, 0.0863,  ..., 0.4784, 0.0000, 0.0000]), tensor([0.5255, 0.5098, 0.4980,  ..., 0.4588, 0.0000, 0.0000]), tensor([0.2902, 0.2902, 0.2902,  ..., 0.4353, 0.0314, 0.0000]), tensor([0.5569, 0.5490, 0.5373,  ..., 0.4157, 0.0706, 0.0000]), tensor([0.2980, 0.3059, 0.3137,  ..., 0.3961, 0.1059, 0.0000]), tensor([0.0000, 0.0000, 0.0000,  ..., 0.3765, 0.1373, 0.0000]), tensor([0.0000, 0.0000, 0.0196,  ..., 0.3608, 0.1647, 0.0000]), tensor([0.0000, 0.0000, 0.0000,  ..., 0.3451, 0.1922, 0.0000]), tensor([0.0000, 0.0000, 0.0157,  ..., 0.3294, 0.2157, 0.0000]), tensor([0.0000, 0.0000, 0.0000,  ..., 0.3176, 0.2392, 0.0000]), tensor([0.0000, 0.0000, 0.0000,  ..., 0.3098, 0.2588, 0.0000]), tensor([0.0000, 0.0000, 0.0000,  ..., 0.3020, 0.2784, 0.0000]), tensor([0.0000, 0.0000, 0.0000,  ..., 0.2980, 0.2941, 0.0000]), tensor([0.0000, 0.0000, 0.0000,  ..., 0.2941, 0.3098, 0.0000]), tensor([0.0000, 0.0000, 0.0000,  ..., 0.2941, 0.3255, 0.0000]), tensor([0.0000, 0.0000, 0.0000,  ..., 0.2980, 0.3412, 0.0000]), tensor([0.1137, 0.1137, 0.1137,  ..., 0.3020, 0.3529, 0.0000]), tensor([0.1216, 0.1255, 0.1294,  ..., 0.3098, 0.3647, 0.0000]), tensor([0.0000, 0.0000, 0.0000,  ..., 0.3176, 0.3765, 0.0000]), tensor([0.0000, 0.0039, 0.0196,  ..., 0.3294, 0.3882, 0.0000]), tensor([0.0000, 0.0000, 0.0000,  ..., 0.3451, 0.4000, 0.0000]), tensor([0.0000, 0.0000, 0.0000,  ..., 0.3608, 0.4078, 0.0000]), tensor([0.0000, 0.0000, 0.0000,  ..., 0.3804, 0.4196, 0.1412]), tensor([0.0000, 0.0000, 0.0000,  ..., 0.4000, 0.4235, 0.2627]), tensor([0.0000, 0.0000, 0.0000,  ..., 0.4196, 0.4314, 0.3529]), tensor([0.2824, 0.2745, 0.2627,  ..., 0.4353, 0.4431, 0.4275]), tensor([0.0000, 0.0000, 0.0000,  ..., 0.4588, 0.4667, 0.4941]), tensor([0.2980, 0.2863, 0.2706,  ..., 0.5098, 0.5529, 0.5765]), tensor([0.0000, 0.0000, 0.0000,  ..., 0.5922, 0.6000, 0.6157]), tensor([0.0000, 0.0000, 0.0000,  ..., 0.6039, 0.6118, 0.6078]), tensor([0.0000, 0.0000, 0.0000,  ..., 0.6157, 0.6431, 0.6471]), tensor([0.0000, 0.0000, 0.0000,  ..., 0.6196, 0.6392, 0.6431]), tensor([0.0000, 0.0000, 0.0000,  ..., 0.6196, 0.6431, 0.6471]), tensor([0.1412, 0.1529, 0.1647,  ..., 0.6235, 0.6314, 0.6392]), tensor([0.0000, 0.0000, 0.0000,  ..., 0.6275, 0.6275, 0.6314]), tensor([0.0000, 0.0000, 0.0000,  ..., 0.6314, 0.6275, 0.6235]), tensor([0.0000, 0.0000, 0.0000,  ..., 0.6275, 0.6314, 0.6314]), tensor([0.0000, 0.0000, 0.0000,  ..., 0.6235, 0.6275, 0.6314]), tensor([0.0000, 0.0000, 0.0000,  ..., 0.6235, 0.6196, 0.6235]), tensor([0.0000, 0.0000, 0.0000,  ..., 0.6235, 0.6196, 0.6157]), tensor([0.0000, 0.0000, 0.0000,  ..., 0.6039, 0.6078, 0.5922]), tensor([0.0000, 0.0000, 0.0000,  ..., 0.5725, 0.5804, 0.5569]), tensor([0.0000, 0.0000, 0.0000,  ..., 0.5216, 0.5255, 0.5098]), tensor([0.0000, 0.0000, 0.0000,  ..., 0.4824, 0.4902, 0.5020]), tensor([0.2745, 0.2667, 0.2627,  ..., 0.4980, 0.5294, 0.5647]), tensor([0.2392, 0.2392, 0.2353,  ..., 0.5804, 0.5922, 0.6118]), tensor([0.1765, 0.1765, 0.1765,  ..., 0.6039, 0.6078, 0.6157]), tensor([0.2196, 0.2157, 0.2118,  ..., 0.6078, 0.6078, 0.6157]), tensor([0.2039, 0.2039, 0.2078,  ..., 0.6078, 0.6078, 0.6157]), tensor([0.4431, 0.4275, 0.4078,  ..., 0.6078, 0.6118, 0.6157]), tensor([0.4588, 0.4471, 0.4353,  ..., 0.6118, 0.6157, 0.6235]), tensor([0.6353, 0.6118, 0.5882,  ..., 0.6157, 0.6157, 0.6235]), tensor([0.5608, 0.5451, 0.5294,  ..., 0.6157, 0.6157, 0.6157]), tensor([0.3725, 0.3647, 0.3569,  ..., 0.6157, 0.6235, 0.6235]), tensor([0.3882, 0.3765, 0.3647,  ..., 0.6157, 0.6078, 0.6039]), tensor([0.1490, 0.1647, 0.1765,  ..., 0.6118, 0.6118, 0.6118]), tensor([0.0000, 0.0000, 0.0039,  ..., 0.6078, 0.6078, 0.6118]), tensor([0.0000, 0.0000, 0.0000,  ..., 0.6118, 0.6275, 0.6314]), tensor([0.1020, 0.1137, 0.1216,  ..., 0.6039, 0.6235, 0.6314]), tensor([0.0000, 0.0196, 0.0510,  ..., 0.6078, 0.6157, 0.6275]), tensor([0.1137, 0.1255, 0.1412,  ..., 0.6078, 0.6039, 0.6039]), tensor([0.0000, 0.0000, 0.0000,  ..., 0.6157, 0.6118, 0.6000]), tensor([0.0471, 0.0824, 0.1137,  ..., 0.6039, 0.5882, 0.5922]), tensor([0.0000, 0.0000, 0.0000,  ..., 0.6039, 0.5922, 0.6000]), tensor([0.0000, 0.0000, 0.0000,  ..., 0.6000, 0.5922, 0.5922]), tensor([0.0000, 0.0000, 0.0000,  ..., 0.6039, 0.6000, 0.5922]), tensor([0.0000, 0.0000, 0.0000,  ..., 0.5922, 0.5882, 0.5922]), tensor([0.0000, 0.0000, 0.0000,  ..., 0.5922, 0.6000, 0.6000]), tensor([0.0000, 0.0000, 0.0000,  ..., 0.5765, 0.5765, 0.5882]), tensor([0.0000, 0.0000, 0.0000,  ..., 0.5686, 0.5569, 0.5490]), tensor([0.2392, 0.2549, 0.2706,  ..., 0.5255, 0.5137, 0.4980]), tensor([0.0000, 0.0000, 0.0000,  ..., 0.5059, 0.5059, 0.4980]), tensor([0.0000, 0.0000, 0.0000,  ..., 0.5020, 0.5137, 0.5490]), tensor([0.0000, 0.0000, 0.0000,  ..., 0.5451, 0.6039, 0.6235]), tensor([0.0000, 0.0000, 0.0000,  ..., 0.5882, 0.5882, 0.6157]), tensor([0.0000, 0.0000, 0.0000,  ..., 0.6000, 0.5765, 0.6196]), tensor([0.2941, 0.2902, 0.2863,  ..., 0.5882, 0.5725, 0.6039]), tensor([0.2275, 0.2196, 0.2118,  ..., 0.6078, 0.5647, 0.5843]), tensor([0.2314, 0.2275, 0.2196,  ..., 0.5961, 0.5686, 0.5882]), tensor([0.2510, 0.2431, 0.2353,  ..., 0.5922, 0.5882, 0.6118]), tensor([0.2314, 0.2275, 0.2235,  ..., 0.5922, 0.5922, 0.6039]), tensor([0.2235, 0.2157, 0.2118,  ..., 0.5922, 0.5843, 0.6000]), tensor([0.1216, 0.1294, 0.1373,  ..., 0.5922, 0.5843, 0.5843]), tensor([0.0314, 0.0510, 0.0667,  ..., 0.5843, 0.5725, 0.5843]), tensor([0.0980, 0.1059, 0.1176,  ..., 0.5804, 0.5725, 0.5882]), tensor([0.1529, 0.1569, 0.1608,  ..., 0.5804, 0.5922, 0.5961]), tensor([0.0000, 0.0000, 0.0000,  ..., 0.5804, 0.5882, 0.5961]), tensor([0.0000, 0.0000, 0.0000,  ..., 0.5765, 0.5843, 0.5961]), tensor([0.0000, 0.0000, 0.0000,  ..., 0.5765, 0.5843, 0.6000]), tensor([0.2824, 0.2706, 0.2549,  ..., 0.5725, 0.5804, 0.5961]), tensor([0.0549, 0.0667, 0.0784,  ..., 0.5804, 0.5882, 0.5922]), tensor([0.1373, 0.1412, 0.1412,  ..., 0.5882, 0.5922, 0.5961]), tensor([0.1137, 0.1176, 0.1216,  ..., 0.5765, 0.5843, 0.5922]), tensor([0.0667, 0.0784, 0.0863,  ..., 0.5686, 0.5686, 0.5765]), tensor([0.0549, 0.0627, 0.0745,  ..., 0.5765, 0.5686, 0.5608]), tensor([0.0549, 0.0706, 0.0863,  ..., 0.5725, 0.5686, 0.5608]), tensor([0.0000, 0.0000, 0.0000,  ..., 0.5451, 0.5529, 0.5529]), tensor([0.0000, 0.0000, 0.0000,  ..., 0.5294, 0.5333, 0.5373]), tensor([0.0000, 0.0000, 0.0000,  ..., 0.5294, 0.5098, 0.4902]), tensor([0.1922, 0.1922, 0.1922,  ..., 0.4667, 0.4627, 0.4588]), tensor([0.1725, 0.1843, 0.1922,  ..., 0.4667, 0.5020, 0.5098]), tensor([0.1255, 0.1294, 0.1333,  ..., 0.5098, 0.5255, 0.5373]), tensor([0.3176, 0.3098, 0.3020,  ..., 0.5412, 0.5373, 0.5412]), tensor([0.2745, 0.2706, 0.2706,  ..., 0.5451, 0.5490, 0.5647]), tensor([0.2392, 0.2353, 0.2353,  ..., 0.5608, 0.5725, 0.5725]), tensor([0.0863, 0.1216, 0.1490,  ..., 0.5529, 0.5647, 0.5725]), tensor([0.0000, 0.0000, 0.0000,  ..., 0.5529, 0.5647, 0.5686]), tensor([0.0000, 0.0000, 0.0000,  ..., 0.5529, 0.5490, 0.5451]), tensor([0.0431, 0.0706, 0.0980,  ..., 0.5608, 0.5569, 0.5608]), tensor([0.0000, 0.0000, 0.0000,  ..., 0.5647, 0.5608, 0.5608]), tensor([0.0588, 0.0706, 0.0824,  ..., 0.5647, 0.5608, 0.5608]), tensor([0.0000, 0.0000, 0.0000,  ..., 0.5608, 0.5569, 0.5608]), tensor([0.0000, 0.0000, 0.0000,  ..., 0.5647, 0.5647, 0.5686]), tensor([0.0000, 0.0000, 0.0000,  ..., 0.5529, 0.5529, 0.5490]), tensor([0.2078, 0.1922, 0.1804,  ..., 0.5647, 0.5686, 0.5529]), tensor([0.0000, 0.0000, 0.0000,  ..., 0.5647, 0.5765, 0.5569]), tensor([0.0000, 0.0000, 0.0000,  ..., 0.5608, 0.5804, 0.5569]), tensor([0.0000, 0.0000, 0.0000,  ..., 0.5529, 0.5686, 0.5529]), tensor([0.0000, 0.0196, 0.0353,  ..., 0.5529, 0.5608, 0.5569]), tensor([0.0667, 0.0745, 0.0824,  ..., 0.5451, 0.5490, 0.5490]), tensor([0.1961, 0.1922, 0.1882,  ..., 0.5490, 0.5608, 0.5529]), tensor([0.0000, 0.0000, 0.0000,  ..., 0.5490, 0.5569, 0.5490]), tensor([0.0157, 0.0431, 0.0667,  ..., 0.5451, 0.5529, 0.5451]), tensor([0.0000, 0.0000, 0.0000,  ..., 0.5412, 0.5490, 0.5451]), tensor([0.0549, 0.0627, 0.0745,  ..., 0.5255, 0.5294, 0.5216]), tensor([0.2118, 0.2118, 0.2078,  ..., 0.4706, 0.4588, 0.4314]), tensor([0.2745, 0.2588, 0.2471,  ..., 0.3529, 0.3294, 0.3020]), tensor([0.4275, 0.4118, 0.3922,  ..., 0.1961, 0.1647, 0.1255]), tensor([0.3333, 0.3216, 0.3098,  ..., 0.1255, 0.1020, 0.1098]), tensor([0.2157, 0.2157, 0.2157,  ..., 0.1137, 0.1176, 0.1216]), tensor([0.0471, 0.0667, 0.0824,  ..., 0.1216, 0.1255, 0.1255]), tensor([0.0000, 0.0000, 0.0000,  ..., 0.1333, 0.1412, 0.1294]), tensor([0.0000, 0.0000, 0.0039,  ..., 0.1451, 0.1451, 0.1294]), tensor([0.0000, 0.0000, 0.0078,  ..., 0.1686, 0.1529, 0.1451]), tensor([0.1020, 0.1059, 0.1137,  ..., 0.2039, 0.2000, 0.1608]), tensor([0.1961, 0.1922, 0.1922,  ..., 0.3059, 0.2667, 0.1765]), tensor([0.1922, 0.1922, 0.1882,  ..., 0.3922, 0.3333, 0.2235]), tensor([0.2588, 0.2471, 0.2353,  ..., 0.4000, 0.3725, 0.3333]), tensor([0.1843, 0.1843, 0.1843,  ..., 0.4627, 0.5020, 0.3804]), tensor([0.0510, 0.0667, 0.0784,  ..., 0.5216, 0.5490, 0.5098]), tensor([0.2078, 0.2000, 0.1961,  ..., 0.4980, 0.5490, 0.5216]), tensor([0.2784, 0.2706, 0.2627,  ..., 0.5020, 0.4431, 0.4353]), tensor([0.1804, 0.1843, 0.1882,  ..., 0.4471, 0.3725, 0.3059]), tensor([0.1529, 0.1569, 0.1569,  ..., 0.4078, 0.3608, 0.2314]), tensor([0.3412, 0.3255, 0.3098,  ..., 0.4275, 0.3725, 0.2510]), tensor([0.2941, 0.2902, 0.2824,  ..., 0.4392, 0.3765, 0.3255]), tensor([0.2627, 0.2549, 0.2510,  ..., 0.4902, 0.4275, 0.3765]), tensor([0.0980, 0.1137, 0.1294,  ..., 0.4510, 0.4863, 0.5216]), tensor([0.0471, 0.0667, 0.0824,  ..., 0.4549, 0.5020, 0.4941]), tensor([0.0275, 0.0471, 0.0706,  ..., 0.4627, 0.4706, 0.4588]), tensor([0.1804, 0.1804, 0.1804,  ..., 0.3255, 0.2941, 0.2039]), tensor([0.2314, 0.2275, 0.2275,  ..., 0.1137, 0.0588, 0.0902]), tensor([0.1490, 0.1529, 0.1569,  ..., 0.1137, 0.1137, 0.1137]), tensor([0.1647, 0.1686, 0.1725,  ..., 0.1059, 0.1098, 0.1137]), tensor([0.1216, 0.1294, 0.1412,  ..., 0.1059, 0.1137, 0.1137]), tensor([0.1647, 0.1725, 0.1765,  ..., 0.1098, 0.1098, 0.1176]), tensor([0.2157, 0.2196, 0.2235,  ..., 0.1098, 0.1137, 0.1137]), tensor([0.1333, 0.1412, 0.1451,  ..., 0.1059, 0.1098, 0.1137]), tensor([0.2627, 0.2588, 0.2510,  ..., 0.0980, 0.0941, 0.0902]), tensor([0.1569, 0.1647, 0.1686,  ..., 0.0824, 0.0824, 0.0824]), tensor([0.0471, 0.0627, 0.0784,  ..., 0.0784, 0.0745, 0.0745]), tensor([0.2235, 0.2196, 0.2118,  ..., 0.0745, 0.0745, 0.0745]), tensor([0.3725, 0.3608, 0.3490,  ..., 0.0745, 0.0745, 0.0745]), tensor([0.4235, 0.4039, 0.3843,  ..., 0.0745, 0.0784, 0.0784]), tensor([0.4980, 0.4784, 0.4588,  ..., 0.0784, 0.0824, 0.0824]), tensor([0.4863, 0.4627, 0.4392,  ..., 0.0863, 0.0863, 0.0863]), tensor([0.4549, 0.4353, 0.4196,  ..., 0.0941, 0.0941, 0.0941]), tensor([0.3569, 0.3373, 0.3216,  ..., 0.0980, 0.0980, 0.0941]), tensor([0.3373, 0.3216, 0.3059,  ..., 0.0980, 0.0941, 0.0941]), tensor([0.2157, 0.2157, 0.2118,  ..., 0.0980, 0.0980, 0.0941]), tensor([0.0588, 0.0745, 0.0902,  ..., 0.0980, 0.0980, 0.0980]), tensor([0.1961, 0.1882, 0.1843,  ..., 0.1020, 0.1020, 0.1020]), tensor([0.2118, 0.2118, 0.2078,  ..., 0.1020, 0.1020, 0.1020]), tensor([0.0353, 0.0549, 0.0706,  ..., 0.1020, 0.1059, 0.1059]), tensor([0.0627, 0.0706, 0.0824,  ..., 0.1059, 0.1059, 0.1059]), tensor([0.0510, 0.0667, 0.0824,  ..., 0.1059, 0.1059, 0.1059]), tensor([0.2314, 0.2275, 0.2235,  ..., 0.1059, 0.1059, 0.1020]), tensor([0.2314, 0.2353, 0.2392,  ..., 0.1020, 0.1020, 0.1020]), tensor([0.0000, 0.0000, 0.0314,  ..., 0.1059, 0.1020, 0.1020]), tensor([0.0000, 0.0157, 0.0471,  ..., 0.1059, 0.1020, 0.1020]), tensor([0.0627, 0.0824, 0.1020,  ..., 0.1020, 0.1020, 0.1020]), tensor([0.0000, 0.0000, 0.0000,  ..., 0.0980, 0.1020, 0.1020]), tensor([0.1098, 0.1176, 0.1255,  ..., 0.0941, 0.0980, 0.0941]), tensor([0.2980, 0.2902, 0.2824,  ..., 0.0941, 0.0941, 0.0941]), tensor([0.3020, 0.2902, 0.2784,  ..., 0.0980, 0.0980, 0.0980]), tensor([0.4118, 0.3961, 0.3804,  ..., 0.0980, 0.0980, 0.0980]), tensor([0.3098, 0.2980, 0.2902,  ..., 0.1020, 0.0980, 0.1020]), tensor([0.2627, 0.2588, 0.2549,  ..., 0.0980, 0.0980, 0.0980]), tensor([0.2118, 0.2118, 0.2078,  ..., 0.0980, 0.0941, 0.0941]), tensor([0.2275, 0.2235, 0.2196,  ..., 0.0980, 0.0980, 0.0941]), tensor([0.2275, 0.2196, 0.2157,  ..., 0.0980, 0.0941, 0.0980]), tensor([0.2392, 0.2353, 0.2314,  ..., 0.0941, 0.0941, 0.0941]), tensor([0.2588, 0.2471, 0.2392,  ..., 0.0980, 0.0941, 0.0941]), tensor([0.3098, 0.2980, 0.2863,  ..., 0.0902, 0.0941, 0.0980]), tensor([0.2941, 0.2824, 0.2667,  ..., 0.0863, 0.0902, 0.0902]), tensor([0.3059, 0.2941, 0.2784,  ..., 0.0863, 0.0824, 0.0863]), tensor([0.2431, 0.2353, 0.2235,  ..., 0.0824, 0.0863, 0.0863]), tensor([0.1804, 0.1765, 0.1725,  ..., 0.0863, 0.0863, 0.0784]), tensor([0.0784, 0.0902, 0.0980,  ..., 0.0824, 0.0784, 0.0706]), tensor([0.0353, 0.0471, 0.0588,  ..., 0.0784, 0.0706, 0.0706]), tensor([0.0000, 0.0000, 0.0000,  ..., 0.0745, 0.0784, 0.0784]), tensor([0.0000, 0.0000, 0.0000,  ..., 0.0706, 0.0745, 0.0784]), tensor([0.0000, 0.0000, 0.0000,  ..., 0.0745, 0.0745, 0.0745]), tensor([0.0000, 0.0000, 0.0000,  ..., 0.0784, 0.0745, 0.0745]), tensor([0.0000, 0.0000, 0.0000,  ..., 0.0784, 0.0706, 0.0745]), tensor([0.0000, 0.0000, 0.0000,  ..., 0.0745, 0.0706, 0.0706]), tensor([0.0000, 0.0000, 0.0000,  ..., 0.0745, 0.0706, 0.0745]), tensor([0.0667, 0.0706, 0.0784,  ..., 0.0745, 0.0706, 0.0706]), tensor([0.0824, 0.0863, 0.0941,  ..., 0.0745, 0.0706, 0.0706]), tensor([0.1412, 0.1412, 0.1373,  ..., 0.0706, 0.0706, 0.0706]), tensor([0.3608, 0.3373, 0.3137,  ..., 0.0706, 0.0706, 0.0706]), tensor([0.2745, 0.2627, 0.2510,  ..., 0.0706, 0.0706, 0.0745]), tensor([0.4588, 0.4353, 0.4078,  ..., 0.0706, 0.0706, 0.0706]), tensor([0.2784, 0.2667, 0.2510,  ..., 0.0706, 0.0706, 0.0745]), tensor([0.2118, 0.2000, 0.1922,  ..., 0.0745, 0.0745, 0.0784]), tensor([0.1961, 0.1882, 0.1765,  ..., 0.0784, 0.0784, 0.0824]), tensor([0.1569, 0.1451, 0.1412,  ..., 0.0824, 0.0824, 0.0824]), tensor([0.2039, 0.2000, 0.1922,  ..., 0.0863, 0.0863, 0.0863]), tensor([0.0000, 0.0000, 0.0000,  ..., 0.0863, 0.0863, 0.0863]), tensor([0.0000, 0.0000, 0.0000,  ..., 0.0824, 0.0824, 0.0863]), tensor([0.0000, 0.0000, 0.0000,  ..., 0.0824, 0.0824, 0.0863]), tensor([0.0000, 0.0000, 0.0000,  ..., 0.0824, 0.0824, 0.0824]), tensor([0.0000, 0.0000, 0.0000,  ..., 0.0784, 0.0824, 0.0784]), tensor([0.0471, 0.0588, 0.0667,  ..., 0.0784, 0.0784, 0.0745]), tensor([0.0902, 0.0941, 0.0980,  ..., 0.0824, 0.0784, 0.0745]), tensor([0.1451, 0.1412, 0.1412,  ..., 0.0784, 0.0784, 0.0745]), tensor([0.1686, 0.1647, 0.1647,  ..., 0.0745, 0.0784, 0.0745]), tensor([0.1725, 0.1686, 0.1647,  ..., 0.0745, 0.0784, 0.0784]), tensor([0.2039, 0.1961, 0.1882,  ..., 0.0745, 0.0784, 0.0784]), tensor([0.2039, 0.1961, 0.1922,  ..., 0.0784, 0.0784, 0.0784]), tensor([0.0667, 0.0784, 0.0941,  ..., 0.0784, 0.0784, 0.0784]), tensor([0.0627, 0.0706, 0.0784,  ..., 0.0824, 0.0784, 0.0784]), tensor([0.1333, 0.1333, 0.1373,  ..., 0.0824, 0.0824, 0.0784]), tensor([0.2039, 0.1961, 0.1882,  ..., 0.0784, 0.0784, 0.0784]), tensor([0.1961, 0.1922, 0.1843,  ..., 0.0784, 0.0784, 0.0784]), tensor([0.1961, 0.1882, 0.1804,  ..., 0.0784, 0.0784, 0.0784]), tensor([0.1373, 0.1412, 0.1412,  ..., 0.0784, 0.0824, 0.0784]), tensor([0.0000, 0.0000, 0.0000,  ..., 0.0824, 0.0824, 0.0784]), tensor([0.1608, 0.1569, 0.1569,  ..., 0.0824, 0.0824, 0.0745]), tensor([0.3176, 0.3020, 0.2902,  ..., 0.0863, 0.0824, 0.0784]), tensor([0.0863, 0.1098, 0.1294,  ..., 0.0902, 0.0863, 0.0784]), tensor([0.2275, 0.2235, 0.2157,  ..., 0.0902, 0.0863, 0.0824]), tensor([0.1569, 0.1569, 0.1608,  ..., 0.0902, 0.0902, 0.0824]), tensor([0.2353, 0.2196, 0.2078,  ..., 0.0863, 0.0902, 0.0824]), tensor([0.3216, 0.3020, 0.2824,  ..., 0.0902, 0.0863, 0.0784]), tensor([0.2784, 0.2627, 0.2471,  ..., 0.0863, 0.0863, 0.0863]), tensor([0.1804, 0.1765, 0.1686,  ..., 0.0902, 0.0902, 0.0902]), tensor([0.0784, 0.0824, 0.0863,  ..., 0.0941, 0.0941, 0.0902]), tensor([0.1020, 0.1020, 0.1059,  ..., 0.0941, 0.0941, 0.0941]), tensor([0.2235, 0.2157, 0.2118,  ..., 0.0902, 0.0941, 0.0941]), tensor([0.1451, 0.1451, 0.1451,  ..., 0.0902, 0.0941, 0.0902]), tensor([0.2235, 0.2157, 0.2078,  ..., 0.0902, 0.0902, 0.0941]), tensor([0.2353, 0.2275, 0.2196,  ..., 0.0784, 0.0863, 0.0902]), tensor([0.2157, 0.2118, 0.2078,  ..., 0.0784, 0.0863, 0.0902]), tensor([0.1098, 0.1176, 0.1255,  ..., 0.0784, 0.0863, 0.0863]), tensor([0.0353, 0.0510, 0.0667,  ..., 0.0784, 0.0824, 0.0863]), tensor([0.1412, 0.1412, 0.1412,  ..., 0.0784, 0.0784, 0.0784]), tensor([0.1922, 0.1882, 0.1843,  ..., 0.0824, 0.0824, 0.0824]), tensor([0.2196, 0.2118, 0.2000,  ..., 0.0863, 0.0824, 0.0863]), tensor([0.2431, 0.2275, 0.2157,  ..., 0.0824, 0.0824, 0.0824]), tensor([0.1882, 0.1804, 0.1725,  ..., 0.0824, 0.0824, 0.0824]), tensor([0.2039, 0.1922, 0.1804,  ..., 0.0863, 0.0824, 0.0824]), tensor([0.3294, 0.3059, 0.2863,  ..., 0.0863, 0.0863, 0.0824]), tensor([0.3059, 0.2902, 0.2745,  ..., 0.0863, 0.0863, 0.0863]), tensor([0.3176, 0.3020, 0.2824,  ..., 0.0902, 0.0902, 0.0863]), tensor([0.2588, 0.2510, 0.2392,  ..., 0.0863, 0.0902, 0.0863]), tensor([0.0000, 0.0000, 0.0000,  ..., 0.0824, 0.0863, 0.0863]), tensor([0.0000, 0.0000, 0.0000,  ..., 0.0824, 0.0824, 0.0863]), tensor([0.0000, 0.0000, 0.0000,  ..., 0.0863, 0.0863, 0.0863]), tensor([0.0000, 0.0000, 0.0000,  ..., 0.0902, 0.0902, 0.0902]), tensor([0.2784, 0.2667, 0.2549,  ..., 0.0902, 0.0902, 0.0902]), tensor([0.3451, 0.3333, 0.3176,  ..., 0.0902, 0.0902, 0.0863]), tensor([0.0275, 0.0627, 0.0941,  ..., 0.0941, 0.0941, 0.0941]), tensor([0.2902, 0.2863, 0.2745,  ..., 0.0980, 0.0980, 0.0941]), tensor([0.0000, 0.0000, 0.0000,  ..., 0.0980, 0.0980, 0.0980]), tensor([0.0000, 0.0784, 0.1373,  ..., 0.1020, 0.1020, 0.1059]), tensor([0.0000, 0.0000, 0.0000,  ..., 0.1098, 0.1059, 0.1059]), tensor([0.0000, 0.0000, 0.0000,  ..., 0.1098, 0.1098, 0.1059]), tensor([0.0000, 0.0000, 0.0000,  ..., 0.1059, 0.1059, 0.1020]), tensor([0.0000, 0.0000, 0.0000,  ..., 0.1098, 0.1098, 0.1059]), tensor([0.0000, 0.0000, 0.0000,  ..., 0.1137, 0.1137, 0.1137]), tensor([0.0000, 0.0000, 0.0000,  ..., 0.1137, 0.1137, 0.1176]), tensor([0.0000, 0.0000, 0.0000,  ..., 0.1098, 0.1176, 0.1176]), tensor([0.0000, 0.0000, 0.0588,  ..., 0.0980, 0.1098, 0.1176]), tensor([0.0000, 0.0000, 0.0588,  ..., 0.0980, 0.0980, 0.1020]), tensor([0.0000, 0.0000, 0.0000,  ..., 0.0941, 0.0902, 0.0941]), tensor([0.3059, 0.2902, 0.2745,  ..., 0.0902, 0.0902, 0.0902]), tensor([0.2784, 0.2706, 0.2627,  ..., 0.0902, 0.0902, 0.0941]), tensor([0.0588, 0.0667, 0.0745,  ..., 0.0941, 0.0902, 0.0941]), tensor([0.1294, 0.1294, 0.1333,  ..., 0.0902, 0.0902, 0.0902]), tensor([0.1608, 0.1569, 0.1529,  ..., 0.0980, 0.0941, 0.0980]), tensor([0.1569, 0.1569, 0.1569,  ..., 0.0980, 0.0980, 0.0980]), tensor([0.2157, 0.2078, 0.2039,  ..., 0.0980, 0.0980, 0.0980]), tensor([0.0000, 0.0000, 0.0471,  ..., 0.0980, 0.1020, 0.1020]), tensor([0.0000, 0.0000, 0.0471,  ..., 0.1020, 0.1020, 0.1020]), tensor([0.0000, 0.0000, 0.0000,  ..., 0.0941, 0.1020, 0.1059]), tensor([0.0275, 0.0706, 0.1098,  ..., 0.0902, 0.0980, 0.1059]), tensor([0.0000, 0.0000, 0.0000,  ..., 0.0980, 0.1020, 0.1137]), tensor([0.0000, 0.0000, 0.0275,  ..., 0.1059, 0.1176, 0.1137]), tensor([0.0000, 0.0000, 0.0000,  ..., 0.1098, 0.1176, 0.1137]), tensor([0.0000, 0.0157, 0.0549,  ..., 0.1137, 0.1137, 0.1137]), tensor([0.0000, 0.0000, 0.0000,  ..., 0.1176, 0.1098, 0.1059]), tensor([0.0980, 0.1098, 0.1255,  ..., 0.1137, 0.1020, 0.0980]), tensor([0.0000, 0.0000, 0.0000,  ..., 0.1137, 0.1059, 0.1020]), tensor([0.0078, 0.0314, 0.0510,  ..., 0.1216, 0.1176, 0.1098]), tensor([0.0784, 0.0824, 0.0902,  ..., 0.1294, 0.1255, 0.1216]), tensor([0.1843, 0.1843, 0.1843,  ..., 0.1333, 0.1294, 0.1255]), tensor([0.0196, 0.0431, 0.0627,  ..., 0.1294, 0.1255, 0.1216]), tensor([0.1647, 0.1843, 0.2000,  ..., 0.1176, 0.1216, 0.1216]), tensor([0.0000, 0.0000, 0.0000,  ..., 0.1059, 0.1098, 0.1176]), tensor([0.0000, 0.0000, 0.0627,  ..., 0.1098, 0.1137, 0.1137]), tensor([0.0000, 0.0000, 0.0000,  ..., 0.1137, 0.1176, 0.1176]), tensor([0.0000, 0.0000, 0.0000,  ..., 0.1255, 0.1294, 0.1255]), tensor([0.0000, 0.0000, 0.0000,  ..., 0.1412, 0.1412, 0.1373]), tensor([0.0000, 0.0000, 0.0000,  ..., 0.1490, 0.1451, 0.1451]), tensor([0.0000, 0.0000, 0.0000,  ..., 0.1451, 0.1451, 0.1490]), tensor([0.0000, 0.0000, 0.0000,  ..., 0.1373, 0.1412, 0.1451]), tensor([0.0000, 0.0000, 0.0000,  ..., 0.1294, 0.1333, 0.1373]), tensor([0.0000, 0.0000, 0.0000,  ..., 0.1333, 0.1333, 0.1373]), tensor([0.0000, 0.0000, 0.0000,  ..., 0.1412, 0.1451, 0.1412]), tensor([0.0000, 0.0000, 0.0000,  ..., 0.1725, 0.1490, 0.1412]), tensor([0.0000, 0.0000, 0.0000,  ..., 0.1765, 0.1490, 0.1412]), tensor([0.0000, 0.0000, 0.0000,  ..., 0.1686, 0.1490, 0.1451]), tensor([0.0000, 0.0000, 0.0000,  ..., 0.1608, 0.1490, 0.1451]), tensor([0.0000, 0.0000, 0.0000,  ..., 0.1569, 0.1490, 0.1451]), tensor([0.0000, 0.0000, 0.0000,  ..., 0.1647, 0.1529, 0.1451]), tensor([0.0000, 0.0000, 0.0000,  ..., 0.1647, 0.1569, 0.1529]), tensor([0.0510, 0.0471, 0.0471,  ..., 0.1686, 0.1608, 0.1569]), tensor([0.0627, 0.0706, 0.0784,  ..., 0.1686, 0.1686, 0.1686]), tensor([0.1020, 0.1020, 0.1020,  ..., 0.1529, 0.1490, 0.1451]), tensor([0.0745, 0.0824, 0.0902,  ..., 0.1216, 0.1216, 0.1255]), tensor([0.0824, 0.0941, 0.1020,  ..., 0.1098, 0.1137, 0.1137]), tensor([0.0275, 0.0471, 0.0667,  ..., 0.1059, 0.1059, 0.1059]), tensor([0.0784, 0.0902, 0.1020,  ..., 0.1059, 0.1020, 0.0980]), tensor([0.0000, 0.0000, 0.0157,  ..., 0.1059, 0.1059, 0.1059]), tensor([0.0431, 0.0549, 0.0667,  ..., 0.1059, 0.1059, 0.1059]), tensor([0.0118, 0.0275, 0.0431,  ..., 0.1098, 0.1059, 0.1059]), tensor([0.0941, 0.1020, 0.1098,  ..., 0.1176, 0.1137, 0.1098]), tensor([0.0000, 0.0078, 0.0353,  ..., 0.1176, 0.1137, 0.1137]), tensor([0.0549, 0.0745, 0.0902,  ..., 0.1294, 0.1176, 0.1098]), tensor([0.0000, 0.0078, 0.0353,  ..., 0.1294, 0.1176, 0.1098]), tensor([0.1098, 0.1216, 0.1294,  ..., 0.1255, 0.1137, 0.1098]), tensor([0.0000, 0.0000, 0.0314,  ..., 0.1216, 0.1137, 0.1059]), tensor([0.0314, 0.0627, 0.0863,  ..., 0.1137, 0.1098, 0.1020]), tensor([0.0000, 0.0000, 0.0000,  ..., 0.1059, 0.1059, 0.0980]), tensor([0.0000, 0.0000, 0.0118,  ..., 0.0980, 0.1020, 0.0980]), tensor([0.0000, 0.0000, 0.0000,  ..., 0.1020, 0.1020, 0.0941]), tensor([0.0000, 0.0157, 0.0392,  ..., 0.1020, 0.1020, 0.0941]), tensor([0.0196, 0.0353, 0.0471,  ..., 0.0980, 0.1020, 0.0980]), tensor([0.0627, 0.0706, 0.0784,  ..., 0.1059, 0.1059, 0.1020]), tensor([0.0471, 0.0588, 0.0667,  ..., 0.1137, 0.1098, 0.1059]), tensor([0.0627, 0.0706, 0.0784,  ..., 0.1373, 0.1294, 0.1137]), tensor([0.0784, 0.0863, 0.0902,  ..., 0.1882, 0.1608, 0.1490]), tensor([0.0941, 0.0980, 0.1020,  ..., 0.2784, 0.2627, 0.2000]), tensor([0.0980, 0.0980, 0.1020,  ..., 0.3294, 0.3176, 0.2314]), tensor([0.0588, 0.0706, 0.0824,  ..., 0.3255, 0.3255, 0.2667]), tensor([0.0588, 0.0706, 0.0784,  ..., 0.3373, 0.3608, 0.3098]), tensor([0.0784, 0.0863, 0.0902,  ..., 0.3804, 0.4157, 0.3529]), tensor([0.0941, 0.0941, 0.0980,  ..., 0.3922, 0.4471, 0.3961]), tensor([0.0980, 0.0980, 0.0980,  ..., 0.3843, 0.4431, 0.4353]), tensor([0.1020, 0.1020, 0.1020,  ..., 0.3765, 0.4392, 0.4627]), tensor([0.0824, 0.0863, 0.0902,  ..., 0.3569, 0.4235, 0.4824]), tensor([0.0784, 0.0863, 0.0902,  ..., 0.3412, 0.4118, 0.4902]), tensor([0.0471, 0.0588, 0.0667,  ..., 0.3176, 0.4000, 0.4941]), tensor([0.0706, 0.0745, 0.0824,  ..., 0.3216, 0.3843, 0.4863]), tensor([0.0549, 0.0627, 0.0745,  ..., 0.3137, 0.3686, 0.4863]), tensor([0.0863, 0.0902, 0.0941,  ..., 0.2980, 0.3686, 0.4627]), tensor([0.0902, 0.0941, 0.0980,  ..., 0.3333, 0.3882, 0.4314]), tensor([0.1020, 0.1020, 0.1020,  ..., 0.3569, 0.3608, 0.4235]), tensor([0.0824, 0.0863, 0.0863,  ..., 0.2980, 0.3529, 0.3961]), tensor([0.0941, 0.0941, 0.0941,  ..., 0.3098, 0.2863, 0.3647]), tensor([0.1020, 0.1020, 0.1020,  ..., 0.3608, 0.3569, 0.3529]), tensor([0.0902, 0.0941, 0.0941,  ..., 0.3490, 0.3569, 0.3255]), tensor([0.0980, 0.0980, 0.0941,  ..., 0.3333, 0.3451, 0.3098]), tensor([0.1098, 0.1059, 0.1059,  ..., 0.3176, 0.3255, 0.2863]), tensor([0.0863, 0.0902, 0.0941,  ..., 0.2941, 0.2863, 0.2667]), tensor([0.0863, 0.0902, 0.0902,  ..., 0.3255, 0.3373, 0.3490]), tensor([0.1059, 0.1059, 0.1059,  ..., 0.3765, 0.4000, 0.4118]), tensor([0.1098, 0.1098, 0.1059,  ..., 0.3412, 0.3608, 0.3843]), tensor([0.0980, 0.0980, 0.1020,  ..., 0.2471, 0.2706, 0.2863]), tensor([0.0863, 0.0902, 0.0902,  ..., 0.2706, 0.2784, 0.3373]), tensor([0.0941, 0.0941, 0.0941,  ..., 0.2941, 0.3098, 0.3647]), tensor([0.1098, 0.1098, 0.1059,  ..., 0.3059, 0.2902, 0.3373]), tensor([0.1137, 0.1137, 0.1098,  ..., 0.2980, 0.2706, 0.2902]), tensor([0.1137, 0.1098, 0.1098,  ..., 0.2824, 0.2667, 0.2824]), tensor([0.1059, 0.1059, 0.1059,  ..., 0.2824, 0.2863, 0.3176]), tensor([0.0902, 0.0941, 0.0941,  ..., 0.2863, 0.3098, 0.3529]), tensor([0.0980, 0.0980, 0.0980,  ..., 0.3020, 0.3059, 0.3176]), tensor([0.1098, 0.1098, 0.1098,  ..., 0.2902, 0.2784, 0.2824]), tensor([0.1059, 0.1059, 0.1059,  ..., 0.2824, 0.2706, 0.2706]), tensor([0.1176, 0.1137, 0.1137,  ..., 0.2784, 0.2706, 0.2667]), tensor([0.1176, 0.1176, 0.1137,  ..., 0.2980, 0.2824, 0.2745]), tensor([0.1176, 0.1137, 0.1137,  ..., 0.2980, 0.2784, 0.2706]), tensor([0.1137, 0.1137, 0.1098,  ..., 0.2902, 0.2627, 0.2549]), tensor([0.1569, 0.1490, 0.1412,  ..., 0.2941, 0.2667, 0.2588]), tensor([0.1294, 0.1255, 0.1216,  ..., 0.3020, 0.3020, 0.2980]), tensor([0.1843, 0.1725, 0.1569,  ..., 0.3020, 0.3059, 0.3059]), tensor([0.1294, 0.1255, 0.1216,  ..., 0.3059, 0.2980, 0.2784]), tensor([0.1529, 0.1451, 0.1333,  ..., 0.2902, 0.2902, 0.2863]), tensor([0.1569, 0.1490, 0.1373,  ..., 0.2706, 0.2980, 0.3137]), tensor([0.1725, 0.1647, 0.1529,  ..., 0.2392, 0.2863, 0.3137]), tensor([0.1608, 0.1529, 0.1451,  ..., 0.2157, 0.2706, 0.3020]), tensor([0.1686, 0.1608, 0.1569,  ..., 0.2196, 0.2745, 0.3020]), tensor([0.1569, 0.1529, 0.1490,  ..., 0.2314, 0.2941, 0.3451]), tensor([0.1686, 0.1608, 0.1569,  ..., 0.2431, 0.3255, 0.3647]), tensor([0.1333, 0.1333, 0.1294,  ..., 0.2588, 0.3569, 0.4000]), tensor([0.1255, 0.1255, 0.1255,  ..., 0.2745, 0.3686, 0.4078]), tensor([0.1216, 0.1216, 0.1216,  ..., 0.2784, 0.3843, 0.4275]), tensor([0.1294, 0.1255, 0.1255,  ..., 0.2784, 0.4118, 0.4510]), tensor([0.1490, 0.1451, 0.1412,  ..., 0.2745, 0.4157, 0.4667]), tensor([0.1686, 0.1647, 0.1569,  ..., 0.2706, 0.4039, 0.4549]), tensor([0.1804, 0.1686, 0.1608,  ..., 0.3059, 0.4118, 0.4588]), tensor([0.1804, 0.1725, 0.1608,  ..., 0.3176, 0.4196, 0.4588]), tensor([0.2000, 0.1882, 0.1725,  ..., 0.4039, 0.4549, 0.4627]), tensor([0.2000, 0.1882, 0.1765,  ..., 0.4863, 0.5020, 0.4863]), tensor([0.1882, 0.1765, 0.1647,  ..., 0.4000, 0.3961, 0.3882]), tensor([0.1647, 0.1569, 0.1490,  ..., 0.3373, 0.2784, 0.2980]), tensor([0.1569, 0.1490, 0.1412,  ..., 0.2431, 0.2471, 0.2118]), tensor([0.1529, 0.1451, 0.1373,  ..., 0.1804, 0.1686, 0.2039]), tensor([0.1255, 0.1216, 0.1216,  ..., 0.1686, 0.2078, 0.2196]), tensor([0.0902, 0.0980, 0.1020,  ..., 0.2196, 0.2392, 0.2588]), tensor([0.0863, 0.0941, 0.0980,  ..., 0.2980, 0.3255, 0.3176]), tensor([0.0941, 0.1020, 0.1059,  ..., 0.3569, 0.3451, 0.3569]), tensor([0.1020, 0.1059, 0.1098,  ..., 0.3725, 0.3765, 0.3725]), tensor([0.1059, 0.1098, 0.1137,  ..., 0.2588, 0.2627, 0.2667]), tensor([0.0902, 0.0980, 0.1059,  ..., 0.2353, 0.2784, 0.2745]), tensor([0.1098, 0.1137, 0.1216,  ..., 0.2745, 0.2824, 0.2980]), tensor([0.2039, 0.1961, 0.1843,  ..., 0.2824, 0.2902, 0.3176]), tensor([0.1490, 0.1490, 0.1529,  ..., 0.2784, 0.2706, 0.3020]), tensor([0.1882, 0.1804, 0.1765,  ..., 0.2549, 0.2510, 0.2941]), tensor([0.1804, 0.1725, 0.1686,  ..., 0.2549, 0.2706, 0.2980]), tensor([0.2353, 0.2196, 0.2078,  ..., 0.2667, 0.3176, 0.3608]), tensor([0.1922, 0.1843, 0.1765,  ..., 0.2941, 0.3294, 0.3647]), tensor([0.2353, 0.2196, 0.2039,  ..., 0.2667, 0.2784, 0.2902]), tensor([0.2392, 0.2196, 0.2039,  ..., 0.2353, 0.2039, 0.1961]), tensor([0.2667, 0.2510, 0.2353,  ..., 0.1765, 0.1608, 0.1451]), tensor([0.2118, 0.2039, 0.1922,  ..., 0.1255, 0.1216, 0.1176]), tensor([0.2510, 0.2353, 0.2196,  ..., 0.1216, 0.1216, 0.1176]), tensor([0.2431, 0.2275, 0.2118,  ..., 0.1216, 0.1176, 0.1216]), tensor([0.2392, 0.2275, 0.2118,  ..., 0.1216, 0.1176, 0.1216]), tensor([0.2000, 0.1922, 0.1843,  ..., 0.1255, 0.1255, 0.1255]), tensor([0.2078, 0.1961, 0.1882,  ..., 0.1255, 0.1294, 0.1333]), tensor([0.2118, 0.2000, 0.1922,  ..., 0.1373, 0.1373, 0.1412]), tensor([0.2000, 0.1961, 0.1882,  ..., 0.1451, 0.1451, 0.1451]), tensor([0.1882, 0.1843, 0.1804,  ..., 0.1647, 0.1647, 0.1608]), tensor([0.1804, 0.1804, 0.1765,  ..., 0.1843, 0.1882, 0.1843]), tensor([0.1843, 0.1804, 0.1804,  ..., 0.2039, 0.2039, 0.2039]), tensor([0.1961, 0.1922, 0.1882,  ..., 0.2196, 0.2196, 0.2196]), tensor([0.2078, 0.2039, 0.1961,  ..., 0.2314, 0.2314, 0.2314]), tensor([0.1882, 0.1882, 0.1843,  ..., 0.2392, 0.2392, 0.2431]), tensor([0.2275, 0.2157, 0.2039,  ..., 0.2510, 0.2510, 0.2510]), tensor([0.1961, 0.1922, 0.1804,  ..., 0.2588, 0.2627, 0.2627]), tensor([0.2196, 0.2039, 0.1882,  ..., 0.2706, 0.2745, 0.2745]), tensor([0.1882, 0.1765, 0.1647,  ..., 0.2745, 0.2784, 0.2745]), tensor([0.2314, 0.2118, 0.1882,  ..., 0.2824, 0.2784, 0.2745]), tensor([0.2000, 0.1882, 0.1725,  ..., 0.2863, 0.2824, 0.2784]), tensor([0.2275, 0.2118, 0.1961,  ..., 0.2902, 0.2863, 0.2863]), tensor([0.2039, 0.1961, 0.1882,  ..., 0.2941, 0.2902, 0.2902]), tensor([0.2235, 0.2157, 0.2078,  ..., 0.2941, 0.2941, 0.2863]), tensor([0.1765, 0.1765, 0.1765,  ..., 0.2706, 0.2745, 0.2745]), tensor([0.1961, 0.1922, 0.1882,  ..., 0.2392, 0.2431, 0.2471]), tensor([0.1961, 0.1922, 0.1922,  ..., 0.2353, 0.2431, 0.2392]), tensor([0.1725, 0.1765, 0.1804,  ..., 0.2784, 0.2784, 0.2745]), tensor([0.2039, 0.2039, 0.2000,  ..., 0.3098, 0.3059, 0.3059]), tensor([0.2235, 0.2196, 0.2157,  ..., 0.3333, 0.3294, 0.3255]), tensor([0.1765, 0.1843, 0.1882,  ..., 0.3333, 0.3333, 0.3333]), tensor([0.1569, 0.1608, 0.1686,  ..., 0.3333, 0.3333, 0.3373]), tensor([0.1686, 0.1725, 0.1765,  ..., 0.3373, 0.3373, 0.3412]), tensor([0.1922, 0.1922, 0.1882,  ..., 0.3373, 0.3373, 0.3412]), tensor([0.2118, 0.2078, 0.2078,  ..., 0.3373, 0.3373, 0.3373]), tensor([0.1765, 0.1843, 0.1922,  ..., 0.3333, 0.3333, 0.3333]), tensor([0.1529, 0.1608, 0.1686,  ..., 0.3176, 0.3176, 0.3255]), tensor([0.2078, 0.2000, 0.1961,  ..., 0.3137, 0.3098, 0.3098]), tensor([0.2588, 0.2510, 0.2431,  ..., 0.3059, 0.3098, 0.3059]), tensor([0.2510, 0.2549, 0.2549,  ..., 0.3098, 0.3098, 0.3098]), tensor([0.2510, 0.2588, 0.2627,  ..., 0.3216, 0.3216, 0.3255]), tensor([0.2510, 0.2588, 0.2667,  ..., 0.3451, 0.3412, 0.3529]), tensor([0.2667, 0.2706, 0.2706,  ..., 0.3686, 0.3686, 0.3765]), tensor([0.2549, 0.2588, 0.2667,  ..., 0.3882, 0.3882, 0.3922]), tensor([0.2588, 0.2627, 0.2627,  ..., 0.3961, 0.3961, 0.4000]), tensor([0.1882, 0.2078, 0.2275,  ..., 0.4000, 0.4039, 0.4000]), tensor([0.1843, 0.1882, 0.1961,  ..., 0.4000, 0.4078, 0.4039]), tensor([0.2314, 0.2157, 0.2039,  ..., 0.4078, 0.4078, 0.4078]), tensor([0.1804, 0.1804, 0.1765,  ..., 0.4078, 0.4078, 0.4118]), tensor([0.1725, 0.1686, 0.1686,  ..., 0.4078, 0.4078, 0.4118]), tensor([0.1608, 0.1647, 0.1686,  ..., 0.4118, 0.4078, 0.4078]), tensor([0.2471, 0.2353, 0.2275,  ..., 0.4039, 0.4039, 0.4039]), tensor([0.2196, 0.2314, 0.2392,  ..., 0.4078, 0.4118, 0.4118]), tensor([0.2353, 0.2510, 0.2667,  ..., 0.4196, 0.4196, 0.4196]), tensor([0.3098, 0.3137, 0.3137,  ..., 0.4196, 0.4196, 0.4235]), tensor([0.2745, 0.2863, 0.2980,  ..., 0.4196, 0.4157, 0.4196]), tensor([0.2588, 0.2706, 0.2824,  ..., 0.4196, 0.4196, 0.4196]), tensor([0.2667, 0.2745, 0.2824,  ..., 0.4157, 0.4196, 0.4157]), tensor([0.2667, 0.2745, 0.2784,  ..., 0.4196, 0.4235, 0.4196]), tensor([0.2471, 0.2549, 0.2627,  ..., 0.4275, 0.4275, 0.4235]), tensor([0.2314, 0.2392, 0.2471,  ..., 0.4353, 0.4353, 0.4314]), tensor([0.2392, 0.2392, 0.2431,  ..., 0.4353, 0.4314, 0.4275]), tensor([0.2275, 0.2275, 0.2314,  ..., 0.4275, 0.4275, 0.4275]), tensor([0.2314, 0.2275, 0.2275,  ..., 0.4314, 0.4275, 0.4235]), tensor([0.2588, 0.2510, 0.2431,  ..., 0.4275, 0.4235, 0.4235]), tensor([0.2902, 0.2824, 0.2706,  ..., 0.4235, 0.4235, 0.4235]), tensor([0.2471, 0.2588, 0.2667,  ..., 0.4275, 0.4275, 0.4275]), tensor([0.2314, 0.2471, 0.2627,  ..., 0.4314, 0.4275, 0.4235]), tensor([0.2196, 0.2431, 0.2588,  ..., 0.4235, 0.4235, 0.4275]), tensor([0.2784, 0.2824, 0.2863,  ..., 0.4196, 0.4196, 0.4235]), tensor([0.3020, 0.3020, 0.2980,  ..., 0.4196, 0.4196, 0.4235]), tensor([0.3373, 0.3216, 0.3059,  ..., 0.4196, 0.4157, 0.4157]), tensor([0.3333, 0.3137, 0.2941,  ..., 0.4275, 0.4157, 0.4118]), tensor([0.2745, 0.2588, 0.2471,  ..., 0.4235, 0.4157, 0.4118]), tensor([0.2431, 0.2314, 0.2157,  ..., 0.4235, 0.4235, 0.4235]), tensor([0.1922, 0.1922, 0.1882,  ..., 0.4314, 0.4314, 0.4314]), tensor([0.1647, 0.1725, 0.1804,  ..., 0.4353, 0.4314, 0.4353]), tensor([0.1333, 0.1490, 0.1608,  ..., 0.4314, 0.4314, 0.4314]), tensor([0.1529, 0.1608, 0.1647,  ..., 0.4392, 0.4392, 0.4353]), tensor([0.1176, 0.1333, 0.1490,  ..., 0.4392, 0.4392, 0.4392]), tensor([0.1451, 0.1569, 0.1647,  ..., 0.4392, 0.4392, 0.4392]), tensor([0.1216, 0.1412, 0.1608,  ..., 0.4392, 0.4353, 0.4353]), tensor([0.1804, 0.1843, 0.1922,  ..., 0.4314, 0.4275, 0.4275]), tensor([0.1765, 0.1922, 0.2078,  ..., 0.4275, 0.4235, 0.4235]), tensor([0.1686, 0.1882, 0.2078,  ..., 0.4314, 0.4314, 0.4275]), tensor([0.0431, 0.1333, 0.2196,  ..., 0.4314, 0.4353, 0.4314]), tensor([0.4431, 0.4627, 0.4824,  ..., 0.4235, 0.4314, 0.4314]), tensor([0.4235, 0.4941, 0.5529,  ..., 0.4235, 0.4275, 0.4314]), tensor([0.4275, 0.5255, 0.6000,  ..., 0.4314, 0.4275, 0.4235]), tensor([0.3490, 0.4706, 0.5647,  ..., 0.4314, 0.4275, 0.4275]), tensor([0.5020, 0.5686, 0.6275,  ..., 0.4314, 0.4353, 0.4314]), tensor([0.4235, 0.5098, 0.5843,  ..., 0.4314, 0.4314, 0.4314]), tensor([0.5765, 0.6039, 0.6275,  ..., 0.4275, 0.4275, 0.4275]), tensor([0.5686, 0.5843, 0.6039,  ..., 0.4314, 0.4275, 0.4235]), tensor([0.5529, 0.5686, 0.5804,  ..., 0.4353, 0.4275, 0.4235]), tensor([0.4510, 0.4824, 0.5098,  ..., 0.4353, 0.4353, 0.4314]), tensor([0.5490, 0.5333, 0.5137,  ..., 0.4353, 0.4353, 0.4392]), tensor([0.5725, 0.5412, 0.5098,  ..., 0.4353, 0.4314, 0.4314]), tensor([0.6353, 0.5882, 0.5333,  ..., 0.4314, 0.4275, 0.4235]), tensor([0.5765, 0.5451, 0.5059,  ..., 0.4275, 0.4275, 0.4235]), tensor([0.3098, 0.3176, 0.3255,  ..., 0.4196, 0.4235, 0.4196]), tensor([0.2627, 0.2549, 0.2431,  ..., 0.4196, 0.4196, 0.4078]), tensor([0.2510, 0.2431, 0.2353,  ..., 0.4235, 0.4196, 0.4039]), tensor([0.2235, 0.2235, 0.2235,  ..., 0.4275, 0.4235, 0.4078]), tensor([0.2392, 0.2314, 0.2275,  ..., 0.4275, 0.4275, 0.4078]), tensor([0.2392, 0.2353, 0.2314,  ..., 0.4275, 0.4275, 0.4118]), tensor([0.2196, 0.2196, 0.2235,  ..., 0.4275, 0.4275, 0.4078]), tensor([0.2314, 0.2275, 0.2275,  ..., 0.4275, 0.4314, 0.4078]), tensor([0.2314, 0.2314, 0.2353,  ..., 0.4314, 0.4353, 0.4000]), tensor([0.2196, 0.2235, 0.2235,  ..., 0.4314, 0.4275, 0.3882]), tensor([0.2078, 0.2118, 0.2157,  ..., 0.4235, 0.4235, 0.3804]), tensor([0.2000, 0.2039, 0.2078,  ..., 0.4275, 0.4275, 0.3765]), tensor([0.1725, 0.1843, 0.1922,  ..., 0.4275, 0.4314, 0.3765]), tensor([0.1882, 0.1922, 0.2000,  ..., 0.4275, 0.4275, 0.3647]), tensor([0.1961, 0.2000, 0.2039,  ..., 0.4275, 0.4235, 0.3647]), tensor([0.2157, 0.2235, 0.2275,  ..., 0.4314, 0.4275, 0.3608]), tensor([0.2314, 0.2314, 0.2314,  ..., 0.4275, 0.4275, 0.3569]), tensor([0.1922, 0.2039, 0.2118,  ..., 0.4196, 0.4196, 0.3529]), tensor([0.1922, 0.1922, 0.1882,  ..., 0.4039, 0.4039, 0.3451]), tensor([0.1922, 0.1882, 0.1843,  ..., 0.4157, 0.4157, 0.3490]), tensor([0.1686, 0.1686, 0.1725,  ..., 0.4196, 0.4196, 0.3569]), tensor([0.1725, 0.1725, 0.1725,  ..., 0.4196, 0.4196, 0.3882]), tensor([0.1647, 0.1647, 0.1686,  ..., 0.4118, 0.4118, 0.4627]), tensor([0.1647, 0.1686, 0.1686,  ..., 0.4118, 0.4078, 0.5137]), tensor([0.1490, 0.1529, 0.1608,  ..., 0.4157, 0.4196, 0.5412]), tensor([0.1608, 0.1647, 0.1647,  ..., 0.4118, 0.4157, 0.5373]), tensor([0.1569, 0.1608, 0.1608,  ..., 0.4157, 0.4157, 0.5529]), tensor([0.1490, 0.1529, 0.1569,  ..., 0.4235, 0.4235, 0.5490]), tensor([0.1451, 0.1529, 0.1569,  ..., 0.4235, 0.4235, 0.5529]), tensor([0.1725, 0.1765, 0.1804,  ..., 0.4196, 0.4196, 0.5373]), tensor([0.1961, 0.2039, 0.2078,  ..., 0.4235, 0.4196, 0.5176]), tensor([0.2157, 0.2314, 0.2471,  ..., 0.4235, 0.4235, 0.4863]), tensor([0.2902, 0.2980, 0.3098,  ..., 0.4235, 0.4235, 0.4745]), tensor([0.3882, 0.3882, 0.3882,  ..., 0.4196, 0.4235, 0.4667]), tensor([0.4078, 0.4196, 0.4275,  ..., 0.4157, 0.4157, 0.4784]), tensor([0.4078, 0.4196, 0.4314,  ..., 0.4039, 0.4039, 0.4431]), tensor([0.4314, 0.4314, 0.4314,  ..., 0.4039, 0.4078, 0.3451]), tensor([0.4510, 0.4431, 0.4353,  ..., 0.4039, 0.4078, 0.2980]), tensor([0.4549, 0.4431, 0.4314,  ..., 0.4039, 0.4118, 0.2902]), tensor([0.4745, 0.4588, 0.4431,  ..., 0.4039, 0.4118, 0.2824]), tensor([0.4235, 0.4353, 0.4431,  ..., 0.4078, 0.4078, 0.2784]), tensor([0.3765, 0.3961, 0.4118,  ..., 0.4078, 0.4039, 0.2784]), tensor([0.4275, 0.4275, 0.4275,  ..., 0.4157, 0.4039, 0.2706]), tensor([0.4353, 0.4392, 0.4392,  ..., 0.4196, 0.4118, 0.2745]), tensor([0.4000, 0.4235, 0.4392,  ..., 0.4078, 0.4078, 0.2745]), tensor([0.4078, 0.4039, 0.4078,  ..., 0.3922, 0.4000, 0.2627]), tensor([0.3686, 0.3647, 0.3647,  ..., 0.4000, 0.4039, 0.2510]), tensor([0.3451, 0.3294, 0.3137,  ..., 0.4039, 0.4078, 0.2431]), tensor([0.3216, 0.3059, 0.2863,  ..., 0.4078, 0.4157, 0.2314]), tensor([0.2667, 0.2667, 0.2706,  ..., 0.4157, 0.4196, 0.2275]), tensor([0.2431, 0.2471, 0.2471,  ..., 0.4118, 0.4157, 0.2275]), tensor([0.2078, 0.2157, 0.2235,  ..., 0.4078, 0.4118, 0.2431]), tensor([0.2235, 0.2235, 0.2235,  ..., 0.4118, 0.4118, 0.2431]), tensor([0.2078, 0.2118, 0.2157,  ..., 0.4000, 0.4039, 0.2235]), tensor([0.1804, 0.1882, 0.1961,  ..., 0.4078, 0.4039, 0.1961]), tensor([0.1647, 0.1686, 0.1725,  ..., 0.4039, 0.4039, 0.1882]), tensor([0.1686, 0.1686, 0.1686,  ..., 0.3961, 0.3882, 0.3922]), tensor([0.1608, 0.1647, 0.1647,  ..., 0.3922, 0.3843, 0.3843]), tensor([0.1608, 0.1569, 0.1569,  ..., 0.4039, 0.3882, 0.3922]), tensor([0.1569, 0.1569, 0.1529,  ..., 0.4157, 0.3961, 0.4000]), tensor([0.1490, 0.1490, 0.1490,  ..., 0.4118, 0.3922, 0.3961]), tensor([0.1412, 0.1412, 0.1412,  ..., 0.4118, 0.3922, 0.3922]), tensor([0.1412, 0.1373, 0.1373,  ..., 0.4118, 0.3882, 0.3922]), tensor([0.1373, 0.1373, 0.1373,  ..., 0.4157, 0.3843, 0.3882]), tensor([0.1294, 0.1294, 0.1333,  ..., 0.4157, 0.3843, 0.3843]), tensor([0.1294, 0.1294, 0.1294,  ..., 0.4118, 0.3765, 0.3804]), tensor([0.1255, 0.1294, 0.1294,  ..., 0.3882, 0.3647, 0.3647]), tensor([0.1137, 0.1216, 0.1255,  ..., 0.3529, 0.3373, 0.3373]), tensor([0.1059, 0.1098, 0.1137,  ..., 0.3294, 0.3176, 0.3216]), tensor([0.1059, 0.1059, 0.1059,  ..., 0.3216, 0.3373, 0.3373]), tensor([0.0941, 0.0980, 0.1020,  ..., 0.2980, 0.3412, 0.3412]), tensor([0.0902, 0.0941, 0.1020,  ..., 0.2902, 0.3333, 0.3294]), tensor([0.0902, 0.0941, 0.0941,  ..., 0.3020, 0.3412, 0.3373]), tensor([0.0902, 0.0941, 0.0941,  ..., 0.3412, 0.3725, 0.3686]), tensor([0.0863, 0.0902, 0.0941,  ..., 0.3804, 0.3961, 0.3961]), tensor([0.0980, 0.0980, 0.1020,  ..., 0.3922, 0.4078, 0.4078]), tensor([0.0902, 0.0980, 0.1020,  ..., 0.3882, 0.4118, 0.4078]), tensor([0.1059, 0.1098, 0.1137,  ..., 0.3843, 0.3961, 0.3961]), tensor([0.1098, 0.1098, 0.1098,  ..., 0.3843, 0.3961, 0.3961]), tensor([0.1098, 0.1098, 0.1059,  ..., 0.3804, 0.4078, 0.4078]), tensor([0.1176, 0.1137, 0.1059,  ..., 0.3804, 0.4039, 0.4039]), tensor([0.0980, 0.1020, 0.1020,  ..., 0.3765, 0.3961, 0.3961]), tensor([0.0941, 0.0980, 0.0980,  ..., 0.3686, 0.3765, 0.3765]), tensor([0.1020, 0.1059, 0.1059,  ..., 0.3647, 0.3529, 0.3529]), tensor([0.1020, 0.1020, 0.1020,  ..., 0.3686, 0.3373, 0.3373]), tensor([0.0902, 0.0980, 0.0980,  ..., 0.3725, 0.3255, 0.3255]), tensor([0.0863, 0.0941, 0.0941,  ..., 0.3843, 0.3176, 0.3216]), tensor([0.0902, 0.0980, 0.1020,  ..., 0.3843, 0.3059, 0.3098]), tensor([0.0941, 0.0980, 0.1059,  ..., 0.3804, 0.3020, 0.3020]), tensor([0.1059, 0.1098, 0.1137,  ..., 0.3804, 0.2980, 0.2980]), tensor([0.1176, 0.1216, 0.1255,  ..., 0.3804, 0.2824, 0.2863]), tensor([0.1255, 0.1333, 0.1412,  ..., 0.3765, 0.2667, 0.2706]), tensor([0.1412, 0.1490, 0.1608,  ..., 0.3608, 0.2549, 0.2549]), tensor([0.1569, 0.1686, 0.1804,  ..., 0.3725, 0.2549, 0.2549]), tensor([0.1843, 0.1961, 0.2078,  ..., 0.3725, 0.2471, 0.2471]), tensor([0.2118, 0.2235, 0.2275,  ..., 0.3725, 0.2392, 0.2431]), tensor([0.2314, 0.2392, 0.2431,  ..., 0.3686, 0.2314, 0.2353]), tensor([0.2392, 0.2510, 0.2549,  ..., 0.3804, 0.2275, 0.2314]), tensor([0.2667, 0.2745, 0.2745,  ..., 0.3804, 0.2196, 0.2235]), tensor([0.2863, 0.2941, 0.2941,  ..., 0.3686, 0.2118, 0.2157]), tensor([0.2863, 0.2980, 0.2980,  ..., 0.3608, 0.2000, 0.2039]), tensor([0.2824, 0.2902, 0.2980,  ..., 0.3608, 0.1922, 0.1961]), tensor([0.2941, 0.2941, 0.2980,  ..., 0.3765, 0.1961, 0.2000]), tensor([0.2980, 0.2980, 0.3020,  ..., 0.3765, 0.1882, 0.1922]), tensor([0.3098, 0.3098, 0.3098,  ..., 0.3765, 0.1765, 0.1804]), tensor([0.3098, 0.3176, 0.3176,  ..., 0.3922, 0.1686, 0.1725]), tensor([0.3176, 0.3216, 0.3176,  ..., 0.3843, 0.1569, 0.1608]), tensor([0.3216, 0.3216, 0.3176,  ..., 0.3569, 0.1412, 0.1451]), tensor([0.3294, 0.3294, 0.3294,  ..., 0.3490, 0.1333, 0.1373]), tensor([0.3333, 0.3294, 0.3294,  ..., 0.3725, 0.1294, 0.1333]), tensor([0.3294, 0.3216, 0.3216,  ..., 0.3608, 0.1216, 0.1255]), tensor([0.3333, 0.3216, 0.3137,  ..., 0.3490, 0.1137, 0.1176]), tensor([0.2902, 0.2941, 0.2784,  ..., 0.3608, 0.1137, 0.1176]), tensor([0.2588, 0.2471, 0.2235,  ..., 0.3647, 0.1137, 0.1176]), tensor([0.2353, 0.2275, 0.2275,  ..., 0.3725, 0.1137, 0.1216]), tensor([0.2157, 0.2235, 0.2275,  ..., 0.3686, 0.3686, 0.1137]), tensor([0.2314, 0.2275, 0.2235,  ..., 0.3765, 0.3804, 0.3804]), tensor([0.2275, 0.2275, 0.2196,  ..., 0.3922, 0.3961, 0.4000]), tensor([0.2196, 0.2235, 0.2235,  ..., 0.3922, 0.3961, 0.3961]), tensor([0.2078, 0.2196, 0.2235,  ..., 0.3725, 0.3765, 0.3804]), tensor([0.2118, 0.2118, 0.2157,  ..., 0.3569, 0.3608, 0.3647]), tensor([0.2157, 0.2157, 0.2078,  ..., 0.3569, 0.3569, 0.3608]), tensor([0.2039, 0.2078, 0.2000,  ..., 0.3529, 0.3529, 0.3569]), tensor([0.1922, 0.1922, 0.1882,  ..., 0.3451, 0.3490, 0.3490]), tensor([0.1882, 0.1961, 0.2000,  ..., 0.3373, 0.3412, 0.3451]), tensor([0.2000, 0.2157, 0.2196,  ..., 0.3373, 0.3373, 0.3412]), tensor([0.2118, 0.2235, 0.2275,  ..., 0.3373, 0.3412, 0.3412]), tensor([0.2196, 0.2275, 0.2314,  ..., 0.3373, 0.3373, 0.3412]), tensor([0.2118, 0.2235, 0.2314,  ..., 0.3333, 0.3373, 0.3412]), tensor([0.2118, 0.2196, 0.2314,  ..., 0.3412, 0.3412, 0.3451]), tensor([0.2118, 0.2235, 0.2353,  ..., 0.3451, 0.3490, 0.3490]), tensor([0.2196, 0.2275, 0.2392,  ..., 0.3412, 0.3451, 0.3490]), tensor([0.2275, 0.2314, 0.2353,  ..., 0.3451, 0.3451, 0.3490]), tensor([0.2431, 0.2431, 0.2471,  ..., 0.3451, 0.3451, 0.3490]), tensor([0.2431, 0.2431, 0.2431,  ..., 0.3451, 0.3451, 0.3490]), tensor([0.2431, 0.2431, 0.2392,  ..., 0.3451, 0.3490, 0.3490]), tensor([0.2431, 0.2392, 0.2353,  ..., 0.3373, 0.3373, 0.3412]), tensor([0.2353, 0.2353, 0.2314,  ..., 0.3137, 0.3137, 0.3176]), tensor([0.2275, 0.2235, 0.2196,  ..., 0.2863, 0.2863, 0.2863]), tensor([0.2157, 0.2157, 0.2157,  ..., 0.2784, 0.2784, 0.2745]), tensor([0.2000, 0.2000, 0.2039,  ..., 0.2706, 0.2706, 0.2706]), tensor([0.2078, 0.2078, 0.2078,  ..., 0.2824, 0.2824, 0.2784]), tensor([0.2118, 0.2118, 0.2118,  ..., 0.2941, 0.2941, 0.2941]), tensor([0.2039, 0.2000, 0.1961,  ..., 0.3333, 0.3333, 0.3333]), tensor([0.1922, 0.1882, 0.1882,  ..., 0.3412, 0.3412, 0.3412]), tensor([0.1843, 0.1882, 0.1843,  ..., 0.3451, 0.3451, 0.3451]), tensor([0.1804, 0.1804, 0.1843,  ..., 0.3490, 0.3490, 0.3490]), tensor([0.1843, 0.1882, 0.1922,  ..., 0.3451, 0.3451, 0.3490]), tensor([0.1882, 0.1882, 0.1922,  ..., 0.3451, 0.3451, 0.3451]), tensor([0.1882, 0.1922, 0.2000,  ..., 0.3216, 0.3216, 0.3255]), tensor([0.1961, 0.2000, 0.2078,  ..., 0.3020, 0.3020, 0.3059]), tensor([0.2078, 0.2118, 0.2157,  ..., 0.2824, 0.2863, 0.2863]), tensor([0.2196, 0.2235, 0.2235,  ..., 0.2745, 0.2745, 0.2784]), tensor([0.2235, 0.2275, 0.2275,  ..., 0.2824, 0.2824, 0.2863]), tensor([0.2235, 0.2235, 0.2275,  ..., 0.2784, 0.2824, 0.2824]), tensor([0.2235, 0.2235, 0.2235,  ..., 0.2706, 0.2745, 0.2745]), tensor([0.2235, 0.2235, 0.2235,  ..., 0.2627, 0.2627, 0.2667]), tensor([0.2196, 0.2235, 0.2275,  ..., 0.2588, 0.2627, 0.2627]), tensor([0.2275, 0.2275, 0.2314,  ..., 0.2588, 0.2627, 0.2627]), tensor([0.2314, 0.2275, 0.2353,  ..., 0.2471, 0.2510, 0.2510]), tensor([0.2392, 0.2353, 0.2392,  ..., 0.2353, 0.2353, 0.2392]), tensor([0.2431, 0.2510, 0.2510,  ..., 0.2275, 0.2314, 0.2314]), tensor([0.2510, 0.2549, 0.2549,  ..., 0.2353, 0.2353, 0.2392]), tensor([0.2510, 0.2510, 0.2549,  ..., 0.2431, 0.2471, 0.2471]), tensor([0.2549, 0.2549, 0.2549,  ..., 0.2471, 0.2471, 0.2510]), tensor([0.2510, 0.2510, 0.2510,  ..., 0.2392, 0.2431, 0.2431]), tensor([0.2549, 0.2510, 0.2510,  ..., 0.2353, 0.2392, 0.2392]), tensor([0.2510, 0.2471, 0.2510,  ..., 0.2353, 0.2353, 0.2392]), tensor([0.2510, 0.2510, 0.2549,  ..., 0.2353, 0.2392, 0.2392]), tensor([0.2510, 0.2510, 0.2510,  ..., 0.2431, 0.2471, 0.2471]), tensor([0.2510, 0.2549, 0.2549,  ..., 0.2510, 0.2549, 0.2549]), tensor([0.2549, 0.2510, 0.2588,  ..., 0.2510, 0.2549, 0.2549]), tensor([0.2627, 0.2588, 0.2706,  ..., 0.2510, 0.2549, 0.2549]), tensor([0.2588, 0.2588, 0.2588,  ..., 0.2510, 0.2510, 0.2549]), tensor([0.2667, 0.2745, 0.2745,  ..., 0.2392, 0.2431, 0.2431]), tensor([0.2941, 0.3020, 0.2902,  ..., 0.2275, 0.2314, 0.2314]), tensor([0.2980, 0.2941, 0.2902,  ..., 0.3647, 0.2157, 0.2196]), tensor([0.2863, 0.2902, 0.2902,  ..., 0.3608, 0.3608, 0.3647]), tensor([0.2784, 0.2745, 0.2863,  ..., 0.3490, 0.3490, 0.3529]), tensor([0.2627, 0.2627, 0.2745,  ..., 0.3216, 0.3255, 0.3255]), tensor([0.2588, 0.2667, 0.2745,  ..., 0.3059, 0.3059, 0.3059]), tensor([0.2706, 0.2745, 0.2902,  ..., 0.3176, 0.3176, 0.3176]), tensor([0.2706, 0.2706, 0.2824,  ..., 0.3490, 0.3490, 0.3490]), tensor([0.2667, 0.2706, 0.2706,  ..., 0.3451, 0.3490, 0.3490]), tensor([0.2745, 0.2784, 0.2824,  ..., 0.3412, 0.3451, 0.3451]), tensor([0.2902, 0.2902, 0.2941,  ..., 0.3451, 0.3490, 0.3490]), tensor([0.2980, 0.2941, 0.2902,  ..., 0.3490, 0.3490, 0.3529]), tensor([0.3059, 0.2941, 0.2902,  ..., 0.3412, 0.3451, 0.3451]), tensor([0.2980, 0.2902, 0.2863,  ..., 0.3412, 0.3412, 0.3451]), tensor([0.2784, 0.2784, 0.2784,  ..., 0.3412, 0.3412, 0.3412]), tensor([0.2667, 0.2667, 0.2745,  ..., 0.3412, 0.3412, 0.3451]), tensor([0.2706, 0.2706, 0.2784,  ..., 0.3412, 0.3412, 0.3451]), tensor([0.2784, 0.2745, 0.2745,  ..., 0.3333, 0.3373, 0.3373]), tensor([0.2784, 0.2745, 0.2745,  ..., 0.3333, 0.3333, 0.3373]), tensor([0.2667, 0.2745, 0.2784,  ..., 0.3373, 0.3373, 0.3373]), tensor([0.2745, 0.2824, 0.2863,  ..., 0.3373, 0.3412, 0.3412]), tensor([0.2784, 0.2863, 0.2902,  ..., 0.3294, 0.3333, 0.3333]), tensor([0.2902, 0.2902, 0.2902,  ..., 0.3333, 0.3333, 0.3333]), tensor([0.2863, 0.2824, 0.2784,  ..., 0.3294, 0.3294, 0.3333]), tensor([0.2902, 0.2863, 0.2824,  ..., 0.3255, 0.3255, 0.3255]), tensor([0.2863, 0.2902, 0.2941,  ..., 0.3216, 0.3216, 0.3255]), tensor([0.2902, 0.2902, 0.2941,  ..., 0.3176, 0.3216, 0.3216]), tensor([0.2941, 0.2941, 0.2941,  ..., 0.3176, 0.3216, 0.3216]), tensor([0.2980, 0.2980, 0.3059,  ..., 0.3137, 0.3137, 0.3176]), tensor([0.2863, 0.2941, 0.2941,  ..., 0.2980, 0.2980, 0.2980]), tensor([0.2824, 0.2902, 0.2902,  ..., 0.2784, 0.2824, 0.2824]), tensor([0.2824, 0.2824, 0.2824,  ..., 0.2784, 0.2824, 0.2824]), tensor([0.2784, 0.2745, 0.2784,  ..., 0.2902, 0.2941, 0.2941]), tensor([0.2863, 0.2863, 0.2902,  ..., 0.3020, 0.3020, 0.3020]), tensor([0.2863, 0.2863, 0.2941,  ..., 0.3020, 0.3059, 0.3059]), tensor([0.2588, 0.2627, 0.2667,  ..., 0.3020, 0.3059, 0.3059]), tensor([0.2588, 0.2667, 0.2706,  ..., 0.3059, 0.3059, 0.3059]), tensor([0.2706, 0.2824, 0.2863,  ..., 0.3059, 0.3098, 0.3098]), tensor([0.2863, 0.2902, 0.2941,  ..., 0.3176, 0.3176, 0.3176]), tensor([0.2863, 0.2863, 0.2863,  ..., 0.3216, 0.3216, 0.3216]), tensor([0.2824, 0.2784, 0.2745,  ..., 0.3137, 0.3137, 0.3176]), tensor([0.2824, 0.2824, 0.2824,  ..., 0.3020, 0.3059, 0.3059]), tensor([0.2902, 0.2902, 0.2941,  ..., 0.2980, 0.2980, 0.2980]), tensor([0.2941, 0.2941, 0.2941,  ..., 0.2980, 0.2980, 0.2980]), tensor([0.2902, 0.2863, 0.2824,  ..., 0.2980, 0.2980, 0.2980]), tensor([0.2824, 0.2706, 0.2706,  ..., 0.3020, 0.3020, 0.3059]), tensor([0.2824, 0.2784, 0.2824,  ..., 0.3020, 0.3059, 0.3059]), tensor([0.2941, 0.2941, 0.2941,  ..., 0.3020, 0.3059, 0.3059]), tensor([0.2902, 0.2980, 0.2941,  ..., 0.3098, 0.3098, 0.3098]), tensor([0.2902, 0.2980, 0.2941,  ..., 0.3176, 0.3216, 0.3216]), tensor([0.2784, 0.2824, 0.2824,  ..., 0.3176, 0.3176, 0.3216]), tensor([0.2667, 0.2784, 0.2784,  ..., 0.2980, 0.2980, 0.3020]), tensor([0.2588, 0.2745, 0.2784,  ..., 0.2863, 0.2863, 0.2863]), tensor([0.2745, 0.2824, 0.2784,  ..., 0.2784, 0.2784, 0.2784]), tensor([0.2667, 0.2745, 0.2745,  ..., 0.2941, 0.2941, 0.2941]), tensor([0.2784, 0.2784, 0.2824,  ..., 0.3020, 0.3059, 0.3059]), tensor([0.2902, 0.2902, 0.2902,  ..., 0.2824, 0.2824, 0.2824]), tensor([0.2863, 0.2863, 0.2784,  ..., 0.2627, 0.2627, 0.2627]), tensor([0.2824, 0.2824, 0.2706,  ..., 0.2745, 0.2745, 0.2784]), tensor([0.2863, 0.2824, 0.2784,  ..., 0.2784, 0.2784, 0.2824]), tensor([0.2784, 0.2745, 0.2627,  ..., 0.2863, 0.2863, 0.2863]), tensor([0.2824, 0.2745, 0.2667,  ..., 0.2902, 0.2902, 0.2902]), tensor([0.2745, 0.2745, 0.2667,  ..., 0.2902, 0.2902, 0.2902]), tensor([0.2706, 0.2745, 0.2706,  ..., 0.3804, 0.2784, 0.2824]), tensor([0.2706, 0.2745, 0.2667,  ..., 0.3725, 0.3765, 0.2863]), tensor([0.2784, 0.2706, 0.2627,  ..., 0.3647, 0.3647, 0.3647]), tensor([0.2784, 0.2627, 0.2627,  ..., 0.3608, 0.3647, 0.3647]), tensor([0.2706, 0.2667, 0.2706,  ..., 0.3608, 0.3608, 0.3608]), tensor([0.2745, 0.2745, 0.2706,  ..., 0.3490, 0.3490, 0.3490]), tensor([0.2824, 0.2824, 0.2745,  ..., 0.3451, 0.3451, 0.3490]), tensor([0.2784, 0.2784, 0.2745,  ..., 0.3490, 0.3490, 0.3490]), tensor([0.2667, 0.2706, 0.2706,  ..., 0.3490, 0.3490, 0.3490]), tensor([0.2627, 0.2706, 0.2745,  ..., 0.3451, 0.3451, 0.3451]), tensor([0.2745, 0.2824, 0.2863,  ..., 0.3412, 0.3451, 0.3451]), tensor([0.2784, 0.2824, 0.2824,  ..., 0.3451, 0.3451, 0.3451]), tensor([0.2706, 0.2745, 0.2745,  ..., 0.3451, 0.3451, 0.3490]), tensor([0.2667, 0.2667, 0.2706,  ..., 0.3490, 0.3490, 0.3490]), tensor([0.2667, 0.2627, 0.2667,  ..., 0.3451, 0.3490, 0.3490]), tensor([0.2706, 0.2706, 0.2706,  ..., 0.3412, 0.3412, 0.3451]), tensor([0.2667, 0.2667, 0.2706,  ..., 0.3412, 0.3412, 0.3412]), tensor([0.2588, 0.2627, 0.2667,  ..., 0.3412, 0.3412, 0.3412]), tensor([0.2471, 0.2510, 0.2549,  ..., 0.3412, 0.3412, 0.3412]), tensor([0.2549, 0.2588, 0.2627,  ..., 0.3373, 0.3412, 0.3412]), tensor([0.2549, 0.2549, 0.2588,  ..., 0.3412, 0.3412, 0.3451]), tensor([0.2510, 0.2549, 0.2588,  ..., 0.3490, 0.3490, 0.3490]), tensor([0.2588, 0.2667, 0.2667,  ..., 0.3451, 0.3451, 0.3490]), tensor([0.2667, 0.2667, 0.2667,  ..., 0.3333, 0.3333, 0.3333]), tensor([0.2706, 0.2667, 0.2588,  ..., 0.3294, 0.3294, 0.3294]), tensor([0.2706, 0.2627, 0.2588,  ..., 0.3255, 0.3294, 0.3294]), tensor([0.2588, 0.2549, 0.2627,  ..., 0.3255, 0.3255, 0.3255]), tensor([0.2627, 0.2667, 0.2667,  ..., 0.3176, 0.3176, 0.3176]), tensor([0.2667, 0.2627, 0.2588,  ..., 0.3137, 0.3137, 0.3137]), tensor([0.2588, 0.2588, 0.2549,  ..., 0.3098, 0.3098, 0.3098]), tensor([0.2549, 0.2549, 0.2549,  ..., 0.3176, 0.3176, 0.3176]), tensor([0.2627, 0.2588, 0.2549,  ..., 0.3216, 0.3216, 0.3255]), tensor([0.2549, 0.2431, 0.2471,  ..., 0.3216, 0.3216, 0.3216]), tensor([0.2471, 0.2510, 0.2471,  ..., 0.3098, 0.3098, 0.3137]), tensor([0.2431, 0.2471, 0.2510,  ..., 0.3176, 0.3176, 0.3176]), tensor([0.2392, 0.2431, 0.2471,  ..., 0.3098, 0.3137, 0.3137]), tensor([0.2392, 0.2431, 0.2510,  ..., 0.3176, 0.3176, 0.3176]), tensor([0.2392, 0.2392, 0.2471,  ..., 0.3137, 0.3137, 0.3137]), tensor([0.2353, 0.2392, 0.2392,  ..., 0.3059, 0.3098, 0.3098]), tensor([0.2353, 0.2431, 0.2431,  ..., 0.3020, 0.3020, 0.3059]), tensor([0.2392, 0.2510, 0.2549,  ..., 0.3098, 0.3098, 0.3098]), tensor([0.2510, 0.2549, 0.2588,  ..., 0.3098, 0.3098, 0.3137]), tensor([0.2627, 0.2627, 0.2627,  ..., 0.3020, 0.3059, 0.3059]), tensor([0.2549, 0.2588, 0.2588,  ..., 0.2980, 0.3020, 0.3020]), tensor([0.2471, 0.2510, 0.2549,  ..., 0.3059, 0.3059, 0.3098]), tensor([0.2392, 0.2431, 0.2510,  ..., 0.3020, 0.3020, 0.3020]), tensor([0.2353, 0.2392, 0.2471,  ..., 0.2902, 0.2902, 0.2941]), tensor([0.2431, 0.2392, 0.2431,  ..., 0.2863, 0.2863, 0.2863]), tensor([0.2471, 0.2471, 0.2549,  ..., 0.2902, 0.2941, 0.2941]), tensor([0.2510, 0.2588, 0.2588,  ..., 0.2941, 0.2941, 0.2980]), tensor([0.2588, 0.2667, 0.2706,  ..., 0.2863, 0.2863, 0.2863]), tensor([0.2627, 0.2667, 0.2745,  ..., 0.2784, 0.2824, 0.2824]), tensor([0.2667, 0.2667, 0.2706,  ..., 0.2824, 0.2863, 0.2863]), tensor([0.2745, 0.2667, 0.2667,  ..., 0.2863, 0.2863, 0.2863]), tensor([0.2627, 0.2627, 0.2627,  ..., 0.2784, 0.2784, 0.2824]), tensor([0.2588, 0.2667, 0.2667,  ..., 0.2745, 0.2745, 0.2745]), tensor([0.2784, 0.2784, 0.2784,  ..., 0.2667, 0.2667, 0.2706]), tensor([0.2706, 0.2667, 0.2627,  ..., 0.2627, 0.2667, 0.2667]), tensor([0.2627, 0.2588, 0.2549,  ..., 0.2627, 0.2667, 0.2667]), tensor([0.2510, 0.2588, 0.2588,  ..., 0.2549, 0.2588, 0.2588]), tensor([0.2510, 0.2549, 0.2627,  ..., 0.2431, 0.2471, 0.2471]), tensor([0.2588, 0.2549, 0.2471,  ..., 0.2510, 0.2510, 0.2510]), tensor([0.2510, 0.2510, 0.2471,  ..., 0.2588, 0.2588, 0.2588]), tensor([0.2510, 0.2549, 0.2549,  ..., 0.3333, 0.2627, 0.2627]), tensor([0.2549, 0.2549, 0.2549,  ..., 0.3294, 0.3294, 0.3294]), tensor([0.2549, 0.2510, 0.2471,  ..., 0.3333, 0.3373, 0.3373]), tensor([0.2588, 0.2549, 0.2549,  ..., 0.3451, 0.3451, 0.3451]), tensor([0.2627, 0.2627, 0.2706,  ..., 0.3490, 0.3490, 0.3490]), tensor([0.2667, 0.2706, 0.2784,  ..., 0.3451, 0.3490, 0.3490]), tensor([0.2706, 0.2745, 0.2784,  ..., 0.3529, 0.3529, 0.3529]), tensor([0.2667, 0.2706, 0.2745,  ..., 0.3490, 0.3490, 0.3490]), tensor([0.2667, 0.2667, 0.2667,  ..., 0.3333, 0.3373, 0.3373]), tensor([0.2745, 0.2706, 0.2667,  ..., 0.3216, 0.3216, 0.3216]), tensor([0.2667, 0.2627, 0.2627,  ..., 0.3176, 0.3216, 0.3216]), tensor([0.2549, 0.2588, 0.2588,  ..., 0.3216, 0.3255, 0.3255]), tensor([0.2510, 0.2549, 0.2549,  ..., 0.3137, 0.3137, 0.3176]), tensor([0.2471, 0.2510, 0.2510,  ..., 0.3098, 0.3137, 0.3137]), tensor([0.2510, 0.2510, 0.2706,  ..., 0.3059, 0.3098, 0.3098]), tensor([0.2667, 0.2745, 0.2824,  ..., 0.3020, 0.3020, 0.3020]), tensor([0.2706, 0.2627, 0.2667,  ..., 0.3020, 0.3059, 0.3059]), tensor([0.2510, 0.2510, 0.2510,  ..., 0.3020, 0.3020, 0.3059]), tensor([0.2510, 0.2471, 0.2510,  ..., 0.3020, 0.3020, 0.3059]), tensor([0.2510, 0.2510, 0.2549,  ..., 0.3020, 0.3059, 0.3059]), tensor([0.2588, 0.2588, 0.2588,  ..., 0.3059, 0.3059, 0.3059]), tensor([0.2510, 0.2588, 0.2549,  ..., 0.2980, 0.3020, 0.3020]), tensor([0.2471, 0.2510, 0.2510,  ..., 0.2941, 0.2941, 0.2941]), tensor([0.2431, 0.2510, 0.2471,  ..., 0.2980, 0.2980, 0.2980]), tensor([0.2471, 0.2510, 0.2627,  ..., 0.2941, 0.2941, 0.2941]), tensor([0.2745, 0.2902, 0.2863,  ..., 0.2941, 0.2941, 0.2941]), tensor([0.2941, 0.2902, 0.2902,  ..., 0.2980, 0.2980, 0.2980]), tensor([0.2745, 0.2706, 0.2471,  ..., 0.3020, 0.3020, 0.3059]), tensor([0.2627, 0.2667, 0.2706,  ..., 0.3020, 0.3020, 0.3020]), tensor([0.2549, 0.2745, 0.2706,  ..., 0.3020, 0.3020, 0.3020]), tensor([0.2510, 0.2667, 0.2667,  ..., 0.2941, 0.2980, 0.2980]), tensor([0.2471, 0.2549, 0.2549,  ..., 0.2941, 0.2980, 0.2980]), tensor([0.2510, 0.2549, 0.2588,  ..., 0.3059, 0.3059, 0.3059]), tensor([0.2549, 0.2549, 0.2588,  ..., 0.3020, 0.3059, 0.3059]), tensor([0.2667, 0.2706, 0.2667,  ..., 0.2902, 0.2941, 0.2941]), tensor([0.2667, 0.2667, 0.2627,  ..., 0.2902, 0.2902, 0.2902]), tensor([0.2588, 0.2588, 0.2588,  ..., 0.2941, 0.2941, 0.2980]), tensor([0.2549, 0.2549, 0.2588,  ..., 0.2863, 0.2902, 0.2902]), tensor([0.2627, 0.2627, 0.2667,  ..., 0.2667, 0.2667, 0.2667]), tensor([0.2667, 0.2667, 0.2667,  ..., 0.2431, 0.2431, 0.2431]), tensor([0.2627, 0.2667, 0.2706,  ..., 0.2353, 0.2353, 0.2353]), tensor([0.2667, 0.2706, 0.2706,  ..., 0.2431, 0.2431, 0.2431]), tensor([0.2745, 0.2745, 0.2745,  ..., 0.2510, 0.2510, 0.2510]), tensor([0.2745, 0.2745, 0.2706,  ..., 0.2588, 0.2588, 0.2588]), tensor([0.2667, 0.2667, 0.2627,  ..., 0.2706, 0.2706, 0.2706]), tensor([0.2667, 0.2627, 0.2627,  ..., 0.2784, 0.2784, 0.2824]), tensor([0.2706, 0.2667, 0.2627,  ..., 0.2784, 0.2824, 0.2824]), tensor([0.2588, 0.2588, 0.2588,  ..., 0.2824, 0.2863, 0.2863]), tensor([0.2471, 0.2549, 0.2627,  ..., 0.2863, 0.2863, 0.2863]), tensor([0.2588, 0.2667, 0.2784,  ..., 0.2784, 0.2824, 0.2824]), tensor([0.2667, 0.2745, 0.2745,  ..., 0.2784, 0.2784, 0.2784]), tensor([0.2706, 0.2745, 0.2745,  ..., 0.2706, 0.2745, 0.2745]), tensor([0.2706, 0.2588, 0.2549,  ..., 0.2706, 0.2706, 0.2745]), tensor([0.2627, 0.2510, 0.2471,  ..., 0.2706, 0.2706, 0.2706]), tensor([0.2510, 0.2471, 0.2471,  ..., 0.2667, 0.2706, 0.2706]), tensor([0.2549, 0.2510, 0.2471,  ..., 0.2706, 0.2706, 0.2745]), tensor([0.2627, 0.2588, 0.2549,  ..., 0.2588, 0.2588, 0.2627]), tensor([0.2667, 0.2706, 0.2667,  ..., 0.2706, 0.2706, 0.2706]), tensor([0.2627, 0.2627, 0.2588,  ..., 0.2667, 0.2667, 0.2706]), tensor([0.2588, 0.2627, 0.2667,  ..., 0.2627, 0.2627, 0.2627]), tensor([0.2549, 0.2588, 0.2706,  ..., 0.2549, 0.2549, 0.2588]), tensor([0.2588, 0.2588, 0.2667,  ..., 0.2588, 0.2588, 0.2588]), tensor([0.2627, 0.2667, 0.2706,  ..., 0.2471, 0.2510, 0.2510]), tensor([0.2667, 0.2706, 0.2745,  ..., 0.3333, 0.3333, 0.2431]), tensor([0.2627, 0.2588, 0.2667,  ..., 0.3294, 0.3333, 0.3333]), tensor([0.2667, 0.2706, 0.2745,  ..., 0.3333, 0.3333, 0.3333]), tensor([0.2706, 0.2706, 0.2784,  ..., 0.3373, 0.3373, 0.3373]), tensor([0.2706, 0.2627, 0.2627,  ..., 0.3294, 0.3294, 0.3294]), tensor([0.2667, 0.2627, 0.2510,  ..., 0.3294, 0.3294, 0.3294]), tensor([0.2627, 0.2588, 0.2549,  ..., 0.3255, 0.3255, 0.3255]), tensor([0.2549, 0.2588, 0.2667,  ..., 0.3216, 0.3216, 0.3255]), tensor([0.2549, 0.2627, 0.2745,  ..., 0.3137, 0.3137, 0.3176]), tensor([0.2667, 0.2784, 0.2863,  ..., 0.3020, 0.3020, 0.3020]), tensor([0.2745, 0.2863, 0.2863,  ..., 0.2745, 0.2784, 0.2784]), tensor([0.2784, 0.2863, 0.2863,  ..., 0.2667, 0.2667, 0.2667]), tensor([0.2784, 0.2784, 0.2784,  ..., 0.2471, 0.2471, 0.2471]), tensor([0.2706, 0.2745, 0.2784,  ..., 0.2392, 0.2392, 0.2392]), tensor([0.2784, 0.2824, 0.2824,  ..., 0.2392, 0.2392, 0.2392]), tensor([0.2784, 0.2824, 0.2824,  ..., 0.2392, 0.2392, 0.2392]), tensor([0.2667, 0.2627, 0.2745,  ..., 0.2431, 0.2431, 0.2431]), tensor([0.2745, 0.2784, 0.2745,  ..., 0.2471, 0.2471, 0.2471]), tensor([0.2824, 0.2784, 0.2706,  ..., 0.2510, 0.2510, 0.2510]), tensor([0.2941, 0.2902, 0.2824,  ..., 0.2510, 0.2510, 0.2510]), tensor([0.2902, 0.2902, 0.2863,  ..., 0.2549, 0.2549, 0.2549]), tensor([0.2784, 0.2863, 0.2824,  ..., 0.2667, 0.2667, 0.2667]), tensor([0.2667, 0.2706, 0.2667,  ..., 0.2745, 0.2745, 0.2745]), tensor([0.2667, 0.2667, 0.2667,  ..., 0.2824, 0.2824, 0.2824]), tensor([0.2667, 0.2627, 0.2588,  ..., 0.2863, 0.2863, 0.2863]), tensor([0.2627, 0.2627, 0.2627,  ..., 0.2863, 0.2863, 0.2863]), tensor([0.2627, 0.2627, 0.2627,  ..., 0.2863, 0.2863, 0.2863]), tensor([0.2706, 0.2706, 0.2667,  ..., 0.2824, 0.2824, 0.2824]), tensor([0.2745, 0.2745, 0.2745,  ..., 0.2824, 0.2824, 0.2824]), tensor([0.2863, 0.2745, 0.2667,  ..., 0.2745, 0.2745, 0.2784]), tensor([0.2902, 0.2824, 0.2706,  ..., 0.2745, 0.2745, 0.2745]), tensor([0.2902, 0.2941, 0.2824,  ..., 0.2745, 0.2745, 0.2784]), tensor([0.2745, 0.2745, 0.2824,  ..., 0.2706, 0.2706, 0.2745]), tensor([0.2627, 0.2706, 0.2706,  ..., 0.2667, 0.2667, 0.2667]), tensor([0.2667, 0.2706, 0.2667,  ..., 0.2549, 0.2588, 0.2588]), tensor([0.2706, 0.2667, 0.2588,  ..., 0.2667, 0.2667, 0.2667]), tensor([0.2667, 0.2627, 0.2549,  ..., 0.2667, 0.2667, 0.2667]), tensor([0.2627, 0.2588, 0.2588,  ..., 0.2588, 0.2588, 0.2588]), tensor([0.2549, 0.2549, 0.2549,  ..., 0.2549, 0.2549, 0.2549]), tensor([0.2510, 0.2471, 0.2471,  ..., 0.2627, 0.2627, 0.2627]), tensor([0.2588, 0.2471, 0.2471,  ..., 0.2627, 0.2627, 0.2627]), tensor([0.2627, 0.2510, 0.2510,  ..., 0.2667, 0.2706, 0.2706]), tensor([0.2667, 0.2588, 0.2549,  ..., 0.2706, 0.2706, 0.2706]), tensor([0.2667, 0.2588, 0.2549,  ..., 0.2706, 0.2706, 0.2706]), tensor([0.2588, 0.2510, 0.2510,  ..., 0.2627, 0.2627, 0.2627]), tensor([0.2471, 0.2510, 0.2588,  ..., 0.2667, 0.2706, 0.2706]), tensor([0.2510, 0.2549, 0.2549,  ..., 0.2588, 0.2588, 0.2588]), tensor([0.2549, 0.2549, 0.2431,  ..., 0.2588, 0.2588, 0.2588]), tensor([0.2510, 0.2431, 0.2431,  ..., 0.2471, 0.2471, 0.2510]), tensor([0.2392, 0.2353, 0.2392,  ..., 0.2549, 0.2549, 0.2549]), tensor([0.2471, 0.2431, 0.2431,  ..., 0.2588, 0.2627, 0.2627]), tensor([0.2588, 0.2471, 0.2353,  ..., 0.2588, 0.2588, 0.2588]), tensor([0.2627, 0.2510, 0.2588,  ..., 0.2627, 0.2627, 0.2627]), tensor([0.2510, 0.2627, 0.2627,  ..., 0.2706, 0.2706, 0.2706]), tensor([0.2588, 0.2745, 0.2706,  ..., 0.2745, 0.2745, 0.2745]), tensor([0.2588, 0.2549, 0.2510,  ..., 0.2706, 0.2706, 0.2706]), tensor([0.2510, 0.2471, 0.2471,  ..., 0.2588, 0.2588, 0.2588]), tensor([0.2471, 0.2431, 0.2392,  ..., 0.2549, 0.2549, 0.2549]), tensor([0.2549, 0.2471, 0.2510,  ..., 0.2588, 0.2588, 0.2588]), tensor([0.2627, 0.2627, 0.2627,  ..., 0.2784, 0.2784, 0.2784]), tensor([0.2588, 0.2588, 0.2588,  ..., 0.2784, 0.2784, 0.2784]), tensor([0.2510, 0.2510, 0.2510,  ..., 0.2706, 0.2706, 0.2706]), tensor([0.2627, 0.2549, 0.2588,  ..., 0.2980, 0.2549, 0.2549]), tensor([0.2549, 0.2549, 0.2549,  ..., 0.2941, 0.2980, 0.2980]), tensor([0.2471, 0.2549, 0.2588,  ..., 0.2941, 0.2941, 0.2941]), tensor([0.2627, 0.2706, 0.2745,  ..., 0.2902, 0.2902, 0.2902]), tensor([0.2863, 0.2863, 0.2863,  ..., 0.2824, 0.2863, 0.2863]), tensor([0.2902, 0.2824, 0.2784,  ..., 0.2824, 0.2824, 0.2824]), tensor([0.2706, 0.2667, 0.2667,  ..., 0.2863, 0.2863, 0.2863]), tensor([0.2549, 0.2588, 0.2588,  ..., 0.2863, 0.2863, 0.2863]), tensor([0.2588, 0.2706, 0.2745,  ..., 0.2863, 0.2863, 0.2863]), tensor([0.2784, 0.2863, 0.2863,  ..., 0.2784, 0.2784, 0.2784]), tensor([0.2863, 0.2863, 0.2824,  ..., 0.2745, 0.2745, 0.2745]), tensor([0.2745, 0.2745, 0.2784,  ..., 0.2745, 0.2745, 0.2745]), tensor([0.2784, 0.2824, 0.2824,  ..., 0.2745, 0.2745, 0.2745]), tensor([0.3020, 0.3020, 0.3059,  ..., 0.2784, 0.2784, 0.2784]), tensor([0.3176, 0.3176, 0.3137,  ..., 0.2745, 0.2745, 0.2745]), tensor([0.3255, 0.3216, 0.3176,  ..., 0.2745, 0.2745, 0.2745]), tensor([0.3255, 0.3216, 0.3098,  ..., 0.2706, 0.2706, 0.2706]), tensor([0.3333, 0.3176, 0.3098,  ..., 0.2667, 0.2667, 0.2706]), tensor([0.3098, 0.2980, 0.2824,  ..., 0.2706, 0.2706, 0.2706]), tensor([0.2863, 0.2706, 0.2667,  ..., 0.2706, 0.2706, 0.2706]), tensor([0.2588, 0.2549, 0.2510,  ..., 0.2745, 0.2745, 0.2745]), tensor([0.2667, 0.2627, 0.2667,  ..., 0.2745, 0.2745, 0.2745]), tensor([0.2745, 0.2824, 0.2824,  ..., 0.2706, 0.2706, 0.2706]), tensor([0.2824, 0.2863, 0.2863,  ..., 0.2745, 0.2745, 0.2745]), tensor([0.2824, 0.2863, 0.2863,  ..., 0.2784, 0.2784, 0.2784]), tensor([0.2824, 0.2863, 0.2863,  ..., 0.2784, 0.2784, 0.2784]), tensor([0.2824, 0.2863, 0.2863,  ..., 0.2784, 0.2784, 0.2784]), tensor([0.2824, 0.2863, 0.2863,  ..., 0.2745, 0.2745, 0.2745]), tensor([0.2824, 0.2863, 0.2863,  ..., 0.2706, 0.2706, 0.2706]), tensor([0.2824, 0.2863, 0.2863,  ..., 0.2706, 0.2706, 0.2706]), tensor([0.2824, 0.2863, 0.2863,  ..., 0.2706, 0.2706, 0.2706]), tensor([0.2824, 0.2863, 0.2863,  ..., 0.2745, 0.2745, 0.2745]), tensor([0.2824, 0.2863, 0.2863,  ..., 0.2745, 0.2745, 0.2745]), tensor([0.2824, 0.2863, 0.2863,  ..., 0.2745, 0.2745, 0.2745]), tensor([0.2824, 0.2863, 0.2863,  ..., 0.2784, 0.2784, 0.2784]), tensor([0.2824, 0.2863, 0.2863,  ..., 0.2784, 0.2784, 0.2784]), tensor([0.2824, 0.2863, 0.2863,  ..., 0.2784, 0.2784, 0.2784]), tensor([0.2824, 0.2863, 0.2863,  ..., 0.2667, 0.2706, 0.2706]), tensor([0.2824, 0.2863, 0.2863,  ..., 0.2627, 0.2627, 0.2627]), tensor([0.2824, 0.2863, 0.2863,  ..., 0.2627, 0.2627, 0.2627]), tensor([0.2824, 0.2863, 0.2902,  ..., 0.2706, 0.2706, 0.2706]), tensor([0.2824, 0.2863, 0.2902,  ..., 0.2706, 0.2706, 0.2706]), tensor([0.2824, 0.2863, 0.2902,  ..., 0.2745, 0.2745, 0.2745]), tensor([0.2824, 0.2863, 0.2902,  ..., 0.2745, 0.2745, 0.2745]), tensor([0.2824, 0.2863, 0.2902,  ..., 0.2706, 0.2706, 0.2706]), tensor([0.2824, 0.2863, 0.2902,  ..., 0.2745, 0.2745, 0.2745]), tensor([0.2824, 0.2863, 0.2902,  ..., 0.2784, 0.2784, 0.2784]), tensor([0.2824, 0.2824, 0.2902,  ..., 0.2706, 0.2706, 0.2706]), tensor([0.2824, 0.2824, 0.2902,  ..., 0.2627, 0.2627, 0.2627]), tensor([0.2863, 0.2824, 0.2902,  ..., 0.2627, 0.2627, 0.2627]), tensor([0.2863, 0.2824, 0.2902,  ..., 0.2706, 0.2706, 0.2706]), tensor([0.2863, 0.2824, 0.2902,  ..., 0.2706, 0.2706, 0.2706]), tensor([0.2863, 0.2824, 0.2902,  ..., 0.2667, 0.2667, 0.2667]), tensor([0.2863, 0.2824, 0.2902,  ..., 0.2706, 0.2706, 0.2706]), tensor([0.2863, 0.2824, 0.2902,  ..., 0.2745, 0.2745, 0.2745]), tensor([0.2863, 0.2824, 0.2902,  ..., 0.2784, 0.2784, 0.2784]), tensor([0.2863, 0.2824, 0.2902,  ..., 0.2824, 0.2824, 0.2784]), tensor([0.2863, 0.2824, 0.2902,  ..., 0.2980, 0.2941, 0.2941]), tensor([0.2863, 0.2824, 0.2902,  ..., 0.3020, 0.3020, 0.2980]), tensor([0.2863, 0.2824, 0.2902,  ..., 0.2863, 0.2863, 0.2863]), tensor([0.2863, 0.2863, 0.2902,  ..., 0.2627, 0.2627, 0.2627]), tensor([0.2863, 0.2863, 0.2902,  ..., 0.1843, 0.2627, 0.2627]), tensor([0.2863, 0.2863, 0.2902,  ..., 0.1882, 0.1882, 0.1882]))",
     "output_type": "error",
     "traceback": [
      "\u001b[0;31m---------------------------------------------------------------------------\u001b[0m",
      "\u001b[0;31mKeyError\u001b[0m                                  Traceback (most recent call last)",
      "\u001b[1;32m/Users/ashwindaswani/Desktop/pcs/PCS-FUDA/triual.ipynb Cell 7\u001b[0m in \u001b[0;36m<cell line: 1>\u001b[0;34m()\u001b[0m\n\u001b[1;32m      <a href='vscode-notebook-cell:/Users/ashwindaswani/Desktop/pcs/PCS-FUDA/triual.ipynb#Y122sZmlsZQ%3D%3D?line=3'>4</a>\u001b[0m \u001b[39mfor\u001b[39;00m i \u001b[39min\u001b[39;00m \u001b[39mrange\u001b[39m(\u001b[39m256\u001b[39m):\n\u001b[1;32m      <a href='vscode-notebook-cell:/Users/ashwindaswani/Desktop/pcs/PCS-FUDA/triual.ipynb#Y122sZmlsZQ%3D%3D?line=4'>5</a>\u001b[0m     \u001b[39mfor\u001b[39;00m j \u001b[39min\u001b[39;00m \u001b[39mrange\u001b[39m(\u001b[39m256\u001b[39m):\n\u001b[0;32m----> <a href='vscode-notebook-cell:/Users/ashwindaswani/Desktop/pcs/PCS-FUDA/triual.ipynb#Y122sZmlsZQ%3D%3D?line=6'>7</a>\u001b[0m         channel\u001b[39m=\u001b[39mdick[\u001b[39mtuple\u001b[39;49m(img[i][j])]\n\u001b[1;32m      <a href='vscode-notebook-cell:/Users/ashwindaswani/Desktop/pcs/PCS-FUDA/triual.ipynb#Y122sZmlsZQ%3D%3D?line=7'>8</a>\u001b[0m         new_mask[i][j][channel]\u001b[39m=\u001b[39m \u001b[39m1\u001b[39m\n\u001b[1;32m     <a href='vscode-notebook-cell:/Users/ashwindaswani/Desktop/pcs/PCS-FUDA/triual.ipynb#Y122sZmlsZQ%3D%3D?line=9'>10</a>\u001b[0m \u001b[39mprint\u001b[39m(new_mask\u001b[39m.\u001b[39mshape)\n",
      "\u001b[0;31mKeyError\u001b[0m: (tensor([0.0275, 0.0549, 0.0863,  ..., 0.4784, 0.0000, 0.0000]), tensor([0.5255, 0.5098, 0.4980,  ..., 0.4588, 0.0000, 0.0000]), tensor([0.2902, 0.2902, 0.2902,  ..., 0.4353, 0.0314, 0.0000]), tensor([0.5569, 0.5490, 0.5373,  ..., 0.4157, 0.0706, 0.0000]), tensor([0.2980, 0.3059, 0.3137,  ..., 0.3961, 0.1059, 0.0000]), tensor([0.0000, 0.0000, 0.0000,  ..., 0.3765, 0.1373, 0.0000]), tensor([0.0000, 0.0000, 0.0196,  ..., 0.3608, 0.1647, 0.0000]), tensor([0.0000, 0.0000, 0.0000,  ..., 0.3451, 0.1922, 0.0000]), tensor([0.0000, 0.0000, 0.0157,  ..., 0.3294, 0.2157, 0.0000]), tensor([0.0000, 0.0000, 0.0000,  ..., 0.3176, 0.2392, 0.0000]), tensor([0.0000, 0.0000, 0.0000,  ..., 0.3098, 0.2588, 0.0000]), tensor([0.0000, 0.0000, 0.0000,  ..., 0.3020, 0.2784, 0.0000]), tensor([0.0000, 0.0000, 0.0000,  ..., 0.2980, 0.2941, 0.0000]), tensor([0.0000, 0.0000, 0.0000,  ..., 0.2941, 0.3098, 0.0000]), tensor([0.0000, 0.0000, 0.0000,  ..., 0.2941, 0.3255, 0.0000]), tensor([0.0000, 0.0000, 0.0000,  ..., 0.2980, 0.3412, 0.0000]), tensor([0.1137, 0.1137, 0.1137,  ..., 0.3020, 0.3529, 0.0000]), tensor([0.1216, 0.1255, 0.1294,  ..., 0.3098, 0.3647, 0.0000]), tensor([0.0000, 0.0000, 0.0000,  ..., 0.3176, 0.3765, 0.0000]), tensor([0.0000, 0.0039, 0.0196,  ..., 0.3294, 0.3882, 0.0000]), tensor([0.0000, 0.0000, 0.0000,  ..., 0.3451, 0.4000, 0.0000]), tensor([0.0000, 0.0000, 0.0000,  ..., 0.3608, 0.4078, 0.0000]), tensor([0.0000, 0.0000, 0.0000,  ..., 0.3804, 0.4196, 0.1412]), tensor([0.0000, 0.0000, 0.0000,  ..., 0.4000, 0.4235, 0.2627]), tensor([0.0000, 0.0000, 0.0000,  ..., 0.4196, 0.4314, 0.3529]), tensor([0.2824, 0.2745, 0.2627,  ..., 0.4353, 0.4431, 0.4275]), tensor([0.0000, 0.0000, 0.0000,  ..., 0.4588, 0.4667, 0.4941]), tensor([0.2980, 0.2863, 0.2706,  ..., 0.5098, 0.5529, 0.5765]), tensor([0.0000, 0.0000, 0.0000,  ..., 0.5922, 0.6000, 0.6157]), tensor([0.0000, 0.0000, 0.0000,  ..., 0.6039, 0.6118, 0.6078]), tensor([0.0000, 0.0000, 0.0000,  ..., 0.6157, 0.6431, 0.6471]), tensor([0.0000, 0.0000, 0.0000,  ..., 0.6196, 0.6392, 0.6431]), tensor([0.0000, 0.0000, 0.0000,  ..., 0.6196, 0.6431, 0.6471]), tensor([0.1412, 0.1529, 0.1647,  ..., 0.6235, 0.6314, 0.6392]), tensor([0.0000, 0.0000, 0.0000,  ..., 0.6275, 0.6275, 0.6314]), tensor([0.0000, 0.0000, 0.0000,  ..., 0.6314, 0.6275, 0.6235]), tensor([0.0000, 0.0000, 0.0000,  ..., 0.6275, 0.6314, 0.6314]), tensor([0.0000, 0.0000, 0.0000,  ..., 0.6235, 0.6275, 0.6314]), tensor([0.0000, 0.0000, 0.0000,  ..., 0.6235, 0.6196, 0.6235]), tensor([0.0000, 0.0000, 0.0000,  ..., 0.6235, 0.6196, 0.6157]), tensor([0.0000, 0.0000, 0.0000,  ..., 0.6039, 0.6078, 0.5922]), tensor([0.0000, 0.0000, 0.0000,  ..., 0.5725, 0.5804, 0.5569]), tensor([0.0000, 0.0000, 0.0000,  ..., 0.5216, 0.5255, 0.5098]), tensor([0.0000, 0.0000, 0.0000,  ..., 0.4824, 0.4902, 0.5020]), tensor([0.2745, 0.2667, 0.2627,  ..., 0.4980, 0.5294, 0.5647]), tensor([0.2392, 0.2392, 0.2353,  ..., 0.5804, 0.5922, 0.6118]), tensor([0.1765, 0.1765, 0.1765,  ..., 0.6039, 0.6078, 0.6157]), tensor([0.2196, 0.2157, 0.2118,  ..., 0.6078, 0.6078, 0.6157]), tensor([0.2039, 0.2039, 0.2078,  ..., 0.6078, 0.6078, 0.6157]), tensor([0.4431, 0.4275, 0.4078,  ..., 0.6078, 0.6118, 0.6157]), tensor([0.4588, 0.4471, 0.4353,  ..., 0.6118, 0.6157, 0.6235]), tensor([0.6353, 0.6118, 0.5882,  ..., 0.6157, 0.6157, 0.6235]), tensor([0.5608, 0.5451, 0.5294,  ..., 0.6157, 0.6157, 0.6157]), tensor([0.3725, 0.3647, 0.3569,  ..., 0.6157, 0.6235, 0.6235]), tensor([0.3882, 0.3765, 0.3647,  ..., 0.6157, 0.6078, 0.6039]), tensor([0.1490, 0.1647, 0.1765,  ..., 0.6118, 0.6118, 0.6118]), tensor([0.0000, 0.0000, 0.0039,  ..., 0.6078, 0.6078, 0.6118]), tensor([0.0000, 0.0000, 0.0000,  ..., 0.6118, 0.6275, 0.6314]), tensor([0.1020, 0.1137, 0.1216,  ..., 0.6039, 0.6235, 0.6314]), tensor([0.0000, 0.0196, 0.0510,  ..., 0.6078, 0.6157, 0.6275]), tensor([0.1137, 0.1255, 0.1412,  ..., 0.6078, 0.6039, 0.6039]), tensor([0.0000, 0.0000, 0.0000,  ..., 0.6157, 0.6118, 0.6000]), tensor([0.0471, 0.0824, 0.1137,  ..., 0.6039, 0.5882, 0.5922]), tensor([0.0000, 0.0000, 0.0000,  ..., 0.6039, 0.5922, 0.6000]), tensor([0.0000, 0.0000, 0.0000,  ..., 0.6000, 0.5922, 0.5922]), tensor([0.0000, 0.0000, 0.0000,  ..., 0.6039, 0.6000, 0.5922]), tensor([0.0000, 0.0000, 0.0000,  ..., 0.5922, 0.5882, 0.5922]), tensor([0.0000, 0.0000, 0.0000,  ..., 0.5922, 0.6000, 0.6000]), tensor([0.0000, 0.0000, 0.0000,  ..., 0.5765, 0.5765, 0.5882]), tensor([0.0000, 0.0000, 0.0000,  ..., 0.5686, 0.5569, 0.5490]), tensor([0.2392, 0.2549, 0.2706,  ..., 0.5255, 0.5137, 0.4980]), tensor([0.0000, 0.0000, 0.0000,  ..., 0.5059, 0.5059, 0.4980]), tensor([0.0000, 0.0000, 0.0000,  ..., 0.5020, 0.5137, 0.5490]), tensor([0.0000, 0.0000, 0.0000,  ..., 0.5451, 0.6039, 0.6235]), tensor([0.0000, 0.0000, 0.0000,  ..., 0.5882, 0.5882, 0.6157]), tensor([0.0000, 0.0000, 0.0000,  ..., 0.6000, 0.5765, 0.6196]), tensor([0.2941, 0.2902, 0.2863,  ..., 0.5882, 0.5725, 0.6039]), tensor([0.2275, 0.2196, 0.2118,  ..., 0.6078, 0.5647, 0.5843]), tensor([0.2314, 0.2275, 0.2196,  ..., 0.5961, 0.5686, 0.5882]), tensor([0.2510, 0.2431, 0.2353,  ..., 0.5922, 0.5882, 0.6118]), tensor([0.2314, 0.2275, 0.2235,  ..., 0.5922, 0.5922, 0.6039]), tensor([0.2235, 0.2157, 0.2118,  ..., 0.5922, 0.5843, 0.6000]), tensor([0.1216, 0.1294, 0.1373,  ..., 0.5922, 0.5843, 0.5843]), tensor([0.0314, 0.0510, 0.0667,  ..., 0.5843, 0.5725, 0.5843]), tensor([0.0980, 0.1059, 0.1176,  ..., 0.5804, 0.5725, 0.5882]), tensor([0.1529, 0.1569, 0.1608,  ..., 0.5804, 0.5922, 0.5961]), tensor([0.0000, 0.0000, 0.0000,  ..., 0.5804, 0.5882, 0.5961]), tensor([0.0000, 0.0000, 0.0000,  ..., 0.5765, 0.5843, 0.5961]), tensor([0.0000, 0.0000, 0.0000,  ..., 0.5765, 0.5843, 0.6000]), tensor([0.2824, 0.2706, 0.2549,  ..., 0.5725, 0.5804, 0.5961]), tensor([0.0549, 0.0667, 0.0784,  ..., 0.5804, 0.5882, 0.5922]), tensor([0.1373, 0.1412, 0.1412,  ..., 0.5882, 0.5922, 0.5961]), tensor([0.1137, 0.1176, 0.1216,  ..., 0.5765, 0.5843, 0.5922]), tensor([0.0667, 0.0784, 0.0863,  ..., 0.5686, 0.5686, 0.5765]), tensor([0.0549, 0.0627, 0.0745,  ..., 0.5765, 0.5686, 0.5608]), tensor([0.0549, 0.0706, 0.0863,  ..., 0.5725, 0.5686, 0.5608]), tensor([0.0000, 0.0000, 0.0000,  ..., 0.5451, 0.5529, 0.5529]), tensor([0.0000, 0.0000, 0.0000,  ..., 0.5294, 0.5333, 0.5373]), tensor([0.0000, 0.0000, 0.0000,  ..., 0.5294, 0.5098, 0.4902]), tensor([0.1922, 0.1922, 0.1922,  ..., 0.4667, 0.4627, 0.4588]), tensor([0.1725, 0.1843, 0.1922,  ..., 0.4667, 0.5020, 0.5098]), tensor([0.1255, 0.1294, 0.1333,  ..., 0.5098, 0.5255, 0.5373]), tensor([0.3176, 0.3098, 0.3020,  ..., 0.5412, 0.5373, 0.5412]), tensor([0.2745, 0.2706, 0.2706,  ..., 0.5451, 0.5490, 0.5647]), tensor([0.2392, 0.2353, 0.2353,  ..., 0.5608, 0.5725, 0.5725]), tensor([0.0863, 0.1216, 0.1490,  ..., 0.5529, 0.5647, 0.5725]), tensor([0.0000, 0.0000, 0.0000,  ..., 0.5529, 0.5647, 0.5686]), tensor([0.0000, 0.0000, 0.0000,  ..., 0.5529, 0.5490, 0.5451]), tensor([0.0431, 0.0706, 0.0980,  ..., 0.5608, 0.5569, 0.5608]), tensor([0.0000, 0.0000, 0.0000,  ..., 0.5647, 0.5608, 0.5608]), tensor([0.0588, 0.0706, 0.0824,  ..., 0.5647, 0.5608, 0.5608]), tensor([0.0000, 0.0000, 0.0000,  ..., 0.5608, 0.5569, 0.5608]), tensor([0.0000, 0.0000, 0.0000,  ..., 0.5647, 0.5647, 0.5686]), tensor([0.0000, 0.0000, 0.0000,  ..., 0.5529, 0.5529, 0.5490]), tensor([0.2078, 0.1922, 0.1804,  ..., 0.5647, 0.5686, 0.5529]), tensor([0.0000, 0.0000, 0.0000,  ..., 0.5647, 0.5765, 0.5569]), tensor([0.0000, 0.0000, 0.0000,  ..., 0.5608, 0.5804, 0.5569]), tensor([0.0000, 0.0000, 0.0000,  ..., 0.5529, 0.5686, 0.5529]), tensor([0.0000, 0.0196, 0.0353,  ..., 0.5529, 0.5608, 0.5569]), tensor([0.0667, 0.0745, 0.0824,  ..., 0.5451, 0.5490, 0.5490]), tensor([0.1961, 0.1922, 0.1882,  ..., 0.5490, 0.5608, 0.5529]), tensor([0.0000, 0.0000, 0.0000,  ..., 0.5490, 0.5569, 0.5490]), tensor([0.0157, 0.0431, 0.0667,  ..., 0.5451, 0.5529, 0.5451]), tensor([0.0000, 0.0000, 0.0000,  ..., 0.5412, 0.5490, 0.5451]), tensor([0.0549, 0.0627, 0.0745,  ..., 0.5255, 0.5294, 0.5216]), tensor([0.2118, 0.2118, 0.2078,  ..., 0.4706, 0.4588, 0.4314]), tensor([0.2745, 0.2588, 0.2471,  ..., 0.3529, 0.3294, 0.3020]), tensor([0.4275, 0.4118, 0.3922,  ..., 0.1961, 0.1647, 0.1255]), tensor([0.3333, 0.3216, 0.3098,  ..., 0.1255, 0.1020, 0.1098]), tensor([0.2157, 0.2157, 0.2157,  ..., 0.1137, 0.1176, 0.1216]), tensor([0.0471, 0.0667, 0.0824,  ..., 0.1216, 0.1255, 0.1255]), tensor([0.0000, 0.0000, 0.0000,  ..., 0.1333, 0.1412, 0.1294]), tensor([0.0000, 0.0000, 0.0039,  ..., 0.1451, 0.1451, 0.1294]), tensor([0.0000, 0.0000, 0.0078,  ..., 0.1686, 0.1529, 0.1451]), tensor([0.1020, 0.1059, 0.1137,  ..., 0.2039, 0.2000, 0.1608]), tensor([0.1961, 0.1922, 0.1922,  ..., 0.3059, 0.2667, 0.1765]), tensor([0.1922, 0.1922, 0.1882,  ..., 0.3922, 0.3333, 0.2235]), tensor([0.2588, 0.2471, 0.2353,  ..., 0.4000, 0.3725, 0.3333]), tensor([0.1843, 0.1843, 0.1843,  ..., 0.4627, 0.5020, 0.3804]), tensor([0.0510, 0.0667, 0.0784,  ..., 0.5216, 0.5490, 0.5098]), tensor([0.2078, 0.2000, 0.1961,  ..., 0.4980, 0.5490, 0.5216]), tensor([0.2784, 0.2706, 0.2627,  ..., 0.5020, 0.4431, 0.4353]), tensor([0.1804, 0.1843, 0.1882,  ..., 0.4471, 0.3725, 0.3059]), tensor([0.1529, 0.1569, 0.1569,  ..., 0.4078, 0.3608, 0.2314]), tensor([0.3412, 0.3255, 0.3098,  ..., 0.4275, 0.3725, 0.2510]), tensor([0.2941, 0.2902, 0.2824,  ..., 0.4392, 0.3765, 0.3255]), tensor([0.2627, 0.2549, 0.2510,  ..., 0.4902, 0.4275, 0.3765]), tensor([0.0980, 0.1137, 0.1294,  ..., 0.4510, 0.4863, 0.5216]), tensor([0.0471, 0.0667, 0.0824,  ..., 0.4549, 0.5020, 0.4941]), tensor([0.0275, 0.0471, 0.0706,  ..., 0.4627, 0.4706, 0.4588]), tensor([0.1804, 0.1804, 0.1804,  ..., 0.3255, 0.2941, 0.2039]), tensor([0.2314, 0.2275, 0.2275,  ..., 0.1137, 0.0588, 0.0902]), tensor([0.1490, 0.1529, 0.1569,  ..., 0.1137, 0.1137, 0.1137]), tensor([0.1647, 0.1686, 0.1725,  ..., 0.1059, 0.1098, 0.1137]), tensor([0.1216, 0.1294, 0.1412,  ..., 0.1059, 0.1137, 0.1137]), tensor([0.1647, 0.1725, 0.1765,  ..., 0.1098, 0.1098, 0.1176]), tensor([0.2157, 0.2196, 0.2235,  ..., 0.1098, 0.1137, 0.1137]), tensor([0.1333, 0.1412, 0.1451,  ..., 0.1059, 0.1098, 0.1137]), tensor([0.2627, 0.2588, 0.2510,  ..., 0.0980, 0.0941, 0.0902]), tensor([0.1569, 0.1647, 0.1686,  ..., 0.0824, 0.0824, 0.0824]), tensor([0.0471, 0.0627, 0.0784,  ..., 0.0784, 0.0745, 0.0745]), tensor([0.2235, 0.2196, 0.2118,  ..., 0.0745, 0.0745, 0.0745]), tensor([0.3725, 0.3608, 0.3490,  ..., 0.0745, 0.0745, 0.0745]), tensor([0.4235, 0.4039, 0.3843,  ..., 0.0745, 0.0784, 0.0784]), tensor([0.4980, 0.4784, 0.4588,  ..., 0.0784, 0.0824, 0.0824]), tensor([0.4863, 0.4627, 0.4392,  ..., 0.0863, 0.0863, 0.0863]), tensor([0.4549, 0.4353, 0.4196,  ..., 0.0941, 0.0941, 0.0941]), tensor([0.3569, 0.3373, 0.3216,  ..., 0.0980, 0.0980, 0.0941]), tensor([0.3373, 0.3216, 0.3059,  ..., 0.0980, 0.0941, 0.0941]), tensor([0.2157, 0.2157, 0.2118,  ..., 0.0980, 0.0980, 0.0941]), tensor([0.0588, 0.0745, 0.0902,  ..., 0.0980, 0.0980, 0.0980]), tensor([0.1961, 0.1882, 0.1843,  ..., 0.1020, 0.1020, 0.1020]), tensor([0.2118, 0.2118, 0.2078,  ..., 0.1020, 0.1020, 0.1020]), tensor([0.0353, 0.0549, 0.0706,  ..., 0.1020, 0.1059, 0.1059]), tensor([0.0627, 0.0706, 0.0824,  ..., 0.1059, 0.1059, 0.1059]), tensor([0.0510, 0.0667, 0.0824,  ..., 0.1059, 0.1059, 0.1059]), tensor([0.2314, 0.2275, 0.2235,  ..., 0.1059, 0.1059, 0.1020]), tensor([0.2314, 0.2353, 0.2392,  ..., 0.1020, 0.1020, 0.1020]), tensor([0.0000, 0.0000, 0.0314,  ..., 0.1059, 0.1020, 0.1020]), tensor([0.0000, 0.0157, 0.0471,  ..., 0.1059, 0.1020, 0.1020]), tensor([0.0627, 0.0824, 0.1020,  ..., 0.1020, 0.1020, 0.1020]), tensor([0.0000, 0.0000, 0.0000,  ..., 0.0980, 0.1020, 0.1020]), tensor([0.1098, 0.1176, 0.1255,  ..., 0.0941, 0.0980, 0.0941]), tensor([0.2980, 0.2902, 0.2824,  ..., 0.0941, 0.0941, 0.0941]), tensor([0.3020, 0.2902, 0.2784,  ..., 0.0980, 0.0980, 0.0980]), tensor([0.4118, 0.3961, 0.3804,  ..., 0.0980, 0.0980, 0.0980]), tensor([0.3098, 0.2980, 0.2902,  ..., 0.1020, 0.0980, 0.1020]), tensor([0.2627, 0.2588, 0.2549,  ..., 0.0980, 0.0980, 0.0980]), tensor([0.2118, 0.2118, 0.2078,  ..., 0.0980, 0.0941, 0.0941]), tensor([0.2275, 0.2235, 0.2196,  ..., 0.0980, 0.0980, 0.0941]), tensor([0.2275, 0.2196, 0.2157,  ..., 0.0980, 0.0941, 0.0980]), tensor([0.2392, 0.2353, 0.2314,  ..., 0.0941, 0.0941, 0.0941]), tensor([0.2588, 0.2471, 0.2392,  ..., 0.0980, 0.0941, 0.0941]), tensor([0.3098, 0.2980, 0.2863,  ..., 0.0902, 0.0941, 0.0980]), tensor([0.2941, 0.2824, 0.2667,  ..., 0.0863, 0.0902, 0.0902]), tensor([0.3059, 0.2941, 0.2784,  ..., 0.0863, 0.0824, 0.0863]), tensor([0.2431, 0.2353, 0.2235,  ..., 0.0824, 0.0863, 0.0863]), tensor([0.1804, 0.1765, 0.1725,  ..., 0.0863, 0.0863, 0.0784]), tensor([0.0784, 0.0902, 0.0980,  ..., 0.0824, 0.0784, 0.0706]), tensor([0.0353, 0.0471, 0.0588,  ..., 0.0784, 0.0706, 0.0706]), tensor([0.0000, 0.0000, 0.0000,  ..., 0.0745, 0.0784, 0.0784]), tensor([0.0000, 0.0000, 0.0000,  ..., 0.0706, 0.0745, 0.0784]), tensor([0.0000, 0.0000, 0.0000,  ..., 0.0745, 0.0745, 0.0745]), tensor([0.0000, 0.0000, 0.0000,  ..., 0.0784, 0.0745, 0.0745]), tensor([0.0000, 0.0000, 0.0000,  ..., 0.0784, 0.0706, 0.0745]), tensor([0.0000, 0.0000, 0.0000,  ..., 0.0745, 0.0706, 0.0706]), tensor([0.0000, 0.0000, 0.0000,  ..., 0.0745, 0.0706, 0.0745]), tensor([0.0667, 0.0706, 0.0784,  ..., 0.0745, 0.0706, 0.0706]), tensor([0.0824, 0.0863, 0.0941,  ..., 0.0745, 0.0706, 0.0706]), tensor([0.1412, 0.1412, 0.1373,  ..., 0.0706, 0.0706, 0.0706]), tensor([0.3608, 0.3373, 0.3137,  ..., 0.0706, 0.0706, 0.0706]), tensor([0.2745, 0.2627, 0.2510,  ..., 0.0706, 0.0706, 0.0745]), tensor([0.4588, 0.4353, 0.4078,  ..., 0.0706, 0.0706, 0.0706]), tensor([0.2784, 0.2667, 0.2510,  ..., 0.0706, 0.0706, 0.0745]), tensor([0.2118, 0.2000, 0.1922,  ..., 0.0745, 0.0745, 0.0784]), tensor([0.1961, 0.1882, 0.1765,  ..., 0.0784, 0.0784, 0.0824]), tensor([0.1569, 0.1451, 0.1412,  ..., 0.0824, 0.0824, 0.0824]), tensor([0.2039, 0.2000, 0.1922,  ..., 0.0863, 0.0863, 0.0863]), tensor([0.0000, 0.0000, 0.0000,  ..., 0.0863, 0.0863, 0.0863]), tensor([0.0000, 0.0000, 0.0000,  ..., 0.0824, 0.0824, 0.0863]), tensor([0.0000, 0.0000, 0.0000,  ..., 0.0824, 0.0824, 0.0863]), tensor([0.0000, 0.0000, 0.0000,  ..., 0.0824, 0.0824, 0.0824]), tensor([0.0000, 0.0000, 0.0000,  ..., 0.0784, 0.0824, 0.0784]), tensor([0.0471, 0.0588, 0.0667,  ..., 0.0784, 0.0784, 0.0745]), tensor([0.0902, 0.0941, 0.0980,  ..., 0.0824, 0.0784, 0.0745]), tensor([0.1451, 0.1412, 0.1412,  ..., 0.0784, 0.0784, 0.0745]), tensor([0.1686, 0.1647, 0.1647,  ..., 0.0745, 0.0784, 0.0745]), tensor([0.1725, 0.1686, 0.1647,  ..., 0.0745, 0.0784, 0.0784]), tensor([0.2039, 0.1961, 0.1882,  ..., 0.0745, 0.0784, 0.0784]), tensor([0.2039, 0.1961, 0.1922,  ..., 0.0784, 0.0784, 0.0784]), tensor([0.0667, 0.0784, 0.0941,  ..., 0.0784, 0.0784, 0.0784]), tensor([0.0627, 0.0706, 0.0784,  ..., 0.0824, 0.0784, 0.0784]), tensor([0.1333, 0.1333, 0.1373,  ..., 0.0824, 0.0824, 0.0784]), tensor([0.2039, 0.1961, 0.1882,  ..., 0.0784, 0.0784, 0.0784]), tensor([0.1961, 0.1922, 0.1843,  ..., 0.0784, 0.0784, 0.0784]), tensor([0.1961, 0.1882, 0.1804,  ..., 0.0784, 0.0784, 0.0784]), tensor([0.1373, 0.1412, 0.1412,  ..., 0.0784, 0.0824, 0.0784]), tensor([0.0000, 0.0000, 0.0000,  ..., 0.0824, 0.0824, 0.0784]), tensor([0.1608, 0.1569, 0.1569,  ..., 0.0824, 0.0824, 0.0745]), tensor([0.3176, 0.3020, 0.2902,  ..., 0.0863, 0.0824, 0.0784]), tensor([0.0863, 0.1098, 0.1294,  ..., 0.0902, 0.0863, 0.0784]), tensor([0.2275, 0.2235, 0.2157,  ..., 0.0902, 0.0863, 0.0824]), tensor([0.1569, 0.1569, 0.1608,  ..., 0.0902, 0.0902, 0.0824]), tensor([0.2353, 0.2196, 0.2078,  ..., 0.0863, 0.0902, 0.0824]), tensor([0.3216, 0.3020, 0.2824,  ..., 0.0902, 0.0863, 0.0784]), tensor([0.2784, 0.2627, 0.2471,  ..., 0.0863, 0.0863, 0.0863]), tensor([0.1804, 0.1765, 0.1686,  ..., 0.0902, 0.0902, 0.0902]), tensor([0.0784, 0.0824, 0.0863,  ..., 0.0941, 0.0941, 0.0902]), tensor([0.1020, 0.1020, 0.1059,  ..., 0.0941, 0.0941, 0.0941]), tensor([0.2235, 0.2157, 0.2118,  ..., 0.0902, 0.0941, 0.0941]), tensor([0.1451, 0.1451, 0.1451,  ..., 0.0902, 0.0941, 0.0902]), tensor([0.2235, 0.2157, 0.2078,  ..., 0.0902, 0.0902, 0.0941]), tensor([0.2353, 0.2275, 0.2196,  ..., 0.0784, 0.0863, 0.0902]), tensor([0.2157, 0.2118, 0.2078,  ..., 0.0784, 0.0863, 0.0902]), tensor([0.1098, 0.1176, 0.1255,  ..., 0.0784, 0.0863, 0.0863]), tensor([0.0353, 0.0510, 0.0667,  ..., 0.0784, 0.0824, 0.0863]), tensor([0.1412, 0.1412, 0.1412,  ..., 0.0784, 0.0784, 0.0784]), tensor([0.1922, 0.1882, 0.1843,  ..., 0.0824, 0.0824, 0.0824]), tensor([0.2196, 0.2118, 0.2000,  ..., 0.0863, 0.0824, 0.0863]), tensor([0.2431, 0.2275, 0.2157,  ..., 0.0824, 0.0824, 0.0824]), tensor([0.1882, 0.1804, 0.1725,  ..., 0.0824, 0.0824, 0.0824]), tensor([0.2039, 0.1922, 0.1804,  ..., 0.0863, 0.0824, 0.0824]), tensor([0.3294, 0.3059, 0.2863,  ..., 0.0863, 0.0863, 0.0824]), tensor([0.3059, 0.2902, 0.2745,  ..., 0.0863, 0.0863, 0.0863]), tensor([0.3176, 0.3020, 0.2824,  ..., 0.0902, 0.0902, 0.0863]), tensor([0.2588, 0.2510, 0.2392,  ..., 0.0863, 0.0902, 0.0863]), tensor([0.0000, 0.0000, 0.0000,  ..., 0.0824, 0.0863, 0.0863]), tensor([0.0000, 0.0000, 0.0000,  ..., 0.0824, 0.0824, 0.0863]), tensor([0.0000, 0.0000, 0.0000,  ..., 0.0863, 0.0863, 0.0863]), tensor([0.0000, 0.0000, 0.0000,  ..., 0.0902, 0.0902, 0.0902]), tensor([0.2784, 0.2667, 0.2549,  ..., 0.0902, 0.0902, 0.0902]), tensor([0.3451, 0.3333, 0.3176,  ..., 0.0902, 0.0902, 0.0863]), tensor([0.0275, 0.0627, 0.0941,  ..., 0.0941, 0.0941, 0.0941]), tensor([0.2902, 0.2863, 0.2745,  ..., 0.0980, 0.0980, 0.0941]), tensor([0.0000, 0.0000, 0.0000,  ..., 0.0980, 0.0980, 0.0980]), tensor([0.0000, 0.0784, 0.1373,  ..., 0.1020, 0.1020, 0.1059]), tensor([0.0000, 0.0000, 0.0000,  ..., 0.1098, 0.1059, 0.1059]), tensor([0.0000, 0.0000, 0.0000,  ..., 0.1098, 0.1098, 0.1059]), tensor([0.0000, 0.0000, 0.0000,  ..., 0.1059, 0.1059, 0.1020]), tensor([0.0000, 0.0000, 0.0000,  ..., 0.1098, 0.1098, 0.1059]), tensor([0.0000, 0.0000, 0.0000,  ..., 0.1137, 0.1137, 0.1137]), tensor([0.0000, 0.0000, 0.0000,  ..., 0.1137, 0.1137, 0.1176]), tensor([0.0000, 0.0000, 0.0000,  ..., 0.1098, 0.1176, 0.1176]), tensor([0.0000, 0.0000, 0.0588,  ..., 0.0980, 0.1098, 0.1176]), tensor([0.0000, 0.0000, 0.0588,  ..., 0.0980, 0.0980, 0.1020]), tensor([0.0000, 0.0000, 0.0000,  ..., 0.0941, 0.0902, 0.0941]), tensor([0.3059, 0.2902, 0.2745,  ..., 0.0902, 0.0902, 0.0902]), tensor([0.2784, 0.2706, 0.2627,  ..., 0.0902, 0.0902, 0.0941]), tensor([0.0588, 0.0667, 0.0745,  ..., 0.0941, 0.0902, 0.0941]), tensor([0.1294, 0.1294, 0.1333,  ..., 0.0902, 0.0902, 0.0902]), tensor([0.1608, 0.1569, 0.1529,  ..., 0.0980, 0.0941, 0.0980]), tensor([0.1569, 0.1569, 0.1569,  ..., 0.0980, 0.0980, 0.0980]), tensor([0.2157, 0.2078, 0.2039,  ..., 0.0980, 0.0980, 0.0980]), tensor([0.0000, 0.0000, 0.0471,  ..., 0.0980, 0.1020, 0.1020]), tensor([0.0000, 0.0000, 0.0471,  ..., 0.1020, 0.1020, 0.1020]), tensor([0.0000, 0.0000, 0.0000,  ..., 0.0941, 0.1020, 0.1059]), tensor([0.0275, 0.0706, 0.1098,  ..., 0.0902, 0.0980, 0.1059]), tensor([0.0000, 0.0000, 0.0000,  ..., 0.0980, 0.1020, 0.1137]), tensor([0.0000, 0.0000, 0.0275,  ..., 0.1059, 0.1176, 0.1137]), tensor([0.0000, 0.0000, 0.0000,  ..., 0.1098, 0.1176, 0.1137]), tensor([0.0000, 0.0157, 0.0549,  ..., 0.1137, 0.1137, 0.1137]), tensor([0.0000, 0.0000, 0.0000,  ..., 0.1176, 0.1098, 0.1059]), tensor([0.0980, 0.1098, 0.1255,  ..., 0.1137, 0.1020, 0.0980]), tensor([0.0000, 0.0000, 0.0000,  ..., 0.1137, 0.1059, 0.1020]), tensor([0.0078, 0.0314, 0.0510,  ..., 0.1216, 0.1176, 0.1098]), tensor([0.0784, 0.0824, 0.0902,  ..., 0.1294, 0.1255, 0.1216]), tensor([0.1843, 0.1843, 0.1843,  ..., 0.1333, 0.1294, 0.1255]), tensor([0.0196, 0.0431, 0.0627,  ..., 0.1294, 0.1255, 0.1216]), tensor([0.1647, 0.1843, 0.2000,  ..., 0.1176, 0.1216, 0.1216]), tensor([0.0000, 0.0000, 0.0000,  ..., 0.1059, 0.1098, 0.1176]), tensor([0.0000, 0.0000, 0.0627,  ..., 0.1098, 0.1137, 0.1137]), tensor([0.0000, 0.0000, 0.0000,  ..., 0.1137, 0.1176, 0.1176]), tensor([0.0000, 0.0000, 0.0000,  ..., 0.1255, 0.1294, 0.1255]), tensor([0.0000, 0.0000, 0.0000,  ..., 0.1412, 0.1412, 0.1373]), tensor([0.0000, 0.0000, 0.0000,  ..., 0.1490, 0.1451, 0.1451]), tensor([0.0000, 0.0000, 0.0000,  ..., 0.1451, 0.1451, 0.1490]), tensor([0.0000, 0.0000, 0.0000,  ..., 0.1373, 0.1412, 0.1451]), tensor([0.0000, 0.0000, 0.0000,  ..., 0.1294, 0.1333, 0.1373]), tensor([0.0000, 0.0000, 0.0000,  ..., 0.1333, 0.1333, 0.1373]), tensor([0.0000, 0.0000, 0.0000,  ..., 0.1412, 0.1451, 0.1412]), tensor([0.0000, 0.0000, 0.0000,  ..., 0.1725, 0.1490, 0.1412]), tensor([0.0000, 0.0000, 0.0000,  ..., 0.1765, 0.1490, 0.1412]), tensor([0.0000, 0.0000, 0.0000,  ..., 0.1686, 0.1490, 0.1451]), tensor([0.0000, 0.0000, 0.0000,  ..., 0.1608, 0.1490, 0.1451]), tensor([0.0000, 0.0000, 0.0000,  ..., 0.1569, 0.1490, 0.1451]), tensor([0.0000, 0.0000, 0.0000,  ..., 0.1647, 0.1529, 0.1451]), tensor([0.0000, 0.0000, 0.0000,  ..., 0.1647, 0.1569, 0.1529]), tensor([0.0510, 0.0471, 0.0471,  ..., 0.1686, 0.1608, 0.1569]), tensor([0.0627, 0.0706, 0.0784,  ..., 0.1686, 0.1686, 0.1686]), tensor([0.1020, 0.1020, 0.1020,  ..., 0.1529, 0.1490, 0.1451]), tensor([0.0745, 0.0824, 0.0902,  ..., 0.1216, 0.1216, 0.1255]), tensor([0.0824, 0.0941, 0.1020,  ..., 0.1098, 0.1137, 0.1137]), tensor([0.0275, 0.0471, 0.0667,  ..., 0.1059, 0.1059, 0.1059]), tensor([0.0784, 0.0902, 0.1020,  ..., 0.1059, 0.1020, 0.0980]), tensor([0.0000, 0.0000, 0.0157,  ..., 0.1059, 0.1059, 0.1059]), tensor([0.0431, 0.0549, 0.0667,  ..., 0.1059, 0.1059, 0.1059]), tensor([0.0118, 0.0275, 0.0431,  ..., 0.1098, 0.1059, 0.1059]), tensor([0.0941, 0.1020, 0.1098,  ..., 0.1176, 0.1137, 0.1098]), tensor([0.0000, 0.0078, 0.0353,  ..., 0.1176, 0.1137, 0.1137]), tensor([0.0549, 0.0745, 0.0902,  ..., 0.1294, 0.1176, 0.1098]), tensor([0.0000, 0.0078, 0.0353,  ..., 0.1294, 0.1176, 0.1098]), tensor([0.1098, 0.1216, 0.1294,  ..., 0.1255, 0.1137, 0.1098]), tensor([0.0000, 0.0000, 0.0314,  ..., 0.1216, 0.1137, 0.1059]), tensor([0.0314, 0.0627, 0.0863,  ..., 0.1137, 0.1098, 0.1020]), tensor([0.0000, 0.0000, 0.0000,  ..., 0.1059, 0.1059, 0.0980]), tensor([0.0000, 0.0000, 0.0118,  ..., 0.0980, 0.1020, 0.0980]), tensor([0.0000, 0.0000, 0.0000,  ..., 0.1020, 0.1020, 0.0941]), tensor([0.0000, 0.0157, 0.0392,  ..., 0.1020, 0.1020, 0.0941]), tensor([0.0196, 0.0353, 0.0471,  ..., 0.0980, 0.1020, 0.0980]), tensor([0.0627, 0.0706, 0.0784,  ..., 0.1059, 0.1059, 0.1020]), tensor([0.0471, 0.0588, 0.0667,  ..., 0.1137, 0.1098, 0.1059]), tensor([0.0627, 0.0706, 0.0784,  ..., 0.1373, 0.1294, 0.1137]), tensor([0.0784, 0.0863, 0.0902,  ..., 0.1882, 0.1608, 0.1490]), tensor([0.0941, 0.0980, 0.1020,  ..., 0.2784, 0.2627, 0.2000]), tensor([0.0980, 0.0980, 0.1020,  ..., 0.3294, 0.3176, 0.2314]), tensor([0.0588, 0.0706, 0.0824,  ..., 0.3255, 0.3255, 0.2667]), tensor([0.0588, 0.0706, 0.0784,  ..., 0.3373, 0.3608, 0.3098]), tensor([0.0784, 0.0863, 0.0902,  ..., 0.3804, 0.4157, 0.3529]), tensor([0.0941, 0.0941, 0.0980,  ..., 0.3922, 0.4471, 0.3961]), tensor([0.0980, 0.0980, 0.0980,  ..., 0.3843, 0.4431, 0.4353]), tensor([0.1020, 0.1020, 0.1020,  ..., 0.3765, 0.4392, 0.4627]), tensor([0.0824, 0.0863, 0.0902,  ..., 0.3569, 0.4235, 0.4824]), tensor([0.0784, 0.0863, 0.0902,  ..., 0.3412, 0.4118, 0.4902]), tensor([0.0471, 0.0588, 0.0667,  ..., 0.3176, 0.4000, 0.4941]), tensor([0.0706, 0.0745, 0.0824,  ..., 0.3216, 0.3843, 0.4863]), tensor([0.0549, 0.0627, 0.0745,  ..., 0.3137, 0.3686, 0.4863]), tensor([0.0863, 0.0902, 0.0941,  ..., 0.2980, 0.3686, 0.4627]), tensor([0.0902, 0.0941, 0.0980,  ..., 0.3333, 0.3882, 0.4314]), tensor([0.1020, 0.1020, 0.1020,  ..., 0.3569, 0.3608, 0.4235]), tensor([0.0824, 0.0863, 0.0863,  ..., 0.2980, 0.3529, 0.3961]), tensor([0.0941, 0.0941, 0.0941,  ..., 0.3098, 0.2863, 0.3647]), tensor([0.1020, 0.1020, 0.1020,  ..., 0.3608, 0.3569, 0.3529]), tensor([0.0902, 0.0941, 0.0941,  ..., 0.3490, 0.3569, 0.3255]), tensor([0.0980, 0.0980, 0.0941,  ..., 0.3333, 0.3451, 0.3098]), tensor([0.1098, 0.1059, 0.1059,  ..., 0.3176, 0.3255, 0.2863]), tensor([0.0863, 0.0902, 0.0941,  ..., 0.2941, 0.2863, 0.2667]), tensor([0.0863, 0.0902, 0.0902,  ..., 0.3255, 0.3373, 0.3490]), tensor([0.1059, 0.1059, 0.1059,  ..., 0.3765, 0.4000, 0.4118]), tensor([0.1098, 0.1098, 0.1059,  ..., 0.3412, 0.3608, 0.3843]), tensor([0.0980, 0.0980, 0.1020,  ..., 0.2471, 0.2706, 0.2863]), tensor([0.0863, 0.0902, 0.0902,  ..., 0.2706, 0.2784, 0.3373]), tensor([0.0941, 0.0941, 0.0941,  ..., 0.2941, 0.3098, 0.3647]), tensor([0.1098, 0.1098, 0.1059,  ..., 0.3059, 0.2902, 0.3373]), tensor([0.1137, 0.1137, 0.1098,  ..., 0.2980, 0.2706, 0.2902]), tensor([0.1137, 0.1098, 0.1098,  ..., 0.2824, 0.2667, 0.2824]), tensor([0.1059, 0.1059, 0.1059,  ..., 0.2824, 0.2863, 0.3176]), tensor([0.0902, 0.0941, 0.0941,  ..., 0.2863, 0.3098, 0.3529]), tensor([0.0980, 0.0980, 0.0980,  ..., 0.3020, 0.3059, 0.3176]), tensor([0.1098, 0.1098, 0.1098,  ..., 0.2902, 0.2784, 0.2824]), tensor([0.1059, 0.1059, 0.1059,  ..., 0.2824, 0.2706, 0.2706]), tensor([0.1176, 0.1137, 0.1137,  ..., 0.2784, 0.2706, 0.2667]), tensor([0.1176, 0.1176, 0.1137,  ..., 0.2980, 0.2824, 0.2745]), tensor([0.1176, 0.1137, 0.1137,  ..., 0.2980, 0.2784, 0.2706]), tensor([0.1137, 0.1137, 0.1098,  ..., 0.2902, 0.2627, 0.2549]), tensor([0.1569, 0.1490, 0.1412,  ..., 0.2941, 0.2667, 0.2588]), tensor([0.1294, 0.1255, 0.1216,  ..., 0.3020, 0.3020, 0.2980]), tensor([0.1843, 0.1725, 0.1569,  ..., 0.3020, 0.3059, 0.3059]), tensor([0.1294, 0.1255, 0.1216,  ..., 0.3059, 0.2980, 0.2784]), tensor([0.1529, 0.1451, 0.1333,  ..., 0.2902, 0.2902, 0.2863]), tensor([0.1569, 0.1490, 0.1373,  ..., 0.2706, 0.2980, 0.3137]), tensor([0.1725, 0.1647, 0.1529,  ..., 0.2392, 0.2863, 0.3137]), tensor([0.1608, 0.1529, 0.1451,  ..., 0.2157, 0.2706, 0.3020]), tensor([0.1686, 0.1608, 0.1569,  ..., 0.2196, 0.2745, 0.3020]), tensor([0.1569, 0.1529, 0.1490,  ..., 0.2314, 0.2941, 0.3451]), tensor([0.1686, 0.1608, 0.1569,  ..., 0.2431, 0.3255, 0.3647]), tensor([0.1333, 0.1333, 0.1294,  ..., 0.2588, 0.3569, 0.4000]), tensor([0.1255, 0.1255, 0.1255,  ..., 0.2745, 0.3686, 0.4078]), tensor([0.1216, 0.1216, 0.1216,  ..., 0.2784, 0.3843, 0.4275]), tensor([0.1294, 0.1255, 0.1255,  ..., 0.2784, 0.4118, 0.4510]), tensor([0.1490, 0.1451, 0.1412,  ..., 0.2745, 0.4157, 0.4667]), tensor([0.1686, 0.1647, 0.1569,  ..., 0.2706, 0.4039, 0.4549]), tensor([0.1804, 0.1686, 0.1608,  ..., 0.3059, 0.4118, 0.4588]), tensor([0.1804, 0.1725, 0.1608,  ..., 0.3176, 0.4196, 0.4588]), tensor([0.2000, 0.1882, 0.1725,  ..., 0.4039, 0.4549, 0.4627]), tensor([0.2000, 0.1882, 0.1765,  ..., 0.4863, 0.5020, 0.4863]), tensor([0.1882, 0.1765, 0.1647,  ..., 0.4000, 0.3961, 0.3882]), tensor([0.1647, 0.1569, 0.1490,  ..., 0.3373, 0.2784, 0.2980]), tensor([0.1569, 0.1490, 0.1412,  ..., 0.2431, 0.2471, 0.2118]), tensor([0.1529, 0.1451, 0.1373,  ..., 0.1804, 0.1686, 0.2039]), tensor([0.1255, 0.1216, 0.1216,  ..., 0.1686, 0.2078, 0.2196]), tensor([0.0902, 0.0980, 0.1020,  ..., 0.2196, 0.2392, 0.2588]), tensor([0.0863, 0.0941, 0.0980,  ..., 0.2980, 0.3255, 0.3176]), tensor([0.0941, 0.1020, 0.1059,  ..., 0.3569, 0.3451, 0.3569]), tensor([0.1020, 0.1059, 0.1098,  ..., 0.3725, 0.3765, 0.3725]), tensor([0.1059, 0.1098, 0.1137,  ..., 0.2588, 0.2627, 0.2667]), tensor([0.0902, 0.0980, 0.1059,  ..., 0.2353, 0.2784, 0.2745]), tensor([0.1098, 0.1137, 0.1216,  ..., 0.2745, 0.2824, 0.2980]), tensor([0.2039, 0.1961, 0.1843,  ..., 0.2824, 0.2902, 0.3176]), tensor([0.1490, 0.1490, 0.1529,  ..., 0.2784, 0.2706, 0.3020]), tensor([0.1882, 0.1804, 0.1765,  ..., 0.2549, 0.2510, 0.2941]), tensor([0.1804, 0.1725, 0.1686,  ..., 0.2549, 0.2706, 0.2980]), tensor([0.2353, 0.2196, 0.2078,  ..., 0.2667, 0.3176, 0.3608]), tensor([0.1922, 0.1843, 0.1765,  ..., 0.2941, 0.3294, 0.3647]), tensor([0.2353, 0.2196, 0.2039,  ..., 0.2667, 0.2784, 0.2902]), tensor([0.2392, 0.2196, 0.2039,  ..., 0.2353, 0.2039, 0.1961]), tensor([0.2667, 0.2510, 0.2353,  ..., 0.1765, 0.1608, 0.1451]), tensor([0.2118, 0.2039, 0.1922,  ..., 0.1255, 0.1216, 0.1176]), tensor([0.2510, 0.2353, 0.2196,  ..., 0.1216, 0.1216, 0.1176]), tensor([0.2431, 0.2275, 0.2118,  ..., 0.1216, 0.1176, 0.1216]), tensor([0.2392, 0.2275, 0.2118,  ..., 0.1216, 0.1176, 0.1216]), tensor([0.2000, 0.1922, 0.1843,  ..., 0.1255, 0.1255, 0.1255]), tensor([0.2078, 0.1961, 0.1882,  ..., 0.1255, 0.1294, 0.1333]), tensor([0.2118, 0.2000, 0.1922,  ..., 0.1373, 0.1373, 0.1412]), tensor([0.2000, 0.1961, 0.1882,  ..., 0.1451, 0.1451, 0.1451]), tensor([0.1882, 0.1843, 0.1804,  ..., 0.1647, 0.1647, 0.1608]), tensor([0.1804, 0.1804, 0.1765,  ..., 0.1843, 0.1882, 0.1843]), tensor([0.1843, 0.1804, 0.1804,  ..., 0.2039, 0.2039, 0.2039]), tensor([0.1961, 0.1922, 0.1882,  ..., 0.2196, 0.2196, 0.2196]), tensor([0.2078, 0.2039, 0.1961,  ..., 0.2314, 0.2314, 0.2314]), tensor([0.1882, 0.1882, 0.1843,  ..., 0.2392, 0.2392, 0.2431]), tensor([0.2275, 0.2157, 0.2039,  ..., 0.2510, 0.2510, 0.2510]), tensor([0.1961, 0.1922, 0.1804,  ..., 0.2588, 0.2627, 0.2627]), tensor([0.2196, 0.2039, 0.1882,  ..., 0.2706, 0.2745, 0.2745]), tensor([0.1882, 0.1765, 0.1647,  ..., 0.2745, 0.2784, 0.2745]), tensor([0.2314, 0.2118, 0.1882,  ..., 0.2824, 0.2784, 0.2745]), tensor([0.2000, 0.1882, 0.1725,  ..., 0.2863, 0.2824, 0.2784]), tensor([0.2275, 0.2118, 0.1961,  ..., 0.2902, 0.2863, 0.2863]), tensor([0.2039, 0.1961, 0.1882,  ..., 0.2941, 0.2902, 0.2902]), tensor([0.2235, 0.2157, 0.2078,  ..., 0.2941, 0.2941, 0.2863]), tensor([0.1765, 0.1765, 0.1765,  ..., 0.2706, 0.2745, 0.2745]), tensor([0.1961, 0.1922, 0.1882,  ..., 0.2392, 0.2431, 0.2471]), tensor([0.1961, 0.1922, 0.1922,  ..., 0.2353, 0.2431, 0.2392]), tensor([0.1725, 0.1765, 0.1804,  ..., 0.2784, 0.2784, 0.2745]), tensor([0.2039, 0.2039, 0.2000,  ..., 0.3098, 0.3059, 0.3059]), tensor([0.2235, 0.2196, 0.2157,  ..., 0.3333, 0.3294, 0.3255]), tensor([0.1765, 0.1843, 0.1882,  ..., 0.3333, 0.3333, 0.3333]), tensor([0.1569, 0.1608, 0.1686,  ..., 0.3333, 0.3333, 0.3373]), tensor([0.1686, 0.1725, 0.1765,  ..., 0.3373, 0.3373, 0.3412]), tensor([0.1922, 0.1922, 0.1882,  ..., 0.3373, 0.3373, 0.3412]), tensor([0.2118, 0.2078, 0.2078,  ..., 0.3373, 0.3373, 0.3373]), tensor([0.1765, 0.1843, 0.1922,  ..., 0.3333, 0.3333, 0.3333]), tensor([0.1529, 0.1608, 0.1686,  ..., 0.3176, 0.3176, 0.3255]), tensor([0.2078, 0.2000, 0.1961,  ..., 0.3137, 0.3098, 0.3098]), tensor([0.2588, 0.2510, 0.2431,  ..., 0.3059, 0.3098, 0.3059]), tensor([0.2510, 0.2549, 0.2549,  ..., 0.3098, 0.3098, 0.3098]), tensor([0.2510, 0.2588, 0.2627,  ..., 0.3216, 0.3216, 0.3255]), tensor([0.2510, 0.2588, 0.2667,  ..., 0.3451, 0.3412, 0.3529]), tensor([0.2667, 0.2706, 0.2706,  ..., 0.3686, 0.3686, 0.3765]), tensor([0.2549, 0.2588, 0.2667,  ..., 0.3882, 0.3882, 0.3922]), tensor([0.2588, 0.2627, 0.2627,  ..., 0.3961, 0.3961, 0.4000]), tensor([0.1882, 0.2078, 0.2275,  ..., 0.4000, 0.4039, 0.4000]), tensor([0.1843, 0.1882, 0.1961,  ..., 0.4000, 0.4078, 0.4039]), tensor([0.2314, 0.2157, 0.2039,  ..., 0.4078, 0.4078, 0.4078]), tensor([0.1804, 0.1804, 0.1765,  ..., 0.4078, 0.4078, 0.4118]), tensor([0.1725, 0.1686, 0.1686,  ..., 0.4078, 0.4078, 0.4118]), tensor([0.1608, 0.1647, 0.1686,  ..., 0.4118, 0.4078, 0.4078]), tensor([0.2471, 0.2353, 0.2275,  ..., 0.4039, 0.4039, 0.4039]), tensor([0.2196, 0.2314, 0.2392,  ..., 0.4078, 0.4118, 0.4118]), tensor([0.2353, 0.2510, 0.2667,  ..., 0.4196, 0.4196, 0.4196]), tensor([0.3098, 0.3137, 0.3137,  ..., 0.4196, 0.4196, 0.4235]), tensor([0.2745, 0.2863, 0.2980,  ..., 0.4196, 0.4157, 0.4196]), tensor([0.2588, 0.2706, 0.2824,  ..., 0.4196, 0.4196, 0.4196]), tensor([0.2667, 0.2745, 0.2824,  ..., 0.4157, 0.4196, 0.4157]), tensor([0.2667, 0.2745, 0.2784,  ..., 0.4196, 0.4235, 0.4196]), tensor([0.2471, 0.2549, 0.2627,  ..., 0.4275, 0.4275, 0.4235]), tensor([0.2314, 0.2392, 0.2471,  ..., 0.4353, 0.4353, 0.4314]), tensor([0.2392, 0.2392, 0.2431,  ..., 0.4353, 0.4314, 0.4275]), tensor([0.2275, 0.2275, 0.2314,  ..., 0.4275, 0.4275, 0.4275]), tensor([0.2314, 0.2275, 0.2275,  ..., 0.4314, 0.4275, 0.4235]), tensor([0.2588, 0.2510, 0.2431,  ..., 0.4275, 0.4235, 0.4235]), tensor([0.2902, 0.2824, 0.2706,  ..., 0.4235, 0.4235, 0.4235]), tensor([0.2471, 0.2588, 0.2667,  ..., 0.4275, 0.4275, 0.4275]), tensor([0.2314, 0.2471, 0.2627,  ..., 0.4314, 0.4275, 0.4235]), tensor([0.2196, 0.2431, 0.2588,  ..., 0.4235, 0.4235, 0.4275]), tensor([0.2784, 0.2824, 0.2863,  ..., 0.4196, 0.4196, 0.4235]), tensor([0.3020, 0.3020, 0.2980,  ..., 0.4196, 0.4196, 0.4235]), tensor([0.3373, 0.3216, 0.3059,  ..., 0.4196, 0.4157, 0.4157]), tensor([0.3333, 0.3137, 0.2941,  ..., 0.4275, 0.4157, 0.4118]), tensor([0.2745, 0.2588, 0.2471,  ..., 0.4235, 0.4157, 0.4118]), tensor([0.2431, 0.2314, 0.2157,  ..., 0.4235, 0.4235, 0.4235]), tensor([0.1922, 0.1922, 0.1882,  ..., 0.4314, 0.4314, 0.4314]), tensor([0.1647, 0.1725, 0.1804,  ..., 0.4353, 0.4314, 0.4353]), tensor([0.1333, 0.1490, 0.1608,  ..., 0.4314, 0.4314, 0.4314]), tensor([0.1529, 0.1608, 0.1647,  ..., 0.4392, 0.4392, 0.4353]), tensor([0.1176, 0.1333, 0.1490,  ..., 0.4392, 0.4392, 0.4392]), tensor([0.1451, 0.1569, 0.1647,  ..., 0.4392, 0.4392, 0.4392]), tensor([0.1216, 0.1412, 0.1608,  ..., 0.4392, 0.4353, 0.4353]), tensor([0.1804, 0.1843, 0.1922,  ..., 0.4314, 0.4275, 0.4275]), tensor([0.1765, 0.1922, 0.2078,  ..., 0.4275, 0.4235, 0.4235]), tensor([0.1686, 0.1882, 0.2078,  ..., 0.4314, 0.4314, 0.4275]), tensor([0.0431, 0.1333, 0.2196,  ..., 0.4314, 0.4353, 0.4314]), tensor([0.4431, 0.4627, 0.4824,  ..., 0.4235, 0.4314, 0.4314]), tensor([0.4235, 0.4941, 0.5529,  ..., 0.4235, 0.4275, 0.4314]), tensor([0.4275, 0.5255, 0.6000,  ..., 0.4314, 0.4275, 0.4235]), tensor([0.3490, 0.4706, 0.5647,  ..., 0.4314, 0.4275, 0.4275]), tensor([0.5020, 0.5686, 0.6275,  ..., 0.4314, 0.4353, 0.4314]), tensor([0.4235, 0.5098, 0.5843,  ..., 0.4314, 0.4314, 0.4314]), tensor([0.5765, 0.6039, 0.6275,  ..., 0.4275, 0.4275, 0.4275]), tensor([0.5686, 0.5843, 0.6039,  ..., 0.4314, 0.4275, 0.4235]), tensor([0.5529, 0.5686, 0.5804,  ..., 0.4353, 0.4275, 0.4235]), tensor([0.4510, 0.4824, 0.5098,  ..., 0.4353, 0.4353, 0.4314]), tensor([0.5490, 0.5333, 0.5137,  ..., 0.4353, 0.4353, 0.4392]), tensor([0.5725, 0.5412, 0.5098,  ..., 0.4353, 0.4314, 0.4314]), tensor([0.6353, 0.5882, 0.5333,  ..., 0.4314, 0.4275, 0.4235]), tensor([0.5765, 0.5451, 0.5059,  ..., 0.4275, 0.4275, 0.4235]), tensor([0.3098, 0.3176, 0.3255,  ..., 0.4196, 0.4235, 0.4196]), tensor([0.2627, 0.2549, 0.2431,  ..., 0.4196, 0.4196, 0.4078]), tensor([0.2510, 0.2431, 0.2353,  ..., 0.4235, 0.4196, 0.4039]), tensor([0.2235, 0.2235, 0.2235,  ..., 0.4275, 0.4235, 0.4078]), tensor([0.2392, 0.2314, 0.2275,  ..., 0.4275, 0.4275, 0.4078]), tensor([0.2392, 0.2353, 0.2314,  ..., 0.4275, 0.4275, 0.4118]), tensor([0.2196, 0.2196, 0.2235,  ..., 0.4275, 0.4275, 0.4078]), tensor([0.2314, 0.2275, 0.2275,  ..., 0.4275, 0.4314, 0.4078]), tensor([0.2314, 0.2314, 0.2353,  ..., 0.4314, 0.4353, 0.4000]), tensor([0.2196, 0.2235, 0.2235,  ..., 0.4314, 0.4275, 0.3882]), tensor([0.2078, 0.2118, 0.2157,  ..., 0.4235, 0.4235, 0.3804]), tensor([0.2000, 0.2039, 0.2078,  ..., 0.4275, 0.4275, 0.3765]), tensor([0.1725, 0.1843, 0.1922,  ..., 0.4275, 0.4314, 0.3765]), tensor([0.1882, 0.1922, 0.2000,  ..., 0.4275, 0.4275, 0.3647]), tensor([0.1961, 0.2000, 0.2039,  ..., 0.4275, 0.4235, 0.3647]), tensor([0.2157, 0.2235, 0.2275,  ..., 0.4314, 0.4275, 0.3608]), tensor([0.2314, 0.2314, 0.2314,  ..., 0.4275, 0.4275, 0.3569]), tensor([0.1922, 0.2039, 0.2118,  ..., 0.4196, 0.4196, 0.3529]), tensor([0.1922, 0.1922, 0.1882,  ..., 0.4039, 0.4039, 0.3451]), tensor([0.1922, 0.1882, 0.1843,  ..., 0.4157, 0.4157, 0.3490]), tensor([0.1686, 0.1686, 0.1725,  ..., 0.4196, 0.4196, 0.3569]), tensor([0.1725, 0.1725, 0.1725,  ..., 0.4196, 0.4196, 0.3882]), tensor([0.1647, 0.1647, 0.1686,  ..., 0.4118, 0.4118, 0.4627]), tensor([0.1647, 0.1686, 0.1686,  ..., 0.4118, 0.4078, 0.5137]), tensor([0.1490, 0.1529, 0.1608,  ..., 0.4157, 0.4196, 0.5412]), tensor([0.1608, 0.1647, 0.1647,  ..., 0.4118, 0.4157, 0.5373]), tensor([0.1569, 0.1608, 0.1608,  ..., 0.4157, 0.4157, 0.5529]), tensor([0.1490, 0.1529, 0.1569,  ..., 0.4235, 0.4235, 0.5490]), tensor([0.1451, 0.1529, 0.1569,  ..., 0.4235, 0.4235, 0.5529]), tensor([0.1725, 0.1765, 0.1804,  ..., 0.4196, 0.4196, 0.5373]), tensor([0.1961, 0.2039, 0.2078,  ..., 0.4235, 0.4196, 0.5176]), tensor([0.2157, 0.2314, 0.2471,  ..., 0.4235, 0.4235, 0.4863]), tensor([0.2902, 0.2980, 0.3098,  ..., 0.4235, 0.4235, 0.4745]), tensor([0.3882, 0.3882, 0.3882,  ..., 0.4196, 0.4235, 0.4667]), tensor([0.4078, 0.4196, 0.4275,  ..., 0.4157, 0.4157, 0.4784]), tensor([0.4078, 0.4196, 0.4314,  ..., 0.4039, 0.4039, 0.4431]), tensor([0.4314, 0.4314, 0.4314,  ..., 0.4039, 0.4078, 0.3451]), tensor([0.4510, 0.4431, 0.4353,  ..., 0.4039, 0.4078, 0.2980]), tensor([0.4549, 0.4431, 0.4314,  ..., 0.4039, 0.4118, 0.2902]), tensor([0.4745, 0.4588, 0.4431,  ..., 0.4039, 0.4118, 0.2824]), tensor([0.4235, 0.4353, 0.4431,  ..., 0.4078, 0.4078, 0.2784]), tensor([0.3765, 0.3961, 0.4118,  ..., 0.4078, 0.4039, 0.2784]), tensor([0.4275, 0.4275, 0.4275,  ..., 0.4157, 0.4039, 0.2706]), tensor([0.4353, 0.4392, 0.4392,  ..., 0.4196, 0.4118, 0.2745]), tensor([0.4000, 0.4235, 0.4392,  ..., 0.4078, 0.4078, 0.2745]), tensor([0.4078, 0.4039, 0.4078,  ..., 0.3922, 0.4000, 0.2627]), tensor([0.3686, 0.3647, 0.3647,  ..., 0.4000, 0.4039, 0.2510]), tensor([0.3451, 0.3294, 0.3137,  ..., 0.4039, 0.4078, 0.2431]), tensor([0.3216, 0.3059, 0.2863,  ..., 0.4078, 0.4157, 0.2314]), tensor([0.2667, 0.2667, 0.2706,  ..., 0.4157, 0.4196, 0.2275]), tensor([0.2431, 0.2471, 0.2471,  ..., 0.4118, 0.4157, 0.2275]), tensor([0.2078, 0.2157, 0.2235,  ..., 0.4078, 0.4118, 0.2431]), tensor([0.2235, 0.2235, 0.2235,  ..., 0.4118, 0.4118, 0.2431]), tensor([0.2078, 0.2118, 0.2157,  ..., 0.4000, 0.4039, 0.2235]), tensor([0.1804, 0.1882, 0.1961,  ..., 0.4078, 0.4039, 0.1961]), tensor([0.1647, 0.1686, 0.1725,  ..., 0.4039, 0.4039, 0.1882]), tensor([0.1686, 0.1686, 0.1686,  ..., 0.3961, 0.3882, 0.3922]), tensor([0.1608, 0.1647, 0.1647,  ..., 0.3922, 0.3843, 0.3843]), tensor([0.1608, 0.1569, 0.1569,  ..., 0.4039, 0.3882, 0.3922]), tensor([0.1569, 0.1569, 0.1529,  ..., 0.4157, 0.3961, 0.4000]), tensor([0.1490, 0.1490, 0.1490,  ..., 0.4118, 0.3922, 0.3961]), tensor([0.1412, 0.1412, 0.1412,  ..., 0.4118, 0.3922, 0.3922]), tensor([0.1412, 0.1373, 0.1373,  ..., 0.4118, 0.3882, 0.3922]), tensor([0.1373, 0.1373, 0.1373,  ..., 0.4157, 0.3843, 0.3882]), tensor([0.1294, 0.1294, 0.1333,  ..., 0.4157, 0.3843, 0.3843]), tensor([0.1294, 0.1294, 0.1294,  ..., 0.4118, 0.3765, 0.3804]), tensor([0.1255, 0.1294, 0.1294,  ..., 0.3882, 0.3647, 0.3647]), tensor([0.1137, 0.1216, 0.1255,  ..., 0.3529, 0.3373, 0.3373]), tensor([0.1059, 0.1098, 0.1137,  ..., 0.3294, 0.3176, 0.3216]), tensor([0.1059, 0.1059, 0.1059,  ..., 0.3216, 0.3373, 0.3373]), tensor([0.0941, 0.0980, 0.1020,  ..., 0.2980, 0.3412, 0.3412]), tensor([0.0902, 0.0941, 0.1020,  ..., 0.2902, 0.3333, 0.3294]), tensor([0.0902, 0.0941, 0.0941,  ..., 0.3020, 0.3412, 0.3373]), tensor([0.0902, 0.0941, 0.0941,  ..., 0.3412, 0.3725, 0.3686]), tensor([0.0863, 0.0902, 0.0941,  ..., 0.3804, 0.3961, 0.3961]), tensor([0.0980, 0.0980, 0.1020,  ..., 0.3922, 0.4078, 0.4078]), tensor([0.0902, 0.0980, 0.1020,  ..., 0.3882, 0.4118, 0.4078]), tensor([0.1059, 0.1098, 0.1137,  ..., 0.3843, 0.3961, 0.3961]), tensor([0.1098, 0.1098, 0.1098,  ..., 0.3843, 0.3961, 0.3961]), tensor([0.1098, 0.1098, 0.1059,  ..., 0.3804, 0.4078, 0.4078]), tensor([0.1176, 0.1137, 0.1059,  ..., 0.3804, 0.4039, 0.4039]), tensor([0.0980, 0.1020, 0.1020,  ..., 0.3765, 0.3961, 0.3961]), tensor([0.0941, 0.0980, 0.0980,  ..., 0.3686, 0.3765, 0.3765]), tensor([0.1020, 0.1059, 0.1059,  ..., 0.3647, 0.3529, 0.3529]), tensor([0.1020, 0.1020, 0.1020,  ..., 0.3686, 0.3373, 0.3373]), tensor([0.0902, 0.0980, 0.0980,  ..., 0.3725, 0.3255, 0.3255]), tensor([0.0863, 0.0941, 0.0941,  ..., 0.3843, 0.3176, 0.3216]), tensor([0.0902, 0.0980, 0.1020,  ..., 0.3843, 0.3059, 0.3098]), tensor([0.0941, 0.0980, 0.1059,  ..., 0.3804, 0.3020, 0.3020]), tensor([0.1059, 0.1098, 0.1137,  ..., 0.3804, 0.2980, 0.2980]), tensor([0.1176, 0.1216, 0.1255,  ..., 0.3804, 0.2824, 0.2863]), tensor([0.1255, 0.1333, 0.1412,  ..., 0.3765, 0.2667, 0.2706]), tensor([0.1412, 0.1490, 0.1608,  ..., 0.3608, 0.2549, 0.2549]), tensor([0.1569, 0.1686, 0.1804,  ..., 0.3725, 0.2549, 0.2549]), tensor([0.1843, 0.1961, 0.2078,  ..., 0.3725, 0.2471, 0.2471]), tensor([0.2118, 0.2235, 0.2275,  ..., 0.3725, 0.2392, 0.2431]), tensor([0.2314, 0.2392, 0.2431,  ..., 0.3686, 0.2314, 0.2353]), tensor([0.2392, 0.2510, 0.2549,  ..., 0.3804, 0.2275, 0.2314]), tensor([0.2667, 0.2745, 0.2745,  ..., 0.3804, 0.2196, 0.2235]), tensor([0.2863, 0.2941, 0.2941,  ..., 0.3686, 0.2118, 0.2157]), tensor([0.2863, 0.2980, 0.2980,  ..., 0.3608, 0.2000, 0.2039]), tensor([0.2824, 0.2902, 0.2980,  ..., 0.3608, 0.1922, 0.1961]), tensor([0.2941, 0.2941, 0.2980,  ..., 0.3765, 0.1961, 0.2000]), tensor([0.2980, 0.2980, 0.3020,  ..., 0.3765, 0.1882, 0.1922]), tensor([0.3098, 0.3098, 0.3098,  ..., 0.3765, 0.1765, 0.1804]), tensor([0.3098, 0.3176, 0.3176,  ..., 0.3922, 0.1686, 0.1725]), tensor([0.3176, 0.3216, 0.3176,  ..., 0.3843, 0.1569, 0.1608]), tensor([0.3216, 0.3216, 0.3176,  ..., 0.3569, 0.1412, 0.1451]), tensor([0.3294, 0.3294, 0.3294,  ..., 0.3490, 0.1333, 0.1373]), tensor([0.3333, 0.3294, 0.3294,  ..., 0.3725, 0.1294, 0.1333]), tensor([0.3294, 0.3216, 0.3216,  ..., 0.3608, 0.1216, 0.1255]), tensor([0.3333, 0.3216, 0.3137,  ..., 0.3490, 0.1137, 0.1176]), tensor([0.2902, 0.2941, 0.2784,  ..., 0.3608, 0.1137, 0.1176]), tensor([0.2588, 0.2471, 0.2235,  ..., 0.3647, 0.1137, 0.1176]), tensor([0.2353, 0.2275, 0.2275,  ..., 0.3725, 0.1137, 0.1216]), tensor([0.2157, 0.2235, 0.2275,  ..., 0.3686, 0.3686, 0.1137]), tensor([0.2314, 0.2275, 0.2235,  ..., 0.3765, 0.3804, 0.3804]), tensor([0.2275, 0.2275, 0.2196,  ..., 0.3922, 0.3961, 0.4000]), tensor([0.2196, 0.2235, 0.2235,  ..., 0.3922, 0.3961, 0.3961]), tensor([0.2078, 0.2196, 0.2235,  ..., 0.3725, 0.3765, 0.3804]), tensor([0.2118, 0.2118, 0.2157,  ..., 0.3569, 0.3608, 0.3647]), tensor([0.2157, 0.2157, 0.2078,  ..., 0.3569, 0.3569, 0.3608]), tensor([0.2039, 0.2078, 0.2000,  ..., 0.3529, 0.3529, 0.3569]), tensor([0.1922, 0.1922, 0.1882,  ..., 0.3451, 0.3490, 0.3490]), tensor([0.1882, 0.1961, 0.2000,  ..., 0.3373, 0.3412, 0.3451]), tensor([0.2000, 0.2157, 0.2196,  ..., 0.3373, 0.3373, 0.3412]), tensor([0.2118, 0.2235, 0.2275,  ..., 0.3373, 0.3412, 0.3412]), tensor([0.2196, 0.2275, 0.2314,  ..., 0.3373, 0.3373, 0.3412]), tensor([0.2118, 0.2235, 0.2314,  ..., 0.3333, 0.3373, 0.3412]), tensor([0.2118, 0.2196, 0.2314,  ..., 0.3412, 0.3412, 0.3451]), tensor([0.2118, 0.2235, 0.2353,  ..., 0.3451, 0.3490, 0.3490]), tensor([0.2196, 0.2275, 0.2392,  ..., 0.3412, 0.3451, 0.3490]), tensor([0.2275, 0.2314, 0.2353,  ..., 0.3451, 0.3451, 0.3490]), tensor([0.2431, 0.2431, 0.2471,  ..., 0.3451, 0.3451, 0.3490]), tensor([0.2431, 0.2431, 0.2431,  ..., 0.3451, 0.3451, 0.3490]), tensor([0.2431, 0.2431, 0.2392,  ..., 0.3451, 0.3490, 0.3490]), tensor([0.2431, 0.2392, 0.2353,  ..., 0.3373, 0.3373, 0.3412]), tensor([0.2353, 0.2353, 0.2314,  ..., 0.3137, 0.3137, 0.3176]), tensor([0.2275, 0.2235, 0.2196,  ..., 0.2863, 0.2863, 0.2863]), tensor([0.2157, 0.2157, 0.2157,  ..., 0.2784, 0.2784, 0.2745]), tensor([0.2000, 0.2000, 0.2039,  ..., 0.2706, 0.2706, 0.2706]), tensor([0.2078, 0.2078, 0.2078,  ..., 0.2824, 0.2824, 0.2784]), tensor([0.2118, 0.2118, 0.2118,  ..., 0.2941, 0.2941, 0.2941]), tensor([0.2039, 0.2000, 0.1961,  ..., 0.3333, 0.3333, 0.3333]), tensor([0.1922, 0.1882, 0.1882,  ..., 0.3412, 0.3412, 0.3412]), tensor([0.1843, 0.1882, 0.1843,  ..., 0.3451, 0.3451, 0.3451]), tensor([0.1804, 0.1804, 0.1843,  ..., 0.3490, 0.3490, 0.3490]), tensor([0.1843, 0.1882, 0.1922,  ..., 0.3451, 0.3451, 0.3490]), tensor([0.1882, 0.1882, 0.1922,  ..., 0.3451, 0.3451, 0.3451]), tensor([0.1882, 0.1922, 0.2000,  ..., 0.3216, 0.3216, 0.3255]), tensor([0.1961, 0.2000, 0.2078,  ..., 0.3020, 0.3020, 0.3059]), tensor([0.2078, 0.2118, 0.2157,  ..., 0.2824, 0.2863, 0.2863]), tensor([0.2196, 0.2235, 0.2235,  ..., 0.2745, 0.2745, 0.2784]), tensor([0.2235, 0.2275, 0.2275,  ..., 0.2824, 0.2824, 0.2863]), tensor([0.2235, 0.2235, 0.2275,  ..., 0.2784, 0.2824, 0.2824]), tensor([0.2235, 0.2235, 0.2235,  ..., 0.2706, 0.2745, 0.2745]), tensor([0.2235, 0.2235, 0.2235,  ..., 0.2627, 0.2627, 0.2667]), tensor([0.2196, 0.2235, 0.2275,  ..., 0.2588, 0.2627, 0.2627]), tensor([0.2275, 0.2275, 0.2314,  ..., 0.2588, 0.2627, 0.2627]), tensor([0.2314, 0.2275, 0.2353,  ..., 0.2471, 0.2510, 0.2510]), tensor([0.2392, 0.2353, 0.2392,  ..., 0.2353, 0.2353, 0.2392]), tensor([0.2431, 0.2510, 0.2510,  ..., 0.2275, 0.2314, 0.2314]), tensor([0.2510, 0.2549, 0.2549,  ..., 0.2353, 0.2353, 0.2392]), tensor([0.2510, 0.2510, 0.2549,  ..., 0.2431, 0.2471, 0.2471]), tensor([0.2549, 0.2549, 0.2549,  ..., 0.2471, 0.2471, 0.2510]), tensor([0.2510, 0.2510, 0.2510,  ..., 0.2392, 0.2431, 0.2431]), tensor([0.2549, 0.2510, 0.2510,  ..., 0.2353, 0.2392, 0.2392]), tensor([0.2510, 0.2471, 0.2510,  ..., 0.2353, 0.2353, 0.2392]), tensor([0.2510, 0.2510, 0.2549,  ..., 0.2353, 0.2392, 0.2392]), tensor([0.2510, 0.2510, 0.2510,  ..., 0.2431, 0.2471, 0.2471]), tensor([0.2510, 0.2549, 0.2549,  ..., 0.2510, 0.2549, 0.2549]), tensor([0.2549, 0.2510, 0.2588,  ..., 0.2510, 0.2549, 0.2549]), tensor([0.2627, 0.2588, 0.2706,  ..., 0.2510, 0.2549, 0.2549]), tensor([0.2588, 0.2588, 0.2588,  ..., 0.2510, 0.2510, 0.2549]), tensor([0.2667, 0.2745, 0.2745,  ..., 0.2392, 0.2431, 0.2431]), tensor([0.2941, 0.3020, 0.2902,  ..., 0.2275, 0.2314, 0.2314]), tensor([0.2980, 0.2941, 0.2902,  ..., 0.3647, 0.2157, 0.2196]), tensor([0.2863, 0.2902, 0.2902,  ..., 0.3608, 0.3608, 0.3647]), tensor([0.2784, 0.2745, 0.2863,  ..., 0.3490, 0.3490, 0.3529]), tensor([0.2627, 0.2627, 0.2745,  ..., 0.3216, 0.3255, 0.3255]), tensor([0.2588, 0.2667, 0.2745,  ..., 0.3059, 0.3059, 0.3059]), tensor([0.2706, 0.2745, 0.2902,  ..., 0.3176, 0.3176, 0.3176]), tensor([0.2706, 0.2706, 0.2824,  ..., 0.3490, 0.3490, 0.3490]), tensor([0.2667, 0.2706, 0.2706,  ..., 0.3451, 0.3490, 0.3490]), tensor([0.2745, 0.2784, 0.2824,  ..., 0.3412, 0.3451, 0.3451]), tensor([0.2902, 0.2902, 0.2941,  ..., 0.3451, 0.3490, 0.3490]), tensor([0.2980, 0.2941, 0.2902,  ..., 0.3490, 0.3490, 0.3529]), tensor([0.3059, 0.2941, 0.2902,  ..., 0.3412, 0.3451, 0.3451]), tensor([0.2980, 0.2902, 0.2863,  ..., 0.3412, 0.3412, 0.3451]), tensor([0.2784, 0.2784, 0.2784,  ..., 0.3412, 0.3412, 0.3412]), tensor([0.2667, 0.2667, 0.2745,  ..., 0.3412, 0.3412, 0.3451]), tensor([0.2706, 0.2706, 0.2784,  ..., 0.3412, 0.3412, 0.3451]), tensor([0.2784, 0.2745, 0.2745,  ..., 0.3333, 0.3373, 0.3373]), tensor([0.2784, 0.2745, 0.2745,  ..., 0.3333, 0.3333, 0.3373]), tensor([0.2667, 0.2745, 0.2784,  ..., 0.3373, 0.3373, 0.3373]), tensor([0.2745, 0.2824, 0.2863,  ..., 0.3373, 0.3412, 0.3412]), tensor([0.2784, 0.2863, 0.2902,  ..., 0.3294, 0.3333, 0.3333]), tensor([0.2902, 0.2902, 0.2902,  ..., 0.3333, 0.3333, 0.3333]), tensor([0.2863, 0.2824, 0.2784,  ..., 0.3294, 0.3294, 0.3333]), tensor([0.2902, 0.2863, 0.2824,  ..., 0.3255, 0.3255, 0.3255]), tensor([0.2863, 0.2902, 0.2941,  ..., 0.3216, 0.3216, 0.3255]), tensor([0.2902, 0.2902, 0.2941,  ..., 0.3176, 0.3216, 0.3216]), tensor([0.2941, 0.2941, 0.2941,  ..., 0.3176, 0.3216, 0.3216]), tensor([0.2980, 0.2980, 0.3059,  ..., 0.3137, 0.3137, 0.3176]), tensor([0.2863, 0.2941, 0.2941,  ..., 0.2980, 0.2980, 0.2980]), tensor([0.2824, 0.2902, 0.2902,  ..., 0.2784, 0.2824, 0.2824]), tensor([0.2824, 0.2824, 0.2824,  ..., 0.2784, 0.2824, 0.2824]), tensor([0.2784, 0.2745, 0.2784,  ..., 0.2902, 0.2941, 0.2941]), tensor([0.2863, 0.2863, 0.2902,  ..., 0.3020, 0.3020, 0.3020]), tensor([0.2863, 0.2863, 0.2941,  ..., 0.3020, 0.3059, 0.3059]), tensor([0.2588, 0.2627, 0.2667,  ..., 0.3020, 0.3059, 0.3059]), tensor([0.2588, 0.2667, 0.2706,  ..., 0.3059, 0.3059, 0.3059]), tensor([0.2706, 0.2824, 0.2863,  ..., 0.3059, 0.3098, 0.3098]), tensor([0.2863, 0.2902, 0.2941,  ..., 0.3176, 0.3176, 0.3176]), tensor([0.2863, 0.2863, 0.2863,  ..., 0.3216, 0.3216, 0.3216]), tensor([0.2824, 0.2784, 0.2745,  ..., 0.3137, 0.3137, 0.3176]), tensor([0.2824, 0.2824, 0.2824,  ..., 0.3020, 0.3059, 0.3059]), tensor([0.2902, 0.2902, 0.2941,  ..., 0.2980, 0.2980, 0.2980]), tensor([0.2941, 0.2941, 0.2941,  ..., 0.2980, 0.2980, 0.2980]), tensor([0.2902, 0.2863, 0.2824,  ..., 0.2980, 0.2980, 0.2980]), tensor([0.2824, 0.2706, 0.2706,  ..., 0.3020, 0.3020, 0.3059]), tensor([0.2824, 0.2784, 0.2824,  ..., 0.3020, 0.3059, 0.3059]), tensor([0.2941, 0.2941, 0.2941,  ..., 0.3020, 0.3059, 0.3059]), tensor([0.2902, 0.2980, 0.2941,  ..., 0.3098, 0.3098, 0.3098]), tensor([0.2902, 0.2980, 0.2941,  ..., 0.3176, 0.3216, 0.3216]), tensor([0.2784, 0.2824, 0.2824,  ..., 0.3176, 0.3176, 0.3216]), tensor([0.2667, 0.2784, 0.2784,  ..., 0.2980, 0.2980, 0.3020]), tensor([0.2588, 0.2745, 0.2784,  ..., 0.2863, 0.2863, 0.2863]), tensor([0.2745, 0.2824, 0.2784,  ..., 0.2784, 0.2784, 0.2784]), tensor([0.2667, 0.2745, 0.2745,  ..., 0.2941, 0.2941, 0.2941]), tensor([0.2784, 0.2784, 0.2824,  ..., 0.3020, 0.3059, 0.3059]), tensor([0.2902, 0.2902, 0.2902,  ..., 0.2824, 0.2824, 0.2824]), tensor([0.2863, 0.2863, 0.2784,  ..., 0.2627, 0.2627, 0.2627]), tensor([0.2824, 0.2824, 0.2706,  ..., 0.2745, 0.2745, 0.2784]), tensor([0.2863, 0.2824, 0.2784,  ..., 0.2784, 0.2784, 0.2824]), tensor([0.2784, 0.2745, 0.2627,  ..., 0.2863, 0.2863, 0.2863]), tensor([0.2824, 0.2745, 0.2667,  ..., 0.2902, 0.2902, 0.2902]), tensor([0.2745, 0.2745, 0.2667,  ..., 0.2902, 0.2902, 0.2902]), tensor([0.2706, 0.2745, 0.2706,  ..., 0.3804, 0.2784, 0.2824]), tensor([0.2706, 0.2745, 0.2667,  ..., 0.3725, 0.3765, 0.2863]), tensor([0.2784, 0.2706, 0.2627,  ..., 0.3647, 0.3647, 0.3647]), tensor([0.2784, 0.2627, 0.2627,  ..., 0.3608, 0.3647, 0.3647]), tensor([0.2706, 0.2667, 0.2706,  ..., 0.3608, 0.3608, 0.3608]), tensor([0.2745, 0.2745, 0.2706,  ..., 0.3490, 0.3490, 0.3490]), tensor([0.2824, 0.2824, 0.2745,  ..., 0.3451, 0.3451, 0.3490]), tensor([0.2784, 0.2784, 0.2745,  ..., 0.3490, 0.3490, 0.3490]), tensor([0.2667, 0.2706, 0.2706,  ..., 0.3490, 0.3490, 0.3490]), tensor([0.2627, 0.2706, 0.2745,  ..., 0.3451, 0.3451, 0.3451]), tensor([0.2745, 0.2824, 0.2863,  ..., 0.3412, 0.3451, 0.3451]), tensor([0.2784, 0.2824, 0.2824,  ..., 0.3451, 0.3451, 0.3451]), tensor([0.2706, 0.2745, 0.2745,  ..., 0.3451, 0.3451, 0.3490]), tensor([0.2667, 0.2667, 0.2706,  ..., 0.3490, 0.3490, 0.3490]), tensor([0.2667, 0.2627, 0.2667,  ..., 0.3451, 0.3490, 0.3490]), tensor([0.2706, 0.2706, 0.2706,  ..., 0.3412, 0.3412, 0.3451]), tensor([0.2667, 0.2667, 0.2706,  ..., 0.3412, 0.3412, 0.3412]), tensor([0.2588, 0.2627, 0.2667,  ..., 0.3412, 0.3412, 0.3412]), tensor([0.2471, 0.2510, 0.2549,  ..., 0.3412, 0.3412, 0.3412]), tensor([0.2549, 0.2588, 0.2627,  ..., 0.3373, 0.3412, 0.3412]), tensor([0.2549, 0.2549, 0.2588,  ..., 0.3412, 0.3412, 0.3451]), tensor([0.2510, 0.2549, 0.2588,  ..., 0.3490, 0.3490, 0.3490]), tensor([0.2588, 0.2667, 0.2667,  ..., 0.3451, 0.3451, 0.3490]), tensor([0.2667, 0.2667, 0.2667,  ..., 0.3333, 0.3333, 0.3333]), tensor([0.2706, 0.2667, 0.2588,  ..., 0.3294, 0.3294, 0.3294]), tensor([0.2706, 0.2627, 0.2588,  ..., 0.3255, 0.3294, 0.3294]), tensor([0.2588, 0.2549, 0.2627,  ..., 0.3255, 0.3255, 0.3255]), tensor([0.2627, 0.2667, 0.2667,  ..., 0.3176, 0.3176, 0.3176]), tensor([0.2667, 0.2627, 0.2588,  ..., 0.3137, 0.3137, 0.3137]), tensor([0.2588, 0.2588, 0.2549,  ..., 0.3098, 0.3098, 0.3098]), tensor([0.2549, 0.2549, 0.2549,  ..., 0.3176, 0.3176, 0.3176]), tensor([0.2627, 0.2588, 0.2549,  ..., 0.3216, 0.3216, 0.3255]), tensor([0.2549, 0.2431, 0.2471,  ..., 0.3216, 0.3216, 0.3216]), tensor([0.2471, 0.2510, 0.2471,  ..., 0.3098, 0.3098, 0.3137]), tensor([0.2431, 0.2471, 0.2510,  ..., 0.3176, 0.3176, 0.3176]), tensor([0.2392, 0.2431, 0.2471,  ..., 0.3098, 0.3137, 0.3137]), tensor([0.2392, 0.2431, 0.2510,  ..., 0.3176, 0.3176, 0.3176]), tensor([0.2392, 0.2392, 0.2471,  ..., 0.3137, 0.3137, 0.3137]), tensor([0.2353, 0.2392, 0.2392,  ..., 0.3059, 0.3098, 0.3098]), tensor([0.2353, 0.2431, 0.2431,  ..., 0.3020, 0.3020, 0.3059]), tensor([0.2392, 0.2510, 0.2549,  ..., 0.3098, 0.3098, 0.3098]), tensor([0.2510, 0.2549, 0.2588,  ..., 0.3098, 0.3098, 0.3137]), tensor([0.2627, 0.2627, 0.2627,  ..., 0.3020, 0.3059, 0.3059]), tensor([0.2549, 0.2588, 0.2588,  ..., 0.2980, 0.3020, 0.3020]), tensor([0.2471, 0.2510, 0.2549,  ..., 0.3059, 0.3059, 0.3098]), tensor([0.2392, 0.2431, 0.2510,  ..., 0.3020, 0.3020, 0.3020]), tensor([0.2353, 0.2392, 0.2471,  ..., 0.2902, 0.2902, 0.2941]), tensor([0.2431, 0.2392, 0.2431,  ..., 0.2863, 0.2863, 0.2863]), tensor([0.2471, 0.2471, 0.2549,  ..., 0.2902, 0.2941, 0.2941]), tensor([0.2510, 0.2588, 0.2588,  ..., 0.2941, 0.2941, 0.2980]), tensor([0.2588, 0.2667, 0.2706,  ..., 0.2863, 0.2863, 0.2863]), tensor([0.2627, 0.2667, 0.2745,  ..., 0.2784, 0.2824, 0.2824]), tensor([0.2667, 0.2667, 0.2706,  ..., 0.2824, 0.2863, 0.2863]), tensor([0.2745, 0.2667, 0.2667,  ..., 0.2863, 0.2863, 0.2863]), tensor([0.2627, 0.2627, 0.2627,  ..., 0.2784, 0.2784, 0.2824]), tensor([0.2588, 0.2667, 0.2667,  ..., 0.2745, 0.2745, 0.2745]), tensor([0.2784, 0.2784, 0.2784,  ..., 0.2667, 0.2667, 0.2706]), tensor([0.2706, 0.2667, 0.2627,  ..., 0.2627, 0.2667, 0.2667]), tensor([0.2627, 0.2588, 0.2549,  ..., 0.2627, 0.2667, 0.2667]), tensor([0.2510, 0.2588, 0.2588,  ..., 0.2549, 0.2588, 0.2588]), tensor([0.2510, 0.2549, 0.2627,  ..., 0.2431, 0.2471, 0.2471]), tensor([0.2588, 0.2549, 0.2471,  ..., 0.2510, 0.2510, 0.2510]), tensor([0.2510, 0.2510, 0.2471,  ..., 0.2588, 0.2588, 0.2588]), tensor([0.2510, 0.2549, 0.2549,  ..., 0.3333, 0.2627, 0.2627]), tensor([0.2549, 0.2549, 0.2549,  ..., 0.3294, 0.3294, 0.3294]), tensor([0.2549, 0.2510, 0.2471,  ..., 0.3333, 0.3373, 0.3373]), tensor([0.2588, 0.2549, 0.2549,  ..., 0.3451, 0.3451, 0.3451]), tensor([0.2627, 0.2627, 0.2706,  ..., 0.3490, 0.3490, 0.3490]), tensor([0.2667, 0.2706, 0.2784,  ..., 0.3451, 0.3490, 0.3490]), tensor([0.2706, 0.2745, 0.2784,  ..., 0.3529, 0.3529, 0.3529]), tensor([0.2667, 0.2706, 0.2745,  ..., 0.3490, 0.3490, 0.3490]), tensor([0.2667, 0.2667, 0.2667,  ..., 0.3333, 0.3373, 0.3373]), tensor([0.2745, 0.2706, 0.2667,  ..., 0.3216, 0.3216, 0.3216]), tensor([0.2667, 0.2627, 0.2627,  ..., 0.3176, 0.3216, 0.3216]), tensor([0.2549, 0.2588, 0.2588,  ..., 0.3216, 0.3255, 0.3255]), tensor([0.2510, 0.2549, 0.2549,  ..., 0.3137, 0.3137, 0.3176]), tensor([0.2471, 0.2510, 0.2510,  ..., 0.3098, 0.3137, 0.3137]), tensor([0.2510, 0.2510, 0.2706,  ..., 0.3059, 0.3098, 0.3098]), tensor([0.2667, 0.2745, 0.2824,  ..., 0.3020, 0.3020, 0.3020]), tensor([0.2706, 0.2627, 0.2667,  ..., 0.3020, 0.3059, 0.3059]), tensor([0.2510, 0.2510, 0.2510,  ..., 0.3020, 0.3020, 0.3059]), tensor([0.2510, 0.2471, 0.2510,  ..., 0.3020, 0.3020, 0.3059]), tensor([0.2510, 0.2510, 0.2549,  ..., 0.3020, 0.3059, 0.3059]), tensor([0.2588, 0.2588, 0.2588,  ..., 0.3059, 0.3059, 0.3059]), tensor([0.2510, 0.2588, 0.2549,  ..., 0.2980, 0.3020, 0.3020]), tensor([0.2471, 0.2510, 0.2510,  ..., 0.2941, 0.2941, 0.2941]), tensor([0.2431, 0.2510, 0.2471,  ..., 0.2980, 0.2980, 0.2980]), tensor([0.2471, 0.2510, 0.2627,  ..., 0.2941, 0.2941, 0.2941]), tensor([0.2745, 0.2902, 0.2863,  ..., 0.2941, 0.2941, 0.2941]), tensor([0.2941, 0.2902, 0.2902,  ..., 0.2980, 0.2980, 0.2980]), tensor([0.2745, 0.2706, 0.2471,  ..., 0.3020, 0.3020, 0.3059]), tensor([0.2627, 0.2667, 0.2706,  ..., 0.3020, 0.3020, 0.3020]), tensor([0.2549, 0.2745, 0.2706,  ..., 0.3020, 0.3020, 0.3020]), tensor([0.2510, 0.2667, 0.2667,  ..., 0.2941, 0.2980, 0.2980]), tensor([0.2471, 0.2549, 0.2549,  ..., 0.2941, 0.2980, 0.2980]), tensor([0.2510, 0.2549, 0.2588,  ..., 0.3059, 0.3059, 0.3059]), tensor([0.2549, 0.2549, 0.2588,  ..., 0.3020, 0.3059, 0.3059]), tensor([0.2667, 0.2706, 0.2667,  ..., 0.2902, 0.2941, 0.2941]), tensor([0.2667, 0.2667, 0.2627,  ..., 0.2902, 0.2902, 0.2902]), tensor([0.2588, 0.2588, 0.2588,  ..., 0.2941, 0.2941, 0.2980]), tensor([0.2549, 0.2549, 0.2588,  ..., 0.2863, 0.2902, 0.2902]), tensor([0.2627, 0.2627, 0.2667,  ..., 0.2667, 0.2667, 0.2667]), tensor([0.2667, 0.2667, 0.2667,  ..., 0.2431, 0.2431, 0.2431]), tensor([0.2627, 0.2667, 0.2706,  ..., 0.2353, 0.2353, 0.2353]), tensor([0.2667, 0.2706, 0.2706,  ..., 0.2431, 0.2431, 0.2431]), tensor([0.2745, 0.2745, 0.2745,  ..., 0.2510, 0.2510, 0.2510]), tensor([0.2745, 0.2745, 0.2706,  ..., 0.2588, 0.2588, 0.2588]), tensor([0.2667, 0.2667, 0.2627,  ..., 0.2706, 0.2706, 0.2706]), tensor([0.2667, 0.2627, 0.2627,  ..., 0.2784, 0.2784, 0.2824]), tensor([0.2706, 0.2667, 0.2627,  ..., 0.2784, 0.2824, 0.2824]), tensor([0.2588, 0.2588, 0.2588,  ..., 0.2824, 0.2863, 0.2863]), tensor([0.2471, 0.2549, 0.2627,  ..., 0.2863, 0.2863, 0.2863]), tensor([0.2588, 0.2667, 0.2784,  ..., 0.2784, 0.2824, 0.2824]), tensor([0.2667, 0.2745, 0.2745,  ..., 0.2784, 0.2784, 0.2784]), tensor([0.2706, 0.2745, 0.2745,  ..., 0.2706, 0.2745, 0.2745]), tensor([0.2706, 0.2588, 0.2549,  ..., 0.2706, 0.2706, 0.2745]), tensor([0.2627, 0.2510, 0.2471,  ..., 0.2706, 0.2706, 0.2706]), tensor([0.2510, 0.2471, 0.2471,  ..., 0.2667, 0.2706, 0.2706]), tensor([0.2549, 0.2510, 0.2471,  ..., 0.2706, 0.2706, 0.2745]), tensor([0.2627, 0.2588, 0.2549,  ..., 0.2588, 0.2588, 0.2627]), tensor([0.2667, 0.2706, 0.2667,  ..., 0.2706, 0.2706, 0.2706]), tensor([0.2627, 0.2627, 0.2588,  ..., 0.2667, 0.2667, 0.2706]), tensor([0.2588, 0.2627, 0.2667,  ..., 0.2627, 0.2627, 0.2627]), tensor([0.2549, 0.2588, 0.2706,  ..., 0.2549, 0.2549, 0.2588]), tensor([0.2588, 0.2588, 0.2667,  ..., 0.2588, 0.2588, 0.2588]), tensor([0.2627, 0.2667, 0.2706,  ..., 0.2471, 0.2510, 0.2510]), tensor([0.2667, 0.2706, 0.2745,  ..., 0.3333, 0.3333, 0.2431]), tensor([0.2627, 0.2588, 0.2667,  ..., 0.3294, 0.3333, 0.3333]), tensor([0.2667, 0.2706, 0.2745,  ..., 0.3333, 0.3333, 0.3333]), tensor([0.2706, 0.2706, 0.2784,  ..., 0.3373, 0.3373, 0.3373]), tensor([0.2706, 0.2627, 0.2627,  ..., 0.3294, 0.3294, 0.3294]), tensor([0.2667, 0.2627, 0.2510,  ..., 0.3294, 0.3294, 0.3294]), tensor([0.2627, 0.2588, 0.2549,  ..., 0.3255, 0.3255, 0.3255]), tensor([0.2549, 0.2588, 0.2667,  ..., 0.3216, 0.3216, 0.3255]), tensor([0.2549, 0.2627, 0.2745,  ..., 0.3137, 0.3137, 0.3176]), tensor([0.2667, 0.2784, 0.2863,  ..., 0.3020, 0.3020, 0.3020]), tensor([0.2745, 0.2863, 0.2863,  ..., 0.2745, 0.2784, 0.2784]), tensor([0.2784, 0.2863, 0.2863,  ..., 0.2667, 0.2667, 0.2667]), tensor([0.2784, 0.2784, 0.2784,  ..., 0.2471, 0.2471, 0.2471]), tensor([0.2706, 0.2745, 0.2784,  ..., 0.2392, 0.2392, 0.2392]), tensor([0.2784, 0.2824, 0.2824,  ..., 0.2392, 0.2392, 0.2392]), tensor([0.2784, 0.2824, 0.2824,  ..., 0.2392, 0.2392, 0.2392]), tensor([0.2667, 0.2627, 0.2745,  ..., 0.2431, 0.2431, 0.2431]), tensor([0.2745, 0.2784, 0.2745,  ..., 0.2471, 0.2471, 0.2471]), tensor([0.2824, 0.2784, 0.2706,  ..., 0.2510, 0.2510, 0.2510]), tensor([0.2941, 0.2902, 0.2824,  ..., 0.2510, 0.2510, 0.2510]), tensor([0.2902, 0.2902, 0.2863,  ..., 0.2549, 0.2549, 0.2549]), tensor([0.2784, 0.2863, 0.2824,  ..., 0.2667, 0.2667, 0.2667]), tensor([0.2667, 0.2706, 0.2667,  ..., 0.2745, 0.2745, 0.2745]), tensor([0.2667, 0.2667, 0.2667,  ..., 0.2824, 0.2824, 0.2824]), tensor([0.2667, 0.2627, 0.2588,  ..., 0.2863, 0.2863, 0.2863]), tensor([0.2627, 0.2627, 0.2627,  ..., 0.2863, 0.2863, 0.2863]), tensor([0.2627, 0.2627, 0.2627,  ..., 0.2863, 0.2863, 0.2863]), tensor([0.2706, 0.2706, 0.2667,  ..., 0.2824, 0.2824, 0.2824]), tensor([0.2745, 0.2745, 0.2745,  ..., 0.2824, 0.2824, 0.2824]), tensor([0.2863, 0.2745, 0.2667,  ..., 0.2745, 0.2745, 0.2784]), tensor([0.2902, 0.2824, 0.2706,  ..., 0.2745, 0.2745, 0.2745]), tensor([0.2902, 0.2941, 0.2824,  ..., 0.2745, 0.2745, 0.2784]), tensor([0.2745, 0.2745, 0.2824,  ..., 0.2706, 0.2706, 0.2745]), tensor([0.2627, 0.2706, 0.2706,  ..., 0.2667, 0.2667, 0.2667]), tensor([0.2667, 0.2706, 0.2667,  ..., 0.2549, 0.2588, 0.2588]), tensor([0.2706, 0.2667, 0.2588,  ..., 0.2667, 0.2667, 0.2667]), tensor([0.2667, 0.2627, 0.2549,  ..., 0.2667, 0.2667, 0.2667]), tensor([0.2627, 0.2588, 0.2588,  ..., 0.2588, 0.2588, 0.2588]), tensor([0.2549, 0.2549, 0.2549,  ..., 0.2549, 0.2549, 0.2549]), tensor([0.2510, 0.2471, 0.2471,  ..., 0.2627, 0.2627, 0.2627]), tensor([0.2588, 0.2471, 0.2471,  ..., 0.2627, 0.2627, 0.2627]), tensor([0.2627, 0.2510, 0.2510,  ..., 0.2667, 0.2706, 0.2706]), tensor([0.2667, 0.2588, 0.2549,  ..., 0.2706, 0.2706, 0.2706]), tensor([0.2667, 0.2588, 0.2549,  ..., 0.2706, 0.2706, 0.2706]), tensor([0.2588, 0.2510, 0.2510,  ..., 0.2627, 0.2627, 0.2627]), tensor([0.2471, 0.2510, 0.2588,  ..., 0.2667, 0.2706, 0.2706]), tensor([0.2510, 0.2549, 0.2549,  ..., 0.2588, 0.2588, 0.2588]), tensor([0.2549, 0.2549, 0.2431,  ..., 0.2588, 0.2588, 0.2588]), tensor([0.2510, 0.2431, 0.2431,  ..., 0.2471, 0.2471, 0.2510]), tensor([0.2392, 0.2353, 0.2392,  ..., 0.2549, 0.2549, 0.2549]), tensor([0.2471, 0.2431, 0.2431,  ..., 0.2588, 0.2627, 0.2627]), tensor([0.2588, 0.2471, 0.2353,  ..., 0.2588, 0.2588, 0.2588]), tensor([0.2627, 0.2510, 0.2588,  ..., 0.2627, 0.2627, 0.2627]), tensor([0.2510, 0.2627, 0.2627,  ..., 0.2706, 0.2706, 0.2706]), tensor([0.2588, 0.2745, 0.2706,  ..., 0.2745, 0.2745, 0.2745]), tensor([0.2588, 0.2549, 0.2510,  ..., 0.2706, 0.2706, 0.2706]), tensor([0.2510, 0.2471, 0.2471,  ..., 0.2588, 0.2588, 0.2588]), tensor([0.2471, 0.2431, 0.2392,  ..., 0.2549, 0.2549, 0.2549]), tensor([0.2549, 0.2471, 0.2510,  ..., 0.2588, 0.2588, 0.2588]), tensor([0.2627, 0.2627, 0.2627,  ..., 0.2784, 0.2784, 0.2784]), tensor([0.2588, 0.2588, 0.2588,  ..., 0.2784, 0.2784, 0.2784]), tensor([0.2510, 0.2510, 0.2510,  ..., 0.2706, 0.2706, 0.2706]), tensor([0.2627, 0.2549, 0.2588,  ..., 0.2980, 0.2549, 0.2549]), tensor([0.2549, 0.2549, 0.2549,  ..., 0.2941, 0.2980, 0.2980]), tensor([0.2471, 0.2549, 0.2588,  ..., 0.2941, 0.2941, 0.2941]), tensor([0.2627, 0.2706, 0.2745,  ..., 0.2902, 0.2902, 0.2902]), tensor([0.2863, 0.2863, 0.2863,  ..., 0.2824, 0.2863, 0.2863]), tensor([0.2902, 0.2824, 0.2784,  ..., 0.2824, 0.2824, 0.2824]), tensor([0.2706, 0.2667, 0.2667,  ..., 0.2863, 0.2863, 0.2863]), tensor([0.2549, 0.2588, 0.2588,  ..., 0.2863, 0.2863, 0.2863]), tensor([0.2588, 0.2706, 0.2745,  ..., 0.2863, 0.2863, 0.2863]), tensor([0.2784, 0.2863, 0.2863,  ..., 0.2784, 0.2784, 0.2784]), tensor([0.2863, 0.2863, 0.2824,  ..., 0.2745, 0.2745, 0.2745]), tensor([0.2745, 0.2745, 0.2784,  ..., 0.2745, 0.2745, 0.2745]), tensor([0.2784, 0.2824, 0.2824,  ..., 0.2745, 0.2745, 0.2745]), tensor([0.3020, 0.3020, 0.3059,  ..., 0.2784, 0.2784, 0.2784]), tensor([0.3176, 0.3176, 0.3137,  ..., 0.2745, 0.2745, 0.2745]), tensor([0.3255, 0.3216, 0.3176,  ..., 0.2745, 0.2745, 0.2745]), tensor([0.3255, 0.3216, 0.3098,  ..., 0.2706, 0.2706, 0.2706]), tensor([0.3333, 0.3176, 0.3098,  ..., 0.2667, 0.2667, 0.2706]), tensor([0.3098, 0.2980, 0.2824,  ..., 0.2706, 0.2706, 0.2706]), tensor([0.2863, 0.2706, 0.2667,  ..., 0.2706, 0.2706, 0.2706]), tensor([0.2588, 0.2549, 0.2510,  ..., 0.2745, 0.2745, 0.2745]), tensor([0.2667, 0.2627, 0.2667,  ..., 0.2745, 0.2745, 0.2745]), tensor([0.2745, 0.2824, 0.2824,  ..., 0.2706, 0.2706, 0.2706]), tensor([0.2824, 0.2863, 0.2863,  ..., 0.2745, 0.2745, 0.2745]), tensor([0.2824, 0.2863, 0.2863,  ..., 0.2784, 0.2784, 0.2784]), tensor([0.2824, 0.2863, 0.2863,  ..., 0.2784, 0.2784, 0.2784]), tensor([0.2824, 0.2863, 0.2863,  ..., 0.2784, 0.2784, 0.2784]), tensor([0.2824, 0.2863, 0.2863,  ..., 0.2745, 0.2745, 0.2745]), tensor([0.2824, 0.2863, 0.2863,  ..., 0.2706, 0.2706, 0.2706]), tensor([0.2824, 0.2863, 0.2863,  ..., 0.2706, 0.2706, 0.2706]), tensor([0.2824, 0.2863, 0.2863,  ..., 0.2706, 0.2706, 0.2706]), tensor([0.2824, 0.2863, 0.2863,  ..., 0.2745, 0.2745, 0.2745]), tensor([0.2824, 0.2863, 0.2863,  ..., 0.2745, 0.2745, 0.2745]), tensor([0.2824, 0.2863, 0.2863,  ..., 0.2745, 0.2745, 0.2745]), tensor([0.2824, 0.2863, 0.2863,  ..., 0.2784, 0.2784, 0.2784]), tensor([0.2824, 0.2863, 0.2863,  ..., 0.2784, 0.2784, 0.2784]), tensor([0.2824, 0.2863, 0.2863,  ..., 0.2784, 0.2784, 0.2784]), tensor([0.2824, 0.2863, 0.2863,  ..., 0.2667, 0.2706, 0.2706]), tensor([0.2824, 0.2863, 0.2863,  ..., 0.2627, 0.2627, 0.2627]), tensor([0.2824, 0.2863, 0.2863,  ..., 0.2627, 0.2627, 0.2627]), tensor([0.2824, 0.2863, 0.2902,  ..., 0.2706, 0.2706, 0.2706]), tensor([0.2824, 0.2863, 0.2902,  ..., 0.2706, 0.2706, 0.2706]), tensor([0.2824, 0.2863, 0.2902,  ..., 0.2745, 0.2745, 0.2745]), tensor([0.2824, 0.2863, 0.2902,  ..., 0.2745, 0.2745, 0.2745]), tensor([0.2824, 0.2863, 0.2902,  ..., 0.2706, 0.2706, 0.2706]), tensor([0.2824, 0.2863, 0.2902,  ..., 0.2745, 0.2745, 0.2745]), tensor([0.2824, 0.2863, 0.2902,  ..., 0.2784, 0.2784, 0.2784]), tensor([0.2824, 0.2824, 0.2902,  ..., 0.2706, 0.2706, 0.2706]), tensor([0.2824, 0.2824, 0.2902,  ..., 0.2627, 0.2627, 0.2627]), tensor([0.2863, 0.2824, 0.2902,  ..., 0.2627, 0.2627, 0.2627]), tensor([0.2863, 0.2824, 0.2902,  ..., 0.2706, 0.2706, 0.2706]), tensor([0.2863, 0.2824, 0.2902,  ..., 0.2706, 0.2706, 0.2706]), tensor([0.2863, 0.2824, 0.2902,  ..., 0.2667, 0.2667, 0.2667]), tensor([0.2863, 0.2824, 0.2902,  ..., 0.2706, 0.2706, 0.2706]), tensor([0.2863, 0.2824, 0.2902,  ..., 0.2745, 0.2745, 0.2745]), tensor([0.2863, 0.2824, 0.2902,  ..., 0.2784, 0.2784, 0.2784]), tensor([0.2863, 0.2824, 0.2902,  ..., 0.2824, 0.2824, 0.2784]), tensor([0.2863, 0.2824, 0.2902,  ..., 0.2980, 0.2941, 0.2941]), tensor([0.2863, 0.2824, 0.2902,  ..., 0.3020, 0.3020, 0.2980]), tensor([0.2863, 0.2824, 0.2902,  ..., 0.2863, 0.2863, 0.2863]), tensor([0.2863, 0.2863, 0.2902,  ..., 0.2627, 0.2627, 0.2627]), tensor([0.2863, 0.2863, 0.2902,  ..., 0.1843, 0.2627, 0.2627]), tensor([0.2863, 0.2863, 0.2902,  ..., 0.1882, 0.1882, 0.1882]))"
     ]
    }
   ],
   "source": [
    "for i, (img, mask) in enumerate(dataloader):\n",
    "    dick = np.load('labels.npy',allow_pickle='TRUE').item()\n",
    "    new_mask=np.zeros((256, 256, 30))\n",
    "    \n",
    "    \n",
    "    break\n",
    "    "
   ]
  },
  {
   "cell_type": "code",
   "execution_count": 96,
   "metadata": {},
   "outputs": [
    {
     "ename": "TypeError",
     "evalue": "default_collate: batch must contain tensors, numpy arrays, numbers, dicts or lists; found <class 'PIL.PngImagePlugin.PngImageFile'>",
     "output_type": "error",
     "traceback": [
      "\u001b[0;31m---------------------------------------------------------------------------\u001b[0m",
      "\u001b[0;31mTypeError\u001b[0m                                 Traceback (most recent call last)",
      "\u001b[1;32m/Users/ashwindaswani/Desktop/pcs/PCS-FUDA/triual.ipynb Cell 7\u001b[0m in \u001b[0;36m<cell line: 1>\u001b[0;34m()\u001b[0m\n\u001b[0;32m----> <a href='vscode-notebook-cell:/Users/ashwindaswani/Desktop/pcs/PCS-FUDA/triual.ipynb#Y120sZmlsZQ%3D%3D?line=0'>1</a>\u001b[0m \u001b[39mfor\u001b[39;00m i, (image, mask) \u001b[39min\u001b[39;00m \u001b[39menumerate\u001b[39m(dataloader):\n\u001b[1;32m      <a href='vscode-notebook-cell:/Users/ashwindaswani/Desktop/pcs/PCS-FUDA/triual.ipynb#Y120sZmlsZQ%3D%3D?line=1'>2</a>\u001b[0m     \u001b[39mprint\u001b[39m(image\u001b[39m.\u001b[39mshape)\n\u001b[1;32m      <a href='vscode-notebook-cell:/Users/ashwindaswani/Desktop/pcs/PCS-FUDA/triual.ipynb#Y120sZmlsZQ%3D%3D?line=2'>3</a>\u001b[0m     \u001b[39mprint\u001b[39m(mask\u001b[39m.\u001b[39mshape)\n",
      "File \u001b[0;32m~/opt/anaconda3/lib/python3.9/site-packages/torch/utils/data/dataloader.py:628\u001b[0m, in \u001b[0;36m_BaseDataLoaderIter.__next__\u001b[0;34m(self)\u001b[0m\n\u001b[1;32m    625\u001b[0m \u001b[39mif\u001b[39;00m \u001b[39mself\u001b[39m\u001b[39m.\u001b[39m_sampler_iter \u001b[39mis\u001b[39;00m \u001b[39mNone\u001b[39;00m:\n\u001b[1;32m    626\u001b[0m     \u001b[39m# TODO(https://github.com/pytorch/pytorch/issues/76750)\u001b[39;00m\n\u001b[1;32m    627\u001b[0m     \u001b[39mself\u001b[39m\u001b[39m.\u001b[39m_reset()  \u001b[39m# type: ignore[call-arg]\u001b[39;00m\n\u001b[0;32m--> 628\u001b[0m data \u001b[39m=\u001b[39m \u001b[39mself\u001b[39;49m\u001b[39m.\u001b[39;49m_next_data()\n\u001b[1;32m    629\u001b[0m \u001b[39mself\u001b[39m\u001b[39m.\u001b[39m_num_yielded \u001b[39m+\u001b[39m\u001b[39m=\u001b[39m \u001b[39m1\u001b[39m\n\u001b[1;32m    630\u001b[0m \u001b[39mif\u001b[39;00m \u001b[39mself\u001b[39m\u001b[39m.\u001b[39m_dataset_kind \u001b[39m==\u001b[39m _DatasetKind\u001b[39m.\u001b[39mIterable \u001b[39mand\u001b[39;00m \\\n\u001b[1;32m    631\u001b[0m         \u001b[39mself\u001b[39m\u001b[39m.\u001b[39m_IterableDataset_len_called \u001b[39mis\u001b[39;00m \u001b[39mnot\u001b[39;00m \u001b[39mNone\u001b[39;00m \u001b[39mand\u001b[39;00m \\\n\u001b[1;32m    632\u001b[0m         \u001b[39mself\u001b[39m\u001b[39m.\u001b[39m_num_yielded \u001b[39m>\u001b[39m \u001b[39mself\u001b[39m\u001b[39m.\u001b[39m_IterableDataset_len_called:\n",
      "File \u001b[0;32m~/opt/anaconda3/lib/python3.9/site-packages/torch/utils/data/dataloader.py:671\u001b[0m, in \u001b[0;36m_SingleProcessDataLoaderIter._next_data\u001b[0;34m(self)\u001b[0m\n\u001b[1;32m    669\u001b[0m \u001b[39mdef\u001b[39;00m \u001b[39m_next_data\u001b[39m(\u001b[39mself\u001b[39m):\n\u001b[1;32m    670\u001b[0m     index \u001b[39m=\u001b[39m \u001b[39mself\u001b[39m\u001b[39m.\u001b[39m_next_index()  \u001b[39m# may raise StopIteration\u001b[39;00m\n\u001b[0;32m--> 671\u001b[0m     data \u001b[39m=\u001b[39m \u001b[39mself\u001b[39;49m\u001b[39m.\u001b[39;49m_dataset_fetcher\u001b[39m.\u001b[39;49mfetch(index)  \u001b[39m# may raise StopIteration\u001b[39;00m\n\u001b[1;32m    672\u001b[0m     \u001b[39mif\u001b[39;00m \u001b[39mself\u001b[39m\u001b[39m.\u001b[39m_pin_memory:\n\u001b[1;32m    673\u001b[0m         data \u001b[39m=\u001b[39m _utils\u001b[39m.\u001b[39mpin_memory\u001b[39m.\u001b[39mpin_memory(data, \u001b[39mself\u001b[39m\u001b[39m.\u001b[39m_pin_memory_device)\n",
      "File \u001b[0;32m~/opt/anaconda3/lib/python3.9/site-packages/torch/utils/data/_utils/fetch.py:61\u001b[0m, in \u001b[0;36m_MapDatasetFetcher.fetch\u001b[0;34m(self, possibly_batched_index)\u001b[0m\n\u001b[1;32m     59\u001b[0m \u001b[39melse\u001b[39;00m:\n\u001b[1;32m     60\u001b[0m     data \u001b[39m=\u001b[39m \u001b[39mself\u001b[39m\u001b[39m.\u001b[39mdataset[possibly_batched_index]\n\u001b[0;32m---> 61\u001b[0m \u001b[39mreturn\u001b[39;00m \u001b[39mself\u001b[39;49m\u001b[39m.\u001b[39;49mcollate_fn(data)\n",
      "File \u001b[0;32m~/opt/anaconda3/lib/python3.9/site-packages/torch/utils/data/_utils/collate.py:265\u001b[0m, in \u001b[0;36mdefault_collate\u001b[0;34m(batch)\u001b[0m\n\u001b[1;32m    204\u001b[0m \u001b[39mdef\u001b[39;00m \u001b[39mdefault_collate\u001b[39m(batch):\n\u001b[1;32m    205\u001b[0m     \u001b[39mr\u001b[39m\u001b[39m\"\"\"\u001b[39;00m\n\u001b[1;32m    206\u001b[0m \u001b[39m        Function that takes in a batch of data and puts the elements within the batch\u001b[39;00m\n\u001b[1;32m    207\u001b[0m \u001b[39m        into a tensor with an additional outer dimension - batch size. The exact output type can be\u001b[39;00m\n\u001b[0;32m   (...)\u001b[0m\n\u001b[1;32m    263\u001b[0m \u001b[39m            >>> default_collate(batch)  # Handle `CustomType` automatically\u001b[39;00m\n\u001b[1;32m    264\u001b[0m \u001b[39m    \"\"\"\u001b[39;00m\n\u001b[0;32m--> 265\u001b[0m     \u001b[39mreturn\u001b[39;00m collate(batch, collate_fn_map\u001b[39m=\u001b[39;49mdefault_collate_fn_map)\n",
      "File \u001b[0;32m~/opt/anaconda3/lib/python3.9/site-packages/torch/utils/data/_utils/collate.py:143\u001b[0m, in \u001b[0;36mcollate\u001b[0;34m(batch, collate_fn_map)\u001b[0m\n\u001b[1;32m    140\u001b[0m transposed \u001b[39m=\u001b[39m \u001b[39mlist\u001b[39m(\u001b[39mzip\u001b[39m(\u001b[39m*\u001b[39mbatch))  \u001b[39m# It may be accessed twice, so we use a list.\u001b[39;00m\n\u001b[1;32m    142\u001b[0m \u001b[39mif\u001b[39;00m \u001b[39misinstance\u001b[39m(elem, \u001b[39mtuple\u001b[39m):\n\u001b[0;32m--> 143\u001b[0m     \u001b[39mreturn\u001b[39;00m [collate(samples, collate_fn_map\u001b[39m=\u001b[39mcollate_fn_map) \u001b[39mfor\u001b[39;00m samples \u001b[39min\u001b[39;00m transposed]  \u001b[39m# Backwards compatibility.\u001b[39;00m\n\u001b[1;32m    144\u001b[0m \u001b[39melse\u001b[39;00m:\n\u001b[1;32m    145\u001b[0m     \u001b[39mtry\u001b[39;00m:\n",
      "File \u001b[0;32m~/opt/anaconda3/lib/python3.9/site-packages/torch/utils/data/_utils/collate.py:143\u001b[0m, in \u001b[0;36m<listcomp>\u001b[0;34m(.0)\u001b[0m\n\u001b[1;32m    140\u001b[0m transposed \u001b[39m=\u001b[39m \u001b[39mlist\u001b[39m(\u001b[39mzip\u001b[39m(\u001b[39m*\u001b[39mbatch))  \u001b[39m# It may be accessed twice, so we use a list.\u001b[39;00m\n\u001b[1;32m    142\u001b[0m \u001b[39mif\u001b[39;00m \u001b[39misinstance\u001b[39m(elem, \u001b[39mtuple\u001b[39m):\n\u001b[0;32m--> 143\u001b[0m     \u001b[39mreturn\u001b[39;00m [collate(samples, collate_fn_map\u001b[39m=\u001b[39;49mcollate_fn_map) \u001b[39mfor\u001b[39;00m samples \u001b[39min\u001b[39;00m transposed]  \u001b[39m# Backwards compatibility.\u001b[39;00m\n\u001b[1;32m    144\u001b[0m \u001b[39melse\u001b[39;00m:\n\u001b[1;32m    145\u001b[0m     \u001b[39mtry\u001b[39;00m:\n",
      "File \u001b[0;32m~/opt/anaconda3/lib/python3.9/site-packages/torch/utils/data/_utils/collate.py:151\u001b[0m, in \u001b[0;36mcollate\u001b[0;34m(batch, collate_fn_map)\u001b[0m\n\u001b[1;32m    147\u001b[0m         \u001b[39mexcept\u001b[39;00m \u001b[39mTypeError\u001b[39;00m:\n\u001b[1;32m    148\u001b[0m             \u001b[39m# The sequence type may not support `__init__(iterable)` (e.g., `range`).\u001b[39;00m\n\u001b[1;32m    149\u001b[0m             \u001b[39mreturn\u001b[39;00m [collate(samples, collate_fn_map\u001b[39m=\u001b[39mcollate_fn_map) \u001b[39mfor\u001b[39;00m samples \u001b[39min\u001b[39;00m transposed]\n\u001b[0;32m--> 151\u001b[0m \u001b[39mraise\u001b[39;00m \u001b[39mTypeError\u001b[39;00m(default_collate_err_msg_format\u001b[39m.\u001b[39mformat(elem_type))\n",
      "\u001b[0;31mTypeError\u001b[0m: default_collate: batch must contain tensors, numpy arrays, numbers, dicts or lists; found <class 'PIL.PngImagePlugin.PngImageFile'>"
     ]
    }
   ],
   "source": [
    "for i, (image, mask) in enumerate(dataloader):\n",
    "    print(image.shape)\n",
    "    print(mask.shape)\n",
    "    break"
   ]
  },
  {
   "cell_type": "code",
   "execution_count": 3,
   "metadata": {},
   "outputs": [],
   "source": [
    "def split_dataset():\n",
    "    train_dataset = Cityscapes(root=\"./data\", split=\"train\", mode=\"fine\", transform=transforms.ToTensor(), target_type=\"color\")\n",
    "    val_dataset = Cityscapes(root=\"./data\", split=\"val\", mode=\"fine\", transform=transforms.ToTensor(), target_type=\"color\")\n",
    "    test_dataset = Cityscapes(root=\"./data\", split=\"test\", mode=\"fine\", transform=transforms.ToTensor(), target_type=\"color\")"
   ]
  },
  {
   "cell_type": "code",
   "execution_count": 9,
   "metadata": {},
   "outputs": [
    {
     "data": {
      "text/plain": [
       "(2975, 500, 1525)"
      ]
     },
     "execution_count": 9,
     "metadata": {},
     "output_type": "execute_result"
    }
   ],
   "source": [
    "train_dataset = Cityscapes(root=\"./data\", split=\"train\", mode=\"fine\", transform=transforms.ToTensor(), target_type=\"color\")\n",
    "val_dataset = Cityscapes(root=\"./data\", split=\"val\", mode=\"fine\", transform=transforms.ToTensor(), target_type=\"color\")\n",
    "test_dataset = Cityscapes(root=\"./data\", split=\"test\", mode=\"fine\", transform=transforms.ToTensor(), target_type=\"color\")\n",
    "\n",
    "len(train_dataset), len(val_dataset), len(test_dataset)"
   ]
  },
  {
   "cell_type": "code",
   "execution_count": 2,
   "metadata": {},
   "outputs": [
    {
     "data": {
      "text/plain": [
       "array([81, 12, 21, 37, 70])"
      ]
     },
     "execution_count": 2,
     "metadata": {},
     "output_type": "execute_result"
    }
   ],
   "source": [
    "import numpy as np\n",
    "def create_label_index(dataset_size, percent_labeled=0.05):\n",
    "    return np.random.choice(dataset_size, int(dataset_size * percent_labeled), replace=False)\n",
    "    \n",
    "create_label_index(100, 0.05)"
   ]
  },
  {
   "cell_type": "code",
   "execution_count": 80,
   "metadata": {},
   "outputs": [],
   "source": [
    "# open cityscapes/gtCoarse/train/ and gwt all the color.png files\n",
    "import os\n",
    "masks_path=[]\n",
    "for root, dirs, files in os.walk(\"cityscapes/gtCoarse/test/\"):\n",
    "    for file in files:\n",
    "        if file.endswith(\"color.png\"):\n",
    "             masks_path.append(os.path.join(root, file))\n",
    "             print(os.path.join(root, file))"
   ]
  },
  {
   "cell_type": "code",
   "execution_count": 73,
   "metadata": {},
   "outputs": [
    {
     "data": {
      "text/plain": [
       "{(0, 0, 0): 0,\n",
       " (70, 70, 70): 1,\n",
       " (180, 130, 70): 2,\n",
       " (0, 220, 220): 3,\n",
       " (35, 142, 107): 4,\n",
       " (153, 153, 153): 5,\n",
       " (30, 170, 250): 6,\n",
       " (70, 0, 0): 7,\n",
       " (142, 0, 0): 8,\n",
       " (0, 0, 255): 9,\n",
       " (32, 11, 119): 10,\n",
       " (232, 35, 244): 11,\n",
       " (128, 64, 128): 12,\n",
       " (60, 20, 220): 13,\n",
       " (156, 102, 102): 14,\n",
       " (153, 153, 190): 15,\n",
       " (100, 60, 0): 16,\n",
       " (230, 0, 0): 17,\n",
       " (152, 251, 152): 18,\n",
       " (100, 80, 0): 19,\n",
       " (160, 170, 250): 20,\n",
       " (110, 0, 0): 21,\n",
       " (140, 150, 230): 22,\n",
       " (180, 165, 180): 23,\n",
       " (81, 0, 81): 24,\n",
       " (90, 0, 0): 25,\n",
       " (100, 100, 150): 26,\n",
       " (90, 120, 150): 27}"
      ]
     },
     "execution_count": 73,
     "metadata": {},
     "output_type": "execute_result"
    }
   ],
   "source": [
    "dick"
   ]
  },
  {
   "cell_type": "code",
   "execution_count": 79,
   "metadata": {},
   "outputs": [
    {
     "name": "stdout",
     "output_type": "stream",
     "text": [
      "(1024, 2048, 3)\n",
      "0\n"
     ]
    }
   ],
   "source": [
    "count = 0\n",
    "print(mask.shape)\n",
    "#mask = cv2.resize(mask, (256, 256))\n",
    "s=set()\n",
    "cnt=29\n",
    "for mask_path in masks_path:\n",
    "    mask = cv2.imread(mask_path)\n",
    "    mask = np.array(mask)\n",
    "    for i in range(1024):\n",
    "        for j in range(2048):\n",
    "            if tuple(mask[i][j]) not in dick:\n",
    "                dick[tuple(mask[i][j])]=cnt\n",
    "                cnt+=1\n",
    "                print(cnt)\n",
    "            if cnt==29:\n",
    "                break\n",
    "print(len(s))"
   ]
  },
  {
   "cell_type": "code",
   "execution_count": 70,
   "metadata": {},
   "outputs": [
    {
     "data": {
      "text/plain": [
       "{(0, 0, 0): 0,\n",
       " (70, 70, 70): 1,\n",
       " (180, 130, 70): 2,\n",
       " (0, 220, 220): 3,\n",
       " (35, 142, 107): 4,\n",
       " (153, 153, 153): 5,\n",
       " (30, 170, 250): 6,\n",
       " (70, 0, 0): 7,\n",
       " (142, 0, 0): 8,\n",
       " (0, 0, 255): 9,\n",
       " (32, 11, 119): 10,\n",
       " (232, 35, 244): 11,\n",
       " (128, 64, 128): 12,\n",
       " (60, 20, 220): 13,\n",
       " (156, 102, 102): 14,\n",
       " (153, 153, 190): 15,\n",
       " (100, 60, 0): 16,\n",
       " (230, 0, 0): 17,\n",
       " (152, 251, 152): 18,\n",
       " (100, 80, 0): 19,\n",
       " (160, 170, 250): 20,\n",
       " (110, 0, 0): 21,\n",
       " (140, 150, 230): 22,\n",
       " (180, 165, 180): 23,\n",
       " (81, 0, 81): 24,\n",
       " (90, 0, 0): 25,\n",
       " (100, 100, 150): 26,\n",
       " (90, 120, 150): 27}"
      ]
     },
     "execution_count": 70,
     "metadata": {},
     "output_type": "execute_result"
    }
   ],
   "source": [
    "dick"
   ]
  },
  {
   "cell_type": "code",
   "execution_count": 77,
   "metadata": {},
   "outputs": [],
   "source": [
    "# save dictionary in csv\n",
    "import numpy as np\n",
    "\n",
    "# Save\n",
    "\n",
    "np.save('dick.npy', dick) \n",
    "\n",
    "# Load\n",
    "# read_dictionary = np.load('my_file.npy',allow_pickle='TRUE').item()\n",
    "# print(read_dictionary['hello']) # displays \"world\""
   ]
  },
  {
   "cell_type": "code",
   "execution_count": null,
   "metadata": {},
   "outputs": [],
   "source": [
    "for mask_path in masks_path:\n",
    "    new_mask=np.zeros((1024, 2048, 30))\n",
    "    for i in range(1024):\n",
    "        for j in range(2048):\n",
    "            mask = cv2.imread(mask_path)\n",
    "            mask = np.array(mask)\n",
    "            channel=dick[mask]\n",
    "            new_mask[i][j][channel]= 1"
   ]
  },
  {
   "cell_type": "code",
   "execution_count": 69,
   "metadata": {},
   "outputs": [
    {
     "ename": "RuntimeError",
     "evalue": "non-empty 3D or 4D (batch mode) tensor expected for input",
     "output_type": "error",
     "traceback": [
      "\u001b[0;31m---------------------------------------------------------------------------\u001b[0m",
      "\u001b[0;31mRuntimeError\u001b[0m                              Traceback (most recent call last)",
      "\u001b[1;32m/Users/ashwindaswani/Desktop/pcs/PCS-FUDA/triual.ipynb Cell 12\u001b[0m in \u001b[0;36m<cell line: 10>\u001b[0;34m()\u001b[0m\n\u001b[1;32m      <a href='vscode-notebook-cell:/Users/ashwindaswani/Desktop/pcs/PCS-FUDA/triual.ipynb#Y110sZmlsZQ%3D%3D?line=6'>7</a>\u001b[0m     down \u001b[39m=\u001b[39m m(img)\n\u001b[1;32m      <a href='vscode-notebook-cell:/Users/ashwindaswani/Desktop/pcs/PCS-FUDA/triual.ipynb#Y110sZmlsZQ%3D%3D?line=7'>8</a>\u001b[0m     \u001b[39mprint\u001b[39m(down\u001b[39m.\u001b[39msize())\n\u001b[0;32m---> <a href='vscode-notebook-cell:/Users/ashwindaswani/Desktop/pcs/PCS-FUDA/triual.ipynb#Y110sZmlsZQ%3D%3D?line=9'>10</a>\u001b[0m down_sample(img)\n",
      "\u001b[1;32m/Users/ashwindaswani/Desktop/pcs/PCS-FUDA/triual.ipynb Cell 12\u001b[0m in \u001b[0;36mdown_sample\u001b[0;34m(img)\u001b[0m\n\u001b[1;32m      <a href='vscode-notebook-cell:/Users/ashwindaswani/Desktop/pcs/PCS-FUDA/triual.ipynb#Y110sZmlsZQ%3D%3D?line=5'>6</a>\u001b[0m \u001b[39mdef\u001b[39;00m \u001b[39mdown_sample\u001b[39m(img):\n\u001b[0;32m----> <a href='vscode-notebook-cell:/Users/ashwindaswani/Desktop/pcs/PCS-FUDA/triual.ipynb#Y110sZmlsZQ%3D%3D?line=6'>7</a>\u001b[0m     down \u001b[39m=\u001b[39m m(img)\n\u001b[1;32m      <a href='vscode-notebook-cell:/Users/ashwindaswani/Desktop/pcs/PCS-FUDA/triual.ipynb#Y110sZmlsZQ%3D%3D?line=7'>8</a>\u001b[0m     \u001b[39mprint\u001b[39m(down\u001b[39m.\u001b[39msize())\n",
      "File \u001b[0;32m~/opt/anaconda3/lib/python3.9/site-packages/torch/nn/modules/module.py:1194\u001b[0m, in \u001b[0;36mModule._call_impl\u001b[0;34m(self, *input, **kwargs)\u001b[0m\n\u001b[1;32m   1190\u001b[0m \u001b[39m# If we don't have any hooks, we want to skip the rest of the logic in\u001b[39;00m\n\u001b[1;32m   1191\u001b[0m \u001b[39m# this function, and just call forward.\u001b[39;00m\n\u001b[1;32m   1192\u001b[0m \u001b[39mif\u001b[39;00m \u001b[39mnot\u001b[39;00m (\u001b[39mself\u001b[39m\u001b[39m.\u001b[39m_backward_hooks \u001b[39mor\u001b[39;00m \u001b[39mself\u001b[39m\u001b[39m.\u001b[39m_forward_hooks \u001b[39mor\u001b[39;00m \u001b[39mself\u001b[39m\u001b[39m.\u001b[39m_forward_pre_hooks \u001b[39mor\u001b[39;00m _global_backward_hooks\n\u001b[1;32m   1193\u001b[0m         \u001b[39mor\u001b[39;00m _global_forward_hooks \u001b[39mor\u001b[39;00m _global_forward_pre_hooks):\n\u001b[0;32m-> 1194\u001b[0m     \u001b[39mreturn\u001b[39;00m forward_call(\u001b[39m*\u001b[39;49m\u001b[39minput\u001b[39;49m, \u001b[39m*\u001b[39;49m\u001b[39m*\u001b[39;49mkwargs)\n\u001b[1;32m   1195\u001b[0m \u001b[39m# Do not call functions when jit is used\u001b[39;00m\n\u001b[1;32m   1196\u001b[0m full_backward_hooks, non_full_backward_hooks \u001b[39m=\u001b[39m [], []\n",
      "File \u001b[0;32m~/opt/anaconda3/lib/python3.9/site-packages/torch/nn/modules/pooling.py:166\u001b[0m, in \u001b[0;36mMaxPool2d.forward\u001b[0;34m(self, input)\u001b[0m\n\u001b[1;32m    165\u001b[0m \u001b[39mdef\u001b[39;00m \u001b[39mforward\u001b[39m(\u001b[39mself\u001b[39m, \u001b[39minput\u001b[39m: Tensor):\n\u001b[0;32m--> 166\u001b[0m     \u001b[39mreturn\u001b[39;00m F\u001b[39m.\u001b[39;49mmax_pool2d(\u001b[39minput\u001b[39;49m, \u001b[39mself\u001b[39;49m\u001b[39m.\u001b[39;49mkernel_size, \u001b[39mself\u001b[39;49m\u001b[39m.\u001b[39;49mstride,\n\u001b[1;32m    167\u001b[0m                         \u001b[39mself\u001b[39;49m\u001b[39m.\u001b[39;49mpadding, \u001b[39mself\u001b[39;49m\u001b[39m.\u001b[39;49mdilation, ceil_mode\u001b[39m=\u001b[39;49m\u001b[39mself\u001b[39;49m\u001b[39m.\u001b[39;49mceil_mode,\n\u001b[1;32m    168\u001b[0m                         return_indices\u001b[39m=\u001b[39;49m\u001b[39mself\u001b[39;49m\u001b[39m.\u001b[39;49mreturn_indices)\n",
      "File \u001b[0;32m~/opt/anaconda3/lib/python3.9/site-packages/torch/_jit_internal.py:485\u001b[0m, in \u001b[0;36mboolean_dispatch.<locals>.fn\u001b[0;34m(*args, **kwargs)\u001b[0m\n\u001b[1;32m    483\u001b[0m     \u001b[39mreturn\u001b[39;00m if_true(\u001b[39m*\u001b[39margs, \u001b[39m*\u001b[39m\u001b[39m*\u001b[39mkwargs)\n\u001b[1;32m    484\u001b[0m \u001b[39melse\u001b[39;00m:\n\u001b[0;32m--> 485\u001b[0m     \u001b[39mreturn\u001b[39;00m if_false(\u001b[39m*\u001b[39;49margs, \u001b[39m*\u001b[39;49m\u001b[39m*\u001b[39;49mkwargs)\n",
      "File \u001b[0;32m~/opt/anaconda3/lib/python3.9/site-packages/torch/nn/functional.py:782\u001b[0m, in \u001b[0;36m_max_pool2d\u001b[0;34m(input, kernel_size, stride, padding, dilation, ceil_mode, return_indices)\u001b[0m\n\u001b[1;32m    780\u001b[0m \u001b[39mif\u001b[39;00m stride \u001b[39mis\u001b[39;00m \u001b[39mNone\u001b[39;00m:\n\u001b[1;32m    781\u001b[0m     stride \u001b[39m=\u001b[39m torch\u001b[39m.\u001b[39mjit\u001b[39m.\u001b[39mannotate(List[\u001b[39mint\u001b[39m], [])\n\u001b[0;32m--> 782\u001b[0m \u001b[39mreturn\u001b[39;00m torch\u001b[39m.\u001b[39;49mmax_pool2d(\u001b[39minput\u001b[39;49m, kernel_size, stride, padding, dilation, ceil_mode)\n",
      "\u001b[0;31mRuntimeError\u001b[0m: non-empty 3D or 4D (batch mode) tensor expected for input"
     ]
    }
   ],
   "source": [
    "import torch.nn as nn\n",
    "\n",
    "img =torch.zeros(2, 3)\n",
    "m = nn.MaxPool2d(3, stride=2)\n",
    "#function to to downscale a 256x26x3 image to 8x8x3 using max pooing layer\n",
    "def down_sample(img):\n",
    "    down = m(img)\n",
    "    print(down.size())\n",
    "\n",
    "down_sample(img)\n",
    "\n"
   ]
  },
  {
   "cell_type": "code",
   "execution_count": 41,
   "metadata": {},
   "outputs": [
    {
     "name": "stdout",
     "output_type": "stream",
     "text": [
      "(1024, 2048, 3)\n",
      "(8, 8, 3)\n"
     ]
    }
   ],
   "source": [
    "mask = \"cityscapes/gtCoarse/train/aachen/aachen_000000_000019_gtCoarse_color.png\"\n",
    "\n",
    "mask = \"/Users/ashwindaswani/Desktop/pcs/PCS-FUDA/cityscapes/gtCoarse/train/aachen/aachen_000000_000019_gtCoarse_instanceIds.png\"\n",
    "mask = \"/Users/ashwindaswani/Desktop/pcs/PCS-FUDA/cityscapes/gtCoarse/train/aachen/aachen_000000_000019_gtCoarse_labelIds.png\"\n",
    "import cv2\n",
    "\n",
    "def get_classes(mask):\n",
    "    mask = cv2.imread(mask)\n",
    "    mask = np.array(mask)\n",
    "    print(mask.shape)\n",
    "    mask = cv2.resize(mask, (256, 256))\n",
    "    # mask.shape\n",
    "    final=np.zeros((8,8,3))\n",
    "    for i in range(8):\n",
    "        for j in range(8):\n",
    "            new_img = mask[i*32:(i+1)*32, j*32:(j+1)*32]\n",
    "            # find the most frequent color\n",
    "            final[i][j][0] = np.bincount(new_img[:,:,0].flatten()).argmax()\n",
    "            final[i][j][1] = np.bincount(new_img[:,:,1].flatten()).argmax()\n",
    "            final[i][j][2] = np.bincount(new_img[:,:,2].flatten()).argmax()\n",
    "            \n",
    "    cv2.imwrite(\"final.png\", final)\n",
    "    \n",
    "    return final\n",
    "o = get_classes(mask)\n",
    "print(o.shape)"
   ]
  },
  {
   "cell_type": "code",
   "execution_count": 144,
   "metadata": {},
   "outputs": [],
   "source": [
    "X = (8,8,512)\n",
    "y = (8,8,3)"
   ]
  },
  {
   "cell_type": "code",
   "execution_count": 148,
   "metadata": {},
   "outputs": [
    {
     "name": "stdout",
     "output_type": "stream",
     "text": [
      "(1024, 2048, 4)\n"
     ]
    }
   ],
   "source": [
    "img = dataset[1][1]\n",
    "\n",
    "img = np.array(img)\n",
    "print(img.shape)"
   ]
  },
  {
   "cell_type": "code",
   "execution_count": 3,
   "metadata": {},
   "outputs": [
    {
     "ename": "",
     "evalue": "",
     "output_type": "error",
     "traceback": [
      "\u001b[1;31mThe Kernel crashed while executing code in the the current cell or a previous cell. Please review the code in the cell(s) to identify a possible cause of the failure. Click <a href='https://aka.ms/vscodeJupyterKernelCrash'>here</a> for more info. View Jupyter <a href='command:jupyter.viewOutput'>log</a> for further details."
     ]
    },
    {
     "ename": "",
     "evalue": "",
     "output_type": "error",
     "traceback": [
      "\u001b[1;31mCanceled future for execute_request message before replies were done"
     ]
    }
   ],
   "source": [
    "encoded_X =[]\n",
    "for data in dataset:\n",
    "    X, y = data\n",
    "    X = X.reshape(1,3,1024,2048)\n",
    "    \n",
    "    encoded = model.encoder(X)\n",
    "    encoded_X.append(encoded[-1])\n",
    "    y = get_classes(y)\n",
    "    # y = y.reshape(1,8,8,3)"
   ]
  },
  {
   "cell_type": "code",
   "execution_count": 104,
   "metadata": {},
   "outputs": [],
   "source": [
    "# show final image\n",
    "final_img = Image.fromarray(final.astype('uint8'), 'RGB')"
   ]
  },
  {
   "cell_type": "code",
   "execution_count": 107,
   "metadata": {},
   "outputs": [],
   "source": [
    "final_img.show()"
   ]
  },
  {
   "cell_type": "code",
   "execution_count": 70,
   "metadata": {},
   "outputs": [],
   "source": [
    "# forwards pass only on encoder\n",
    "# model = smp.Unet(classes=1, in_channels=3, encoder_name=\"resnet34\", encoder_weights=\"imagenet\")\n",
    "out = model.encoder(torch.from_numpy(x).unsqueeze(0).float())"
   ]
  },
  {
   "cell_type": "code",
   "execution_count": 74,
   "metadata": {},
   "outputs": [
    {
     "data": {
      "text/plain": [
       "torch.Size([1, 64, 128, 128])"
      ]
     },
     "execution_count": 74,
     "metadata": {},
     "output_type": "execute_result"
    }
   ],
   "source": [
    "out[1].shape\n"
   ]
  },
  {
   "cell_type": "code",
   "execution_count": 76,
   "metadata": {},
   "outputs": [
    {
     "name": "stdout",
     "output_type": "stream",
     "text": [
      "torch.Size([1, 3, 256, 256])\n",
      "torch.Size([1, 64, 128, 128])\n",
      "torch.Size([1, 64, 64, 64])\n",
      "torch.Size([1, 128, 32, 32])\n",
      "torch.Size([1, 256, 16, 16])\n",
      "torch.Size([1, 512, 8, 8])\n"
     ]
    }
   ],
   "source": [
    "for i in range(len(encoded)):\n",
    "    print(encoded[i].shape)"
   ]
  },
  {
   "cell_type": "code",
   "execution_count": 77,
   "metadata": {},
   "outputs": [],
   "source": [
    "out = model.encoder(torch.from_numpy(x).unsqueeze(0).float())\n",
    "out = out[-1]\n"
   ]
  },
  {
   "cell_type": "code",
   "execution_count": 79,
   "metadata": {},
   "outputs": [
    {
     "data": {
      "text/plain": [
       "torch.Size([1, 512, 8, 8])"
      ]
     },
     "execution_count": 79,
     "metadata": {},
     "output_type": "execute_result"
    }
   ],
   "source": [
    "out.shape"
   ]
  },
  {
   "cell_type": "code",
   "execution_count": 82,
   "metadata": {},
   "outputs": [],
   "source": [
    "dataset = \"cityscapes/gtCoarse/train/aachen\"\n",
    "import os\n",
    "data = []\n",
    "for file in os.listdir(dataset):\n",
    "    if file.endswith(\".png\") and file.__contains__(\"color\"):\n",
    "        data.append(file)\n"
   ]
  },
  {
   "cell_type": "code",
   "execution_count": 16,
   "metadata": {},
   "outputs": [
    {
     "ename": "KeyboardInterrupt",
     "evalue": "",
     "output_type": "error",
     "traceback": [
      "\u001b[0;31m---------------------------------------------------------------------------\u001b[0m",
      "\u001b[0;31mKeyboardInterrupt\u001b[0m                         Traceback (most recent call last)",
      "\u001b[1;32mUntitled-1.ipynb Cell 18\u001b[0m in \u001b[0;36m<cell line: 1>\u001b[0;34m()\u001b[0m\n\u001b[0;32m----> <a href='vscode-notebook-cell:Untitled-1.ipynb?jupyter-notebook#X33sdW50aXRsZWQ%3D?line=0'>1</a>\u001b[0m dataset \u001b[39m=\u001b[39m load_dataset(\u001b[39m\"\u001b[39;49m\u001b[39mChris1/GTA5\u001b[39;49m\u001b[39m\"\u001b[39;49m)\n\u001b[1;32m      <a href='vscode-notebook-cell:Untitled-1.ipynb?jupyter-notebook#X33sdW50aXRsZWQ%3D?line=2'>3</a>\u001b[0m \u001b[39m# Get the first 1000 images\u001b[39;00m\n\u001b[1;32m      <a href='vscode-notebook-cell:Untitled-1.ipynb?jupyter-notebook#X33sdW50aXRsZWQ%3D?line=3'>4</a>\u001b[0m images \u001b[39m=\u001b[39m dataset[\u001b[39m'\u001b[39m\u001b[39mtrain\u001b[39m\u001b[39m'\u001b[39m][\u001b[39m'\u001b[39m\u001b[39mimage\u001b[39m\u001b[39m'\u001b[39m][:\u001b[39m1000\u001b[39m]\n",
      "File \u001b[0;32m~/opt/anaconda3/lib/python3.9/site-packages/datasets/load.py:1723\u001b[0m, in \u001b[0;36mload_dataset\u001b[0;34m(path, name, data_dir, data_files, split, cache_dir, features, download_config, download_mode, ignore_verifications, keep_in_memory, save_infos, revision, use_auth_token, task, streaming, **config_kwargs)\u001b[0m\n\u001b[1;32m   1720\u001b[0m ignore_verifications \u001b[39m=\u001b[39m ignore_verifications \u001b[39mor\u001b[39;00m save_infos\n\u001b[1;32m   1722\u001b[0m \u001b[39m# Create a dataset builder\u001b[39;00m\n\u001b[0;32m-> 1723\u001b[0m builder_instance \u001b[39m=\u001b[39m load_dataset_builder(\n\u001b[1;32m   1724\u001b[0m     path\u001b[39m=\u001b[39;49mpath,\n\u001b[1;32m   1725\u001b[0m     name\u001b[39m=\u001b[39;49mname,\n\u001b[1;32m   1726\u001b[0m     data_dir\u001b[39m=\u001b[39;49mdata_dir,\n\u001b[1;32m   1727\u001b[0m     data_files\u001b[39m=\u001b[39;49mdata_files,\n\u001b[1;32m   1728\u001b[0m     cache_dir\u001b[39m=\u001b[39;49mcache_dir,\n\u001b[1;32m   1729\u001b[0m     features\u001b[39m=\u001b[39;49mfeatures,\n\u001b[1;32m   1730\u001b[0m     download_config\u001b[39m=\u001b[39;49mdownload_config,\n\u001b[1;32m   1731\u001b[0m     download_mode\u001b[39m=\u001b[39;49mdownload_mode,\n\u001b[1;32m   1732\u001b[0m     revision\u001b[39m=\u001b[39;49mrevision,\n\u001b[1;32m   1733\u001b[0m     use_auth_token\u001b[39m=\u001b[39;49muse_auth_token,\n\u001b[1;32m   1734\u001b[0m     \u001b[39m*\u001b[39;49m\u001b[39m*\u001b[39;49mconfig_kwargs,\n\u001b[1;32m   1735\u001b[0m )\n\u001b[1;32m   1737\u001b[0m \u001b[39m# Return iterable dataset in case of streaming\u001b[39;00m\n\u001b[1;32m   1738\u001b[0m \u001b[39mif\u001b[39;00m streaming:\n",
      "File \u001b[0;32m~/opt/anaconda3/lib/python3.9/site-packages/datasets/load.py:1500\u001b[0m, in \u001b[0;36mload_dataset_builder\u001b[0;34m(path, name, data_dir, data_files, cache_dir, features, download_config, download_mode, revision, use_auth_token, **config_kwargs)\u001b[0m\n\u001b[1;32m   1498\u001b[0m     download_config \u001b[39m=\u001b[39m download_config\u001b[39m.\u001b[39mcopy() \u001b[39mif\u001b[39;00m download_config \u001b[39melse\u001b[39;00m DownloadConfig()\n\u001b[1;32m   1499\u001b[0m     download_config\u001b[39m.\u001b[39muse_auth_token \u001b[39m=\u001b[39m use_auth_token\n\u001b[0;32m-> 1500\u001b[0m dataset_module \u001b[39m=\u001b[39m dataset_module_factory(\n\u001b[1;32m   1501\u001b[0m     path,\n\u001b[1;32m   1502\u001b[0m     revision\u001b[39m=\u001b[39;49mrevision,\n\u001b[1;32m   1503\u001b[0m     download_config\u001b[39m=\u001b[39;49mdownload_config,\n\u001b[1;32m   1504\u001b[0m     download_mode\u001b[39m=\u001b[39;49mdownload_mode,\n\u001b[1;32m   1505\u001b[0m     data_dir\u001b[39m=\u001b[39;49mdata_dir,\n\u001b[1;32m   1506\u001b[0m     data_files\u001b[39m=\u001b[39;49mdata_files,\n\u001b[1;32m   1507\u001b[0m )\n\u001b[1;32m   1509\u001b[0m \u001b[39m# Get dataset builder class from the processing script\u001b[39;00m\n\u001b[1;32m   1510\u001b[0m builder_cls \u001b[39m=\u001b[39m import_main_class(dataset_module\u001b[39m.\u001b[39mmodule_path)\n",
      "File \u001b[0;32m~/opt/anaconda3/lib/python3.9/site-packages/datasets/load.py:1228\u001b[0m, in \u001b[0;36mdataset_module_factory\u001b[0;34m(path, revision, download_config, download_mode, dynamic_modules_path, data_dir, data_files, **download_kwargs)\u001b[0m\n\u001b[1;32m   1220\u001b[0m             \u001b[39mreturn\u001b[39;00m HubDatasetModuleFactoryWithScript(\n\u001b[1;32m   1221\u001b[0m                 path,\n\u001b[1;32m   1222\u001b[0m                 revision\u001b[39m=\u001b[39mrevision,\n\u001b[0;32m   (...)\u001b[0m\n\u001b[1;32m   1225\u001b[0m                 dynamic_modules_path\u001b[39m=\u001b[39mdynamic_modules_path,\n\u001b[1;32m   1226\u001b[0m             )\u001b[39m.\u001b[39mget_module()\n\u001b[1;32m   1227\u001b[0m         \u001b[39melse\u001b[39;00m:\n\u001b[0;32m-> 1228\u001b[0m             \u001b[39mreturn\u001b[39;00m HubDatasetModuleFactoryWithoutScript(\n\u001b[1;32m   1229\u001b[0m                 path,\n\u001b[1;32m   1230\u001b[0m                 revision\u001b[39m=\u001b[39;49mrevision,\n\u001b[1;32m   1231\u001b[0m                 data_dir\u001b[39m=\u001b[39;49mdata_dir,\n\u001b[1;32m   1232\u001b[0m                 data_files\u001b[39m=\u001b[39;49mdata_files,\n\u001b[1;32m   1233\u001b[0m                 download_config\u001b[39m=\u001b[39;49mdownload_config,\n\u001b[1;32m   1234\u001b[0m                 download_mode\u001b[39m=\u001b[39;49mdownload_mode,\n\u001b[1;32m   1235\u001b[0m             )\u001b[39m.\u001b[39mget_module()\n\u001b[1;32m   1236\u001b[0m \u001b[39mexcept\u001b[39;00m \u001b[39mException\u001b[39;00m \u001b[39mas\u001b[39;00m e1:  \u001b[39m# noqa: all the attempts failed, before raising the error we should check if the module is already cached.\u001b[39;00m\n\u001b[1;32m   1237\u001b[0m     \u001b[39mtry\u001b[39;00m:\n",
      "File \u001b[0;32m~/opt/anaconda3/lib/python3.9/site-packages/datasets/load.py:812\u001b[0m, in \u001b[0;36mHubDatasetModuleFactoryWithoutScript.__init__\u001b[0;34m(self, name, revision, data_dir, data_files, download_config, download_mode)\u001b[0m\n\u001b[1;32m    810\u001b[0m \u001b[39mself\u001b[39m\u001b[39m.\u001b[39mdownload_mode \u001b[39m=\u001b[39m download_mode\n\u001b[1;32m    811\u001b[0m \u001b[39massert\u001b[39;00m \u001b[39mself\u001b[39m\u001b[39m.\u001b[39mname\u001b[39m.\u001b[39mcount(\u001b[39m\"\u001b[39m\u001b[39m/\u001b[39m\u001b[39m\"\u001b[39m) \u001b[39m==\u001b[39m \u001b[39m1\u001b[39m\n\u001b[0;32m--> 812\u001b[0m increase_load_count(name, resource_type\u001b[39m=\u001b[39;49m\u001b[39m\"\u001b[39;49m\u001b[39mdataset\u001b[39;49m\u001b[39m\"\u001b[39;49m)\n",
      "File \u001b[0;32m~/opt/anaconda3/lib/python3.9/site-packages/datasets/load.py:155\u001b[0m, in \u001b[0;36mincrease_load_count\u001b[0;34m(name, resource_type)\u001b[0m\n\u001b[1;32m    153\u001b[0m \u001b[39mif\u001b[39;00m \u001b[39mnot\u001b[39;00m config\u001b[39m.\u001b[39mHF_DATASETS_OFFLINE \u001b[39mand\u001b[39;00m config\u001b[39m.\u001b[39mHF_UPDATE_DOWNLOAD_COUNTS:\n\u001b[1;32m    154\u001b[0m     \u001b[39mtry\u001b[39;00m:\n\u001b[0;32m--> 155\u001b[0m         head_hf_s3(name, filename\u001b[39m=\u001b[39;49mname \u001b[39m+\u001b[39;49m \u001b[39m\"\u001b[39;49m\u001b[39m.py\u001b[39;49m\u001b[39m\"\u001b[39;49m, dataset\u001b[39m=\u001b[39;49m(resource_type \u001b[39m==\u001b[39;49m \u001b[39m\"\u001b[39;49m\u001b[39mdataset\u001b[39;49m\u001b[39m\"\u001b[39;49m))\n\u001b[1;32m    156\u001b[0m     \u001b[39mexcept\u001b[39;00m \u001b[39mException\u001b[39;00m:\n\u001b[1;32m    157\u001b[0m         \u001b[39mpass\u001b[39;00m\n",
      "File \u001b[0;32m~/opt/anaconda3/lib/python3.9/site-packages/datasets/utils/file_utils.py:93\u001b[0m, in \u001b[0;36mhead_hf_s3\u001b[0;34m(identifier, filename, use_cdn, dataset, max_retries)\u001b[0m\n\u001b[1;32m     90\u001b[0m \u001b[39mdef\u001b[39;00m \u001b[39mhead_hf_s3\u001b[39m(\n\u001b[1;32m     91\u001b[0m     identifier: \u001b[39mstr\u001b[39m, filename: \u001b[39mstr\u001b[39m, use_cdn\u001b[39m=\u001b[39m\u001b[39mFalse\u001b[39;00m, dataset\u001b[39m=\u001b[39m\u001b[39mTrue\u001b[39;00m, max_retries\u001b[39m=\u001b[39m\u001b[39m0\u001b[39m\n\u001b[1;32m     92\u001b[0m ) \u001b[39m-\u001b[39m\u001b[39m>\u001b[39m Union[requests\u001b[39m.\u001b[39mResponse, \u001b[39mException\u001b[39;00m]:\n\u001b[0;32m---> 93\u001b[0m     \u001b[39mreturn\u001b[39;00m http_head(\n\u001b[1;32m     94\u001b[0m         hf_bucket_url(identifier\u001b[39m=\u001b[39;49midentifier, filename\u001b[39m=\u001b[39;49mfilename, use_cdn\u001b[39m=\u001b[39;49muse_cdn, dataset\u001b[39m=\u001b[39;49mdataset),\n\u001b[1;32m     95\u001b[0m         max_retries\u001b[39m=\u001b[39;49mmax_retries,\n\u001b[1;32m     96\u001b[0m     )\n",
      "File \u001b[0;32m~/opt/anaconda3/lib/python3.9/site-packages/datasets/utils/file_utils.py:390\u001b[0m, in \u001b[0;36mhttp_head\u001b[0;34m(url, proxies, headers, cookies, allow_redirects, timeout, max_retries)\u001b[0m\n\u001b[1;32m    388\u001b[0m headers \u001b[39m=\u001b[39m copy\u001b[39m.\u001b[39mdeepcopy(headers) \u001b[39mor\u001b[39;00m {}\n\u001b[1;32m    389\u001b[0m headers[\u001b[39m\"\u001b[39m\u001b[39muser-agent\u001b[39m\u001b[39m\"\u001b[39m] \u001b[39m=\u001b[39m get_datasets_user_agent(user_agent\u001b[39m=\u001b[39mheaders\u001b[39m.\u001b[39mget(\u001b[39m\"\u001b[39m\u001b[39muser-agent\u001b[39m\u001b[39m\"\u001b[39m))\n\u001b[0;32m--> 390\u001b[0m response \u001b[39m=\u001b[39m _request_with_retry(\n\u001b[1;32m    391\u001b[0m     method\u001b[39m=\u001b[39;49m\u001b[39m\"\u001b[39;49m\u001b[39mHEAD\u001b[39;49m\u001b[39m\"\u001b[39;49m,\n\u001b[1;32m    392\u001b[0m     url\u001b[39m=\u001b[39;49murl,\n\u001b[1;32m    393\u001b[0m     proxies\u001b[39m=\u001b[39;49mproxies,\n\u001b[1;32m    394\u001b[0m     headers\u001b[39m=\u001b[39;49mheaders,\n\u001b[1;32m    395\u001b[0m     cookies\u001b[39m=\u001b[39;49mcookies,\n\u001b[1;32m    396\u001b[0m     allow_redirects\u001b[39m=\u001b[39;49mallow_redirects,\n\u001b[1;32m    397\u001b[0m     timeout\u001b[39m=\u001b[39;49mtimeout,\n\u001b[1;32m    398\u001b[0m     max_retries\u001b[39m=\u001b[39;49mmax_retries,\n\u001b[1;32m    399\u001b[0m )\n\u001b[1;32m    400\u001b[0m \u001b[39mreturn\u001b[39;00m response\n",
      "File \u001b[0;32m~/opt/anaconda3/lib/python3.9/site-packages/datasets/utils/file_utils.py:319\u001b[0m, in \u001b[0;36m_request_with_retry\u001b[0;34m(method, url, max_retries, base_wait_time, max_wait_time, timeout, **params)\u001b[0m\n\u001b[1;32m    317\u001b[0m tries \u001b[39m+\u001b[39m\u001b[39m=\u001b[39m \u001b[39m1\u001b[39m\n\u001b[1;32m    318\u001b[0m \u001b[39mtry\u001b[39;00m:\n\u001b[0;32m--> 319\u001b[0m     response \u001b[39m=\u001b[39m requests\u001b[39m.\u001b[39;49mrequest(method\u001b[39m=\u001b[39;49mmethod\u001b[39m.\u001b[39;49mupper(), url\u001b[39m=\u001b[39;49murl, timeout\u001b[39m=\u001b[39;49mtimeout, \u001b[39m*\u001b[39;49m\u001b[39m*\u001b[39;49mparams)\n\u001b[1;32m    320\u001b[0m     success \u001b[39m=\u001b[39m \u001b[39mTrue\u001b[39;00m\n\u001b[1;32m    321\u001b[0m \u001b[39mexcept\u001b[39;00m (requests\u001b[39m.\u001b[39mexceptions\u001b[39m.\u001b[39mConnectTimeout, requests\u001b[39m.\u001b[39mexceptions\u001b[39m.\u001b[39mConnectionError) \u001b[39mas\u001b[39;00m err:\n",
      "File \u001b[0;32m~/opt/anaconda3/lib/python3.9/site-packages/requests/api.py:61\u001b[0m, in \u001b[0;36mrequest\u001b[0;34m(method, url, **kwargs)\u001b[0m\n\u001b[1;32m     57\u001b[0m \u001b[39m# By using the 'with' statement we are sure the session is closed, thus we\u001b[39;00m\n\u001b[1;32m     58\u001b[0m \u001b[39m# avoid leaving sockets open which can trigger a ResourceWarning in some\u001b[39;00m\n\u001b[1;32m     59\u001b[0m \u001b[39m# cases, and look like a memory leak in others.\u001b[39;00m\n\u001b[1;32m     60\u001b[0m \u001b[39mwith\u001b[39;00m sessions\u001b[39m.\u001b[39mSession() \u001b[39mas\u001b[39;00m session:\n\u001b[0;32m---> 61\u001b[0m     \u001b[39mreturn\u001b[39;00m session\u001b[39m.\u001b[39;49mrequest(method\u001b[39m=\u001b[39;49mmethod, url\u001b[39m=\u001b[39;49murl, \u001b[39m*\u001b[39;49m\u001b[39m*\u001b[39;49mkwargs)\n",
      "File \u001b[0;32m~/opt/anaconda3/lib/python3.9/site-packages/requests/sessions.py:529\u001b[0m, in \u001b[0;36mSession.request\u001b[0;34m(self, method, url, params, data, headers, cookies, files, auth, timeout, allow_redirects, proxies, hooks, stream, verify, cert, json)\u001b[0m\n\u001b[1;32m    524\u001b[0m send_kwargs \u001b[39m=\u001b[39m {\n\u001b[1;32m    525\u001b[0m     \u001b[39m'\u001b[39m\u001b[39mtimeout\u001b[39m\u001b[39m'\u001b[39m: timeout,\n\u001b[1;32m    526\u001b[0m     \u001b[39m'\u001b[39m\u001b[39mallow_redirects\u001b[39m\u001b[39m'\u001b[39m: allow_redirects,\n\u001b[1;32m    527\u001b[0m }\n\u001b[1;32m    528\u001b[0m send_kwargs\u001b[39m.\u001b[39mupdate(settings)\n\u001b[0;32m--> 529\u001b[0m resp \u001b[39m=\u001b[39m \u001b[39mself\u001b[39;49m\u001b[39m.\u001b[39;49msend(prep, \u001b[39m*\u001b[39;49m\u001b[39m*\u001b[39;49msend_kwargs)\n\u001b[1;32m    531\u001b[0m \u001b[39mreturn\u001b[39;00m resp\n",
      "File \u001b[0;32m~/opt/anaconda3/lib/python3.9/site-packages/requests/sessions.py:645\u001b[0m, in \u001b[0;36mSession.send\u001b[0;34m(self, request, **kwargs)\u001b[0m\n\u001b[1;32m    642\u001b[0m start \u001b[39m=\u001b[39m preferred_clock()\n\u001b[1;32m    644\u001b[0m \u001b[39m# Send the request\u001b[39;00m\n\u001b[0;32m--> 645\u001b[0m r \u001b[39m=\u001b[39m adapter\u001b[39m.\u001b[39;49msend(request, \u001b[39m*\u001b[39;49m\u001b[39m*\u001b[39;49mkwargs)\n\u001b[1;32m    647\u001b[0m \u001b[39m# Total elapsed time of the request (approximately)\u001b[39;00m\n\u001b[1;32m    648\u001b[0m elapsed \u001b[39m=\u001b[39m preferred_clock() \u001b[39m-\u001b[39m start\n",
      "File \u001b[0;32m~/opt/anaconda3/lib/python3.9/site-packages/requests/adapters.py:440\u001b[0m, in \u001b[0;36mHTTPAdapter.send\u001b[0;34m(self, request, stream, timeout, verify, cert, proxies)\u001b[0m\n\u001b[1;32m    438\u001b[0m \u001b[39mtry\u001b[39;00m:\n\u001b[1;32m    439\u001b[0m     \u001b[39mif\u001b[39;00m \u001b[39mnot\u001b[39;00m chunked:\n\u001b[0;32m--> 440\u001b[0m         resp \u001b[39m=\u001b[39m conn\u001b[39m.\u001b[39;49murlopen(\n\u001b[1;32m    441\u001b[0m             method\u001b[39m=\u001b[39;49mrequest\u001b[39m.\u001b[39;49mmethod,\n\u001b[1;32m    442\u001b[0m             url\u001b[39m=\u001b[39;49murl,\n\u001b[1;32m    443\u001b[0m             body\u001b[39m=\u001b[39;49mrequest\u001b[39m.\u001b[39;49mbody,\n\u001b[1;32m    444\u001b[0m             headers\u001b[39m=\u001b[39;49mrequest\u001b[39m.\u001b[39;49mheaders,\n\u001b[1;32m    445\u001b[0m             redirect\u001b[39m=\u001b[39;49m\u001b[39mFalse\u001b[39;49;00m,\n\u001b[1;32m    446\u001b[0m             assert_same_host\u001b[39m=\u001b[39;49m\u001b[39mFalse\u001b[39;49;00m,\n\u001b[1;32m    447\u001b[0m             preload_content\u001b[39m=\u001b[39;49m\u001b[39mFalse\u001b[39;49;00m,\n\u001b[1;32m    448\u001b[0m             decode_content\u001b[39m=\u001b[39;49m\u001b[39mFalse\u001b[39;49;00m,\n\u001b[1;32m    449\u001b[0m             retries\u001b[39m=\u001b[39;49m\u001b[39mself\u001b[39;49m\u001b[39m.\u001b[39;49mmax_retries,\n\u001b[1;32m    450\u001b[0m             timeout\u001b[39m=\u001b[39;49mtimeout\n\u001b[1;32m    451\u001b[0m         )\n\u001b[1;32m    453\u001b[0m     \u001b[39m# Send the request.\u001b[39;00m\n\u001b[1;32m    454\u001b[0m     \u001b[39melse\u001b[39;00m:\n\u001b[1;32m    455\u001b[0m         \u001b[39mif\u001b[39;00m \u001b[39mhasattr\u001b[39m(conn, \u001b[39m'\u001b[39m\u001b[39mproxy_pool\u001b[39m\u001b[39m'\u001b[39m):\n",
      "File \u001b[0;32m~/opt/anaconda3/lib/python3.9/site-packages/urllib3/connectionpool.py:703\u001b[0m, in \u001b[0;36mHTTPConnectionPool.urlopen\u001b[0;34m(self, method, url, body, headers, retries, redirect, assert_same_host, timeout, pool_timeout, release_conn, chunked, body_pos, **response_kw)\u001b[0m\n\u001b[1;32m    700\u001b[0m     \u001b[39mself\u001b[39m\u001b[39m.\u001b[39m_prepare_proxy(conn)\n\u001b[1;32m    702\u001b[0m \u001b[39m# Make the request on the httplib connection object.\u001b[39;00m\n\u001b[0;32m--> 703\u001b[0m httplib_response \u001b[39m=\u001b[39m \u001b[39mself\u001b[39;49m\u001b[39m.\u001b[39;49m_make_request(\n\u001b[1;32m    704\u001b[0m     conn,\n\u001b[1;32m    705\u001b[0m     method,\n\u001b[1;32m    706\u001b[0m     url,\n\u001b[1;32m    707\u001b[0m     timeout\u001b[39m=\u001b[39;49mtimeout_obj,\n\u001b[1;32m    708\u001b[0m     body\u001b[39m=\u001b[39;49mbody,\n\u001b[1;32m    709\u001b[0m     headers\u001b[39m=\u001b[39;49mheaders,\n\u001b[1;32m    710\u001b[0m     chunked\u001b[39m=\u001b[39;49mchunked,\n\u001b[1;32m    711\u001b[0m )\n\u001b[1;32m    713\u001b[0m \u001b[39m# If we're going to release the connection in ``finally:``, then\u001b[39;00m\n\u001b[1;32m    714\u001b[0m \u001b[39m# the response doesn't need to know about the connection. Otherwise\u001b[39;00m\n\u001b[1;32m    715\u001b[0m \u001b[39m# it will also try to release it and we'll have a double-release\u001b[39;00m\n\u001b[1;32m    716\u001b[0m \u001b[39m# mess.\u001b[39;00m\n\u001b[1;32m    717\u001b[0m response_conn \u001b[39m=\u001b[39m conn \u001b[39mif\u001b[39;00m \u001b[39mnot\u001b[39;00m release_conn \u001b[39melse\u001b[39;00m \u001b[39mNone\u001b[39;00m\n",
      "File \u001b[0;32m~/opt/anaconda3/lib/python3.9/site-packages/urllib3/connectionpool.py:386\u001b[0m, in \u001b[0;36mHTTPConnectionPool._make_request\u001b[0;34m(self, conn, method, url, timeout, chunked, **httplib_request_kw)\u001b[0m\n\u001b[1;32m    384\u001b[0m \u001b[39m# Trigger any extra validation we need to do.\u001b[39;00m\n\u001b[1;32m    385\u001b[0m \u001b[39mtry\u001b[39;00m:\n\u001b[0;32m--> 386\u001b[0m     \u001b[39mself\u001b[39;49m\u001b[39m.\u001b[39;49m_validate_conn(conn)\n\u001b[1;32m    387\u001b[0m \u001b[39mexcept\u001b[39;00m (SocketTimeout, BaseSSLError) \u001b[39mas\u001b[39;00m e:\n\u001b[1;32m    388\u001b[0m     \u001b[39m# Py2 raises this as a BaseSSLError, Py3 raises it as socket timeout.\u001b[39;00m\n\u001b[1;32m    389\u001b[0m     \u001b[39mself\u001b[39m\u001b[39m.\u001b[39m_raise_timeout(err\u001b[39m=\u001b[39me, url\u001b[39m=\u001b[39murl, timeout_value\u001b[39m=\u001b[39mconn\u001b[39m.\u001b[39mtimeout)\n",
      "File \u001b[0;32m~/opt/anaconda3/lib/python3.9/site-packages/urllib3/connectionpool.py:1042\u001b[0m, in \u001b[0;36mHTTPSConnectionPool._validate_conn\u001b[0;34m(self, conn)\u001b[0m\n\u001b[1;32m   1040\u001b[0m \u001b[39m# Force connect early to allow us to validate the connection.\u001b[39;00m\n\u001b[1;32m   1041\u001b[0m \u001b[39mif\u001b[39;00m \u001b[39mnot\u001b[39;00m \u001b[39mgetattr\u001b[39m(conn, \u001b[39m\"\u001b[39m\u001b[39msock\u001b[39m\u001b[39m\"\u001b[39m, \u001b[39mNone\u001b[39;00m):  \u001b[39m# AppEngine might not have  `.sock`\u001b[39;00m\n\u001b[0;32m-> 1042\u001b[0m     conn\u001b[39m.\u001b[39;49mconnect()\n\u001b[1;32m   1044\u001b[0m \u001b[39mif\u001b[39;00m \u001b[39mnot\u001b[39;00m conn\u001b[39m.\u001b[39mis_verified:\n\u001b[1;32m   1045\u001b[0m     warnings\u001b[39m.\u001b[39mwarn(\n\u001b[1;32m   1046\u001b[0m         (\n\u001b[1;32m   1047\u001b[0m             \u001b[39m\"\u001b[39m\u001b[39mUnverified HTTPS request is being made to host \u001b[39m\u001b[39m'\u001b[39m\u001b[39m%s\u001b[39;00m\u001b[39m'\u001b[39m\u001b[39m. \u001b[39m\u001b[39m\"\u001b[39m\n\u001b[0;32m   (...)\u001b[0m\n\u001b[1;32m   1052\u001b[0m         InsecureRequestWarning,\n\u001b[1;32m   1053\u001b[0m     )\n",
      "File \u001b[0;32m~/opt/anaconda3/lib/python3.9/site-packages/urllib3/connection.py:419\u001b[0m, in \u001b[0;36mHTTPSConnection.connect\u001b[0;34m(self)\u001b[0m\n\u001b[1;32m    410\u001b[0m \u001b[39mif\u001b[39;00m (\n\u001b[1;32m    411\u001b[0m     \u001b[39mnot\u001b[39;00m \u001b[39mself\u001b[39m\u001b[39m.\u001b[39mca_certs\n\u001b[1;32m    412\u001b[0m     \u001b[39mand\u001b[39;00m \u001b[39mnot\u001b[39;00m \u001b[39mself\u001b[39m\u001b[39m.\u001b[39mca_cert_dir\n\u001b[0;32m   (...)\u001b[0m\n\u001b[1;32m    415\u001b[0m     \u001b[39mand\u001b[39;00m \u001b[39mhasattr\u001b[39m(context, \u001b[39m\"\u001b[39m\u001b[39mload_default_certs\u001b[39m\u001b[39m\"\u001b[39m)\n\u001b[1;32m    416\u001b[0m ):\n\u001b[1;32m    417\u001b[0m     context\u001b[39m.\u001b[39mload_default_certs()\n\u001b[0;32m--> 419\u001b[0m \u001b[39mself\u001b[39m\u001b[39m.\u001b[39msock \u001b[39m=\u001b[39m ssl_wrap_socket(\n\u001b[1;32m    420\u001b[0m     sock\u001b[39m=\u001b[39;49mconn,\n\u001b[1;32m    421\u001b[0m     keyfile\u001b[39m=\u001b[39;49m\u001b[39mself\u001b[39;49m\u001b[39m.\u001b[39;49mkey_file,\n\u001b[1;32m    422\u001b[0m     certfile\u001b[39m=\u001b[39;49m\u001b[39mself\u001b[39;49m\u001b[39m.\u001b[39;49mcert_file,\n\u001b[1;32m    423\u001b[0m     key_password\u001b[39m=\u001b[39;49m\u001b[39mself\u001b[39;49m\u001b[39m.\u001b[39;49mkey_password,\n\u001b[1;32m    424\u001b[0m     ca_certs\u001b[39m=\u001b[39;49m\u001b[39mself\u001b[39;49m\u001b[39m.\u001b[39;49mca_certs,\n\u001b[1;32m    425\u001b[0m     ca_cert_dir\u001b[39m=\u001b[39;49m\u001b[39mself\u001b[39;49m\u001b[39m.\u001b[39;49mca_cert_dir,\n\u001b[1;32m    426\u001b[0m     ca_cert_data\u001b[39m=\u001b[39;49m\u001b[39mself\u001b[39;49m\u001b[39m.\u001b[39;49mca_cert_data,\n\u001b[1;32m    427\u001b[0m     server_hostname\u001b[39m=\u001b[39;49mserver_hostname,\n\u001b[1;32m    428\u001b[0m     ssl_context\u001b[39m=\u001b[39;49mcontext,\n\u001b[1;32m    429\u001b[0m     tls_in_tls\u001b[39m=\u001b[39;49mtls_in_tls,\n\u001b[1;32m    430\u001b[0m )\n\u001b[1;32m    432\u001b[0m \u001b[39m# If we're using all defaults and the connection\u001b[39;00m\n\u001b[1;32m    433\u001b[0m \u001b[39m# is TLSv1 or TLSv1.1 we throw a DeprecationWarning\u001b[39;00m\n\u001b[1;32m    434\u001b[0m \u001b[39m# for the host.\u001b[39;00m\n\u001b[1;32m    435\u001b[0m \u001b[39mif\u001b[39;00m (\n\u001b[1;32m    436\u001b[0m     default_ssl_context\n\u001b[1;32m    437\u001b[0m     \u001b[39mand\u001b[39;00m \u001b[39mself\u001b[39m\u001b[39m.\u001b[39mssl_version \u001b[39mis\u001b[39;00m \u001b[39mNone\u001b[39;00m\n\u001b[1;32m    438\u001b[0m     \u001b[39mand\u001b[39;00m \u001b[39mhasattr\u001b[39m(\u001b[39mself\u001b[39m\u001b[39m.\u001b[39msock, \u001b[39m\"\u001b[39m\u001b[39mversion\u001b[39m\u001b[39m\"\u001b[39m)\n\u001b[1;32m    439\u001b[0m     \u001b[39mand\u001b[39;00m \u001b[39mself\u001b[39m\u001b[39m.\u001b[39msock\u001b[39m.\u001b[39mversion() \u001b[39min\u001b[39;00m {\u001b[39m\"\u001b[39m\u001b[39mTLSv1\u001b[39m\u001b[39m\"\u001b[39m, \u001b[39m\"\u001b[39m\u001b[39mTLSv1.1\u001b[39m\u001b[39m\"\u001b[39m}\n\u001b[1;32m    440\u001b[0m ):\n",
      "File \u001b[0;32m~/opt/anaconda3/lib/python3.9/site-packages/urllib3/util/ssl_.py:402\u001b[0m, in \u001b[0;36mssl_wrap_socket\u001b[0;34m(sock, keyfile, certfile, cert_reqs, ca_certs, server_hostname, ssl_version, ciphers, ssl_context, ca_cert_dir, key_password, ca_cert_data, tls_in_tls)\u001b[0m\n\u001b[1;32m    400\u001b[0m \u001b[39mif\u001b[39;00m ca_certs \u001b[39mor\u001b[39;00m ca_cert_dir \u001b[39mor\u001b[39;00m ca_cert_data:\n\u001b[1;32m    401\u001b[0m     \u001b[39mtry\u001b[39;00m:\n\u001b[0;32m--> 402\u001b[0m         context\u001b[39m.\u001b[39;49mload_verify_locations(ca_certs, ca_cert_dir, ca_cert_data)\n\u001b[1;32m    403\u001b[0m     \u001b[39mexcept\u001b[39;00m (\u001b[39mIOError\u001b[39;00m, \u001b[39mOSError\u001b[39;00m) \u001b[39mas\u001b[39;00m e:\n\u001b[1;32m    404\u001b[0m         \u001b[39mraise\u001b[39;00m SSLError(e)\n",
      "\u001b[0;31mKeyboardInterrupt\u001b[0m: "
     ]
    }
   ],
   "source": [
    "dataset = load_dataset(\"Chris1/GTA5\", split=\"train\")\n",
    "\n",
    "# Get the first 1000 images\n",
    "images = dataset['train']['image'][:1000]\n",
    "\n",
    "# Save the images to a directory\n",
    "for i, image in enumerate(images):\n",
    "    with open(f'image_{i}.png', 'wb') as f:\n",
    "        f.write(image)"
   ]
  },
  {
   "cell_type": "code",
   "execution_count": 83,
   "metadata": {},
   "outputs": [
    {
     "data": {
      "text/plain": [
       "174"
      ]
     },
     "execution_count": 83,
     "metadata": {},
     "output_type": "execute_result"
    }
   ],
   "source": [
    "len(data)\n"
   ]
  },
  {
   "cell_type": "code",
   "execution_count": 84,
   "metadata": {},
   "outputs": [],
   "source": [
    "# json_path =\"cityscapes/gtCoarse/train/aachen/aachen_000000_000019_gtCoarse_polygons.json\"\n",
    "\n",
    "import json\n",
    "json_path =\"cityscapes/gtCoarse/train/aachen/aachen_000000_000019_gtCoarse_polygons.json\"\n",
    "target = json.load(open(json_path))"
   ]
  },
  {
   "cell_type": "code",
   "execution_count": 85,
   "metadata": {},
   "outputs": [
    {
     "data": {
      "text/plain": [
       "{'imgHeight': 1024,\n",
       " 'imgWidth': 2048,\n",
       " 'objects': [{'label': 'traffic sign',\n",
       "   'polygon': [[104, 265], [47, 354], [161, 363], [142, 315], [104, 276]]},\n",
       "  {'label': 'traffic sign',\n",
       "   'polygon': [[112, 390], [64, 476], [174, 466], [128, 414]]},\n",
       "  {'label': 'terrain',\n",
       "   'polygon': [[13, 582],\n",
       "    [13, 754],\n",
       "    [233, 675],\n",
       "    [322, 593],\n",
       "    [320, 580],\n",
       "    [300, 573],\n",
       "    [278, 558],\n",
       "    [247, 549],\n",
       "    [226, 533],\n",
       "    [177, 521],\n",
       "    [151, 524],\n",
       "    [142, 533],\n",
       "    [143, 606],\n",
       "    [136, 615],\n",
       "    [117, 623],\n",
       "    [104, 623],\n",
       "    [96, 611],\n",
       "    [100, 565],\n",
       "    [107, 546],\n",
       "    [65, 519],\n",
       "    [57, 519],\n",
       "    [51, 525],\n",
       "    [40, 574],\n",
       "    [25, 585]]},\n",
       "  {'label': 'vegetation',\n",
       "   'polygon': [[358, 236],\n",
       "    [341, 249],\n",
       "    [305, 302],\n",
       "    [300, 335],\n",
       "    [306, 342],\n",
       "    [340, 349],\n",
       "    [380, 350],\n",
       "    [412, 362],\n",
       "    [441, 364],\n",
       "    [478, 345],\n",
       "    [520, 341],\n",
       "    [529, 328],\n",
       "    [533, 321],\n",
       "    [530, 308],\n",
       "    [497, 282],\n",
       "    [482, 279],\n",
       "    [442, 263],\n",
       "    [407, 244]]},\n",
       "  {'label': 'car',\n",
       "   'polygon': [[188, 443],\n",
       "    [201, 477],\n",
       "    [262, 486],\n",
       "    [297, 481],\n",
       "    [295, 448],\n",
       "    [287, 441],\n",
       "    [270, 432],\n",
       "    [251, 429],\n",
       "    [188, 432],\n",
       "    [185, 434],\n",
       "    [188, 434]]},\n",
       "  {'label': 'building',\n",
       "   'polygon': [[1045, 24],\n",
       "    [1074, 70],\n",
       "    [1139, 145],\n",
       "    [1149, 164],\n",
       "    [1152, 209],\n",
       "    [1144, 260],\n",
       "    [1163, 304],\n",
       "    [1191, 350],\n",
       "    [1212, 362],\n",
       "    [1266, 374],\n",
       "    [1350, 382],\n",
       "    [1393, 380],\n",
       "    [1476, 359],\n",
       "    [1477, 320],\n",
       "    [1506, 182],\n",
       "    [1508, 122],\n",
       "    [1459, 106],\n",
       "    [1334, 31],\n",
       "    [1290, 20],\n",
       "    [1253, 15],\n",
       "    [1057, 12]]},\n",
       "  {'label': 'vegetation',\n",
       "   'polygon': [[1720, 44],\n",
       "    [1690, 63],\n",
       "    [1657, 103],\n",
       "    [1646, 137],\n",
       "    [1633, 160],\n",
       "    [1610, 180],\n",
       "    [1590, 189],\n",
       "    [1581, 208],\n",
       "    [1581, 259],\n",
       "    [1589, 291],\n",
       "    [1603, 312],\n",
       "    [1657, 346],\n",
       "    [1665, 402],\n",
       "    [1680, 411],\n",
       "    [1690, 411],\n",
       "    [1704, 401],\n",
       "    [1724, 350],\n",
       "    [1741, 336],\n",
       "    [1751, 339],\n",
       "    [1760, 368],\n",
       "    [1764, 406],\n",
       "    [1771, 407],\n",
       "    [1791, 389],\n",
       "    [1810, 340],\n",
       "    [1832, 315],\n",
       "    [1844, 311],\n",
       "    [1902, 312],\n",
       "    [1931, 296],\n",
       "    [1965, 271],\n",
       "    [1981, 247],\n",
       "    [2023, 213],\n",
       "    [2031, 155],\n",
       "    [2035, 42],\n",
       "    [2008, 40],\n",
       "    [1992, 46],\n",
       "    [1977, 63],\n",
       "    [1958, 106],\n",
       "    [1948, 118],\n",
       "    [1915, 134],\n",
       "    [1882, 143],\n",
       "    [1862, 143],\n",
       "    [1838, 133],\n",
       "    [1794, 97],\n",
       "    [1739, 36],\n",
       "    [1725, 36]]},\n",
       "  {'label': 'sky',\n",
       "   'polygon': [[1630, 5],\n",
       "    [1624, 51],\n",
       "    [1600, 85],\n",
       "    [1544, 83],\n",
       "    [1495, 76],\n",
       "    [1479, 79],\n",
       "    [1477, 64],\n",
       "    [1477, 4],\n",
       "    [1572, 4],\n",
       "    [1594, 3]]},\n",
       "  {'label': 'terrain',\n",
       "   'polygon': [[2033, 556],\n",
       "    [2032, 595],\n",
       "    [2020, 597],\n",
       "    [1627, 553],\n",
       "    [1777, 546],\n",
       "    [1822, 552],\n",
       "    [1848, 552],\n",
       "    [1864, 553]]},\n",
       "  {'label': 'building',\n",
       "   'polygon': [[2042, 293],\n",
       "    [2029, 476],\n",
       "    [2006, 476],\n",
       "    [1974, 452],\n",
       "    [1982, 344],\n",
       "    [1987, 327],\n",
       "    [2000, 318],\n",
       "    [2020, 294],\n",
       "    [2027, 289]]},\n",
       "  {'label': 'terrain',\n",
       "   'polygon': [[885, 508],\n",
       "    [1065, 523],\n",
       "    [1169, 520],\n",
       "    [1145, 512],\n",
       "    [1114, 506],\n",
       "    [1058, 506],\n",
       "    [1041, 507],\n",
       "    [990, 512],\n",
       "    [938, 497]]},\n",
       "  {'label': 'pole',\n",
       "   'polygon': [[869, 315], [878, 310], [892, 485], [883, 485]]},\n",
       "  {'label': 'vegetation',\n",
       "   'polygon': [[930, 400],\n",
       "    [961, 399],\n",
       "    [971, 427],\n",
       "    [971, 453],\n",
       "    [969, 469],\n",
       "    [953, 470],\n",
       "    [943, 467],\n",
       "    [939, 463],\n",
       "    [938, 442],\n",
       "    [921, 433],\n",
       "    [915, 433],\n",
       "    [917, 410],\n",
       "    [923, 396]]},\n",
       "  {'label': 'vegetation',\n",
       "   'polygon': [[1029, 417],\n",
       "    [1038, 436],\n",
       "    [1035, 455],\n",
       "    [1031, 463],\n",
       "    [1013, 464],\n",
       "    [1007, 455],\n",
       "    [1005, 446],\n",
       "    [1005, 414],\n",
       "    [1011, 406],\n",
       "    [1011, 402],\n",
       "    [1003, 398],\n",
       "    [1009, 397]]},\n",
       "  {'label': 'car',\n",
       "   'polygon': [[664, 436],\n",
       "    [614, 478],\n",
       "    [611, 501],\n",
       "    [616, 507],\n",
       "    [635, 511],\n",
       "    [655, 502],\n",
       "    [676, 499],\n",
       "    [793, 504],\n",
       "    [803, 496],\n",
       "    [803, 481],\n",
       "    [790, 457],\n",
       "    [764, 439],\n",
       "    [736, 429],\n",
       "    [721, 428],\n",
       "    [691, 428]]},\n",
       "  {'label': 'road',\n",
       "   'polygon': [[1663, 599],\n",
       "    [1683, 610],\n",
       "    [2025, 648],\n",
       "    [2023, 1005],\n",
       "    [379, 996],\n",
       "    [233, 1007],\n",
       "    [481, 692],\n",
       "    [489, 670],\n",
       "    [450, 564],\n",
       "    [278, 518],\n",
       "    [353, 511],\n",
       "    [382, 496],\n",
       "    [463, 515],\n",
       "    [582, 518],\n",
       "    [626, 542],\n",
       "    [743, 559],\n",
       "    [772, 548],\n",
       "    [880, 528],\n",
       "    [977, 553],\n",
       "    [1173, 555],\n",
       "    [1215, 544],\n",
       "    [1374, 528],\n",
       "    [1552, 528],\n",
       "    [1551, 553],\n",
       "    [1524, 573],\n",
       "    [1520, 592],\n",
       "    [1549, 603],\n",
       "    [1610, 593]]},\n",
       "  {'label': 'sky',\n",
       "   'polygon': [[40, 10], [40, 13], [85, 32], [99, 32], [183, 14], [60, 3]]},\n",
       "  {'label': 'pole', 'polygon': [[15, 78], [26, 74], [33, 482], [26, 486]]},\n",
       "  {'label': 'building',\n",
       "   'polygon': [[266, 51],\n",
       "    [733, 10],\n",
       "    [729, 74],\n",
       "    [791, 74],\n",
       "    [828, 361],\n",
       "    [626, 368],\n",
       "    [621, 330],\n",
       "    [583, 327],\n",
       "    [578, 271],\n",
       "    [512, 223],\n",
       "    [441, 199],\n",
       "    [387, 185],\n",
       "    [338, 186],\n",
       "    [317, 191],\n",
       "    [250, 228],\n",
       "    [188, 99],\n",
       "    [179, 49]]},\n",
       "  {'label': 'building',\n",
       "   'polygon': [[52, 77],\n",
       "    [126, 80],\n",
       "    [130, 78],\n",
       "    [127, 114],\n",
       "    [159, 156],\n",
       "    [173, 179],\n",
       "    [202, 255],\n",
       "    [212, 269],\n",
       "    [229, 297],\n",
       "    [167, 314],\n",
       "    [125, 250],\n",
       "    [108, 213],\n",
       "    [74, 210],\n",
       "    [44, 196],\n",
       "    [50, 76]]},\n",
       "  {'label': 'rider',\n",
       "   'polygon': [[1852, 456],\n",
       "    [1866, 453],\n",
       "    [1873, 453],\n",
       "    [1873, 448],\n",
       "    [1872, 444],\n",
       "    [1874, 442],\n",
       "    [1880, 441],\n",
       "    [1880, 446],\n",
       "    [1875, 455],\n",
       "    [1880, 464],\n",
       "    [1884, 472],\n",
       "    [1883, 472],\n",
       "    [1881, 473],\n",
       "    [1878, 473],\n",
       "    [1867, 469],\n",
       "    [1863, 466],\n",
       "    [1857, 462]]},\n",
       "  {'label': 'bicycle',\n",
       "   'polygon': [[1851, 501],\n",
       "    [1840, 514],\n",
       "    [1838, 533],\n",
       "    [1842, 541],\n",
       "    [1850, 540],\n",
       "    [1851, 539],\n",
       "    [1854, 536],\n",
       "    [1859, 528],\n",
       "    [1860, 525],\n",
       "    [1861, 517],\n",
       "    [1860, 509]]},\n",
       "  {'label': 'traffic sign',\n",
       "   'polygon': [[1927, 394],\n",
       "    [1920, 398],\n",
       "    [1920, 405],\n",
       "    [1922, 407],\n",
       "    [1925, 411],\n",
       "    [1929, 411],\n",
       "    [1930, 410],\n",
       "    [1934, 406],\n",
       "    [1934, 403],\n",
       "    [1933, 399]]},\n",
       "  {'label': 'pole',\n",
       "   'polygon': [[978, 352], [983, 352], [986, 495], [982, 497]]},\n",
       "  {'label': 'terrain',\n",
       "   'polygon': [[1281, 517],\n",
       "    [1340, 522],\n",
       "    [1389, 521],\n",
       "    [1405, 518],\n",
       "    [1402, 514],\n",
       "    [1280, 512],\n",
       "    [1272, 514]]},\n",
       "  {'label': 'terrain',\n",
       "   'polygon': [[1191, 520],\n",
       "    [1194, 521],\n",
       "    [1213, 521],\n",
       "    [1218, 520],\n",
       "    [1256, 518],\n",
       "    [1261, 517],\n",
       "    [1255, 514],\n",
       "    [1252, 514],\n",
       "    [1190, 515]]},\n",
       "  {'label': 'sky',\n",
       "   'polygon': [[1761, 4],\n",
       "    [1997, 5],\n",
       "    [1983, 23],\n",
       "    [1980, 24],\n",
       "    [1976, 27],\n",
       "    [1966, 41],\n",
       "    [1966, 50],\n",
       "    [1967, 57],\n",
       "    [1966, 64],\n",
       "    [1966, 65],\n",
       "    [1957, 78],\n",
       "    [1947, 82],\n",
       "    [1945, 84],\n",
       "    [1941, 88],\n",
       "    [1930, 98],\n",
       "    [1925, 105],\n",
       "    [1919, 109],\n",
       "    [1916, 110],\n",
       "    [1909, 111],\n",
       "    [1894, 113],\n",
       "    [1889, 114],\n",
       "    [1885, 114],\n",
       "    [1883, 113],\n",
       "    [1871, 109],\n",
       "    [1861, 104],\n",
       "    [1849, 99],\n",
       "    [1847, 97],\n",
       "    [1842, 88],\n",
       "    [1841, 85],\n",
       "    [1840, 74],\n",
       "    [1825, 48],\n",
       "    [1824, 41],\n",
       "    [1823, 37],\n",
       "    [1818, 31],\n",
       "    [1813, 27],\n",
       "    [1805, 22],\n",
       "    [1801, 21],\n",
       "    [1792, 19],\n",
       "    [1785, 17],\n",
       "    [1779, 14],\n",
       "    [1769, 8]]},\n",
       "  {'label': 'terrain',\n",
       "   'polygon': [[814, 500], [813, 508], [876, 511], [877, 500], [817, 498]]},\n",
       "  {'label': 'terrain',\n",
       "   'polygon': [[377, 479], [344, 485], [585, 496], [593, 491]]},\n",
       "  {'label': 'ego vehicle',\n",
       "   'polygon': [[271, 1023],\n",
       "    [387, 1009],\n",
       "    [549, 993],\n",
       "    [821, 966],\n",
       "    [1082, 950],\n",
       "    [1142, 947],\n",
       "    [1112, 932],\n",
       "    [1096, 896],\n",
       "    [1108, 861],\n",
       "    [1137, 844],\n",
       "    [1175, 844],\n",
       "    [1204, 867],\n",
       "    [1209, 897],\n",
       "    [1195, 931],\n",
       "    [1161, 945],\n",
       "    [1376, 957],\n",
       "    [1654, 977],\n",
       "    [1883, 1002],\n",
       "    [2028, 1023]]},\n",
       "  {'label': 'out of roi',\n",
       "   'polygon': [[0, 0],\n",
       "    [2048, 0],\n",
       "    [2048, 1024],\n",
       "    [0, 1024],\n",
       "    [0, 0],\n",
       "    [5, 5],\n",
       "    [5, 1019],\n",
       "    [2043, 1019],\n",
       "    [2043, 5],\n",
       "    [5, 5]]}]}"
      ]
     },
     "execution_count": 85,
     "metadata": {},
     "output_type": "execute_result"
    }
   ],
   "source": [
    "mask"
   ]
  },
  {
   "cell_type": "code",
   "execution_count": 2,
   "metadata": {},
   "outputs": [
    {
     "name": "stdout",
     "output_type": "stream",
     "text": [
      "Collecting dotmap\n",
      "  Downloading dotmap-1.3.30-py3-none-any.whl (11 kB)\n",
      "Installing collected packages: dotmap\n",
      "Successfully installed dotmap-1.3.30\n"
     ]
    }
   ],
   "source": [
    "!pip install dotmap"
   ]
  },
  {
   "cell_type": "code",
   "execution_count": 3,
   "metadata": {},
   "outputs": [],
   "source": [
    "\n",
    "import torch\n",
    "import torch.nn as nn\n",
    "import torch.nn.functional as F\n",
    "from pcs.utils.torchutils import grad_reverse\n",
    "from torch.autograd import Function\n",
    "from torchvision import models\n",
    "class CosineClassifier(nn.Module):\n",
    "    def __init__(self, num_class=64, inc=4096, temp=0.05):\n",
    "        super(CosineClassifier, self).__init__()\n",
    "        self.fc = nn.Linear(inc, num_class, bias=False)\n",
    "        self.num_class = num_class\n",
    "        self.temp = temp\n",
    "\n",
    "    def forward(self, x, reverse=False, eta=0.1):\n",
    "        self.normalize_fc()\n",
    "\n",
    "        if reverse:\n",
    "            x = grad_reverse(x, eta)\n",
    "        x = F.normalize(x)\n",
    "        x_out = self.fc(x)\n",
    "        x_out = x_out / self.temp\n",
    "\n",
    "        return x_out\n",
    "\n",
    "    def normalize_fc(self):\n",
    "        self.fc.weight.data = F.normalize(self.fc.weight.data, p=2, eps=1e-12, dim=1)\n",
    "\n",
    "    @torch.no_grad()\n",
    "    def compute_discrepancy(self):\n",
    "        self.normalize_fc()\n",
    "        W = self.fc.weight.data\n",
    "        D = torch.mm(W, W.transpose(0, 1))\n",
    "        D_mask = 1 - torch.eye(self.num_class).cuda()\n",
    "        return torch.sum(D * D_mask).item()"
   ]
  },
  {
   "cell_type": "code",
   "execution_count": 19,
   "metadata": {},
   "outputs": [],
   "source": [
    "\n",
    "def weights_init(model):\n",
    "    for layer in model.modules():\n",
    "        if isinstance(layer, torch.nn.Conv2d):\n",
    "            torch.nn.init.kaiming_normal_(\n",
    "                layer.weight, mode=\"fan_out\", nonlinearity=\"relu\"\n",
    "            )\n",
    "            if layer.bias is not None:\n",
    "                torch.nn.init.constant_(layer.bias, val=0.0)\n",
    "        elif isinstance(layer, torch.nn.BatchNorm2d):\n",
    "            torch.nn.init.constant_(layer.weight, val=1.0)\n",
    "            torch.nn.init.constant_(layer.bias, val=0.0)\n",
    "        elif isinstance(layer, torch.nn.Linear):\n",
    "            torch.nn.init.xavier_normal_(layer.weight)\n",
    "            if layer.bias is not None:\n",
    "                torch.nn.init.constant_(layer.bias, val=0.0)"
   ]
  },
  {
   "cell_type": "code",
   "execution_count": 29,
   "metadata": {},
   "outputs": [
    {
     "name": "stdout",
     "output_type": "stream",
     "text": [
      "torch.Size([640, 512])\n"
     ]
    }
   ],
   "source": [
    "def convert_image_to_regions(feature):\n",
    "    batch_size, img_embedding_rows, img_embedding_cols, img_embedding_dim = feature.shape\n",
    "    regions = feature.reshape(batch_size* img_embedding_rows* img_embedding_cols, img_embedding_dim)\n",
    "    return regions\n",
    "\n",
    "fearuer = torch.randn(10,  8, 8, 512)\n",
    "print(convert_image_to_regions(fearuer).shape)\n",
    "\n"
   ]
  },
  {
   "cell_type": "code",
   "execution_count": 27,
   "metadata": {},
   "outputs": [
    {
     "data": {
      "text/plain": [
       "torch.Size([1, 512])"
      ]
     },
     "execution_count": 27,
     "metadata": {},
     "output_type": "execute_result"
    }
   ],
   "source": [
    "def initialize_centroids(feat, batch_size, klist, cosine_classifier):\n",
    "    lbd = cosine_classifier(feat)\n",
    "    #lbd = lbd.reshape(batch_size, 64, 30)\n",
    "    assert lbd.shape == (batch_size, 64, 30) \n",
    "    lbd = lbd.reshape(batch_size, 64, 30)\n",
    "    lbd = lbd.reshape(batch_size*64, 30)\n",
    "    \n",
    "    masks = lbd\n",
    "    embeddings = feat.reshape(batch_size* 64, 512)\n",
    "    \n",
    "    unique_labels = torch.unique(lbd, dim=0)\n",
    "    keys = np.arange(30)\n",
    "    \n",
    "        \n",
    "    \n",
    "    indices = [torch.nonzero(masks[:, i], as_tuple=False) for i in range(masks.shape[1])]\n",
    "\n",
    "    embeddings_list = [embeddings[indices[i]] for i in range(len(indices))]\n",
    "  \n",
    "    embeddings_list = [embeddings_list[i].float() for i in range(len(embeddings_list))]\n",
    "    mean_embeddings = []\n",
    "    mean_embeddings = [torch.mean(embeddings_list[i], dim=0) for i in range(len(embeddings_list))]\n",
    "    \n",
    "    \n",
    "    # print(mean_embeddings)\n",
    "    #dictionary_indices = dict(zip(keys, indices))\n",
    "    dictionary_mean = dict(zip(keys, mean_embeddings))\n",
    "    if len(unique_labels) < 30:\n",
    "    \n",
    "        for i in range(30):\n",
    "            if i not in unique_labels:\n",
    "                #assign random embedding\n",
    "                dictionary_mean[i] = torch.rand(512)\n",
    "    nparray = np.array(list(dictionary_mean.values()))\n",
    "    return nparray\n",
    "\n",
    "feat = torch.rand(1, 64, 512)\n",
    "cls_head = CosineClassifier(\n",
    "    num_class=30, inc=512, temp=0.05)\n",
    "\n",
    "weights_init(cls_head)\n",
    "dictio = initialize_centroids(feat, 1, 30, cls_head)\n",
    "dictio[0].shape"
   ]
  },
  {
   "cell_type": "code",
   "execution_count": 5,
   "metadata": {},
   "outputs": [
    {
     "data": {
      "text/plain": [
       "tensor([0.9283, 0.2287, 0.6134])"
      ]
     },
     "execution_count": 5,
     "metadata": {},
     "output_type": "execute_result"
    }
   ],
   "source": [
    "torch.rand(3)"
   ]
  },
  {
   "cell_type": "code",
   "execution_count": null,
   "metadata": {},
   "outputs": [],
   "source": []
  }
 ],
 "metadata": {
  "kernelspec": {
   "display_name": "Python 3.9.12 ('base')",
   "language": "python",
   "name": "python3"
  },
  "language_info": {
   "codemirror_mode": {
    "name": "ipython",
    "version": 3
   },
   "file_extension": ".py",
   "mimetype": "text/x-python",
   "name": "python",
   "nbconvert_exporter": "python",
   "pygments_lexer": "ipython3",
   "version": "3.9.12"
  },
  "orig_nbformat": 4,
  "vscode": {
   "interpreter": {
    "hash": "28264cdf5c735ba6e8f6c3a0665207cafefd0d52a0fc03af51169fe42f9ee080"
   }
  }
 },
 "nbformat": 4,
 "nbformat_minor": 2
}
